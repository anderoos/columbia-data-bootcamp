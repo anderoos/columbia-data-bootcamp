{
 "cells": [
  {
   "cell_type": "code",
   "execution_count": 1,
   "id": "initial_id",
   "metadata": {
    "collapsed": true,
    "ExecuteTime": {
     "end_time": "2023-12-21T03:01:07.646414Z",
     "start_time": "2023-12-21T03:01:05.584770Z"
    }
   },
   "outputs": [],
   "source": [
    "# import libraries\n",
    "import pandas as pd\n"
   ]
  },
  {
   "cell_type": "code",
   "execution_count": 2,
   "outputs": [
    {
     "name": "stderr",
     "output_type": "stream",
     "text": [
      "/var/folders/_j/g4pw0jf17gq2w8c26hbhq5l80000gn/T/ipykernel_68872/3338798162.py:2: DtypeWarning: Columns (7) have mixed types. Specify dtype option on import or set low_memory=False.\n",
      "  df_nov23 = pd.read_csv('Resources/202311-citibike-tripdata.csv')\n",
      "/var/folders/_j/g4pw0jf17gq2w8c26hbhq5l80000gn/T/ipykernel_68872/3338798162.py:3: DtypeWarning: Columns (5,7) have mixed types. Specify dtype option on import or set low_memory=False.\n",
      "  df_nov22 = pd.read_csv('Resources/202211-citibike-tripdata.csv')\n"
     ]
    },
    {
     "data": {
      "text/plain": "          start_lat     start_lng       end_lat       end_lng\ncount  5.347842e+06  5.347842e+06  5.344406e+06  5.344406e+06\nmean   4.074027e+01 -7.397304e+01  4.074014e+01 -7.397320e+01\nstd    3.990409e-02  2.765415e-02  3.979076e-02  2.762474e-02\nmin    4.061040e+01 -7.402866e+01  4.057000e+01 -7.428000e+01\n25%    4.071576e+01 -7.399239e+01  4.071582e+01 -7.399257e+01\n50%    4.073945e+01 -7.398069e+01  4.073936e+01 -7.398093e+01\n75%    4.076313e+01 -7.395703e+01  4.076303e+01 -7.395714e+01\nmax    4.088654e+01 -7.381466e+01  4.117000e+01 -7.368000e+01",
      "text/html": "<div>\n<style scoped>\n    .dataframe tbody tr th:only-of-type {\n        vertical-align: middle;\n    }\n\n    .dataframe tbody tr th {\n        vertical-align: top;\n    }\n\n    .dataframe thead th {\n        text-align: right;\n    }\n</style>\n<table border=\"1\" class=\"dataframe\">\n  <thead>\n    <tr style=\"text-align: right;\">\n      <th></th>\n      <th>start_lat</th>\n      <th>start_lng</th>\n      <th>end_lat</th>\n      <th>end_lng</th>\n    </tr>\n  </thead>\n  <tbody>\n    <tr>\n      <th>count</th>\n      <td>5.347842e+06</td>\n      <td>5.347842e+06</td>\n      <td>5.344406e+06</td>\n      <td>5.344406e+06</td>\n    </tr>\n    <tr>\n      <th>mean</th>\n      <td>4.074027e+01</td>\n      <td>-7.397304e+01</td>\n      <td>4.074014e+01</td>\n      <td>-7.397320e+01</td>\n    </tr>\n    <tr>\n      <th>std</th>\n      <td>3.990409e-02</td>\n      <td>2.765415e-02</td>\n      <td>3.979076e-02</td>\n      <td>2.762474e-02</td>\n    </tr>\n    <tr>\n      <th>min</th>\n      <td>4.061040e+01</td>\n      <td>-7.402866e+01</td>\n      <td>4.057000e+01</td>\n      <td>-7.428000e+01</td>\n    </tr>\n    <tr>\n      <th>25%</th>\n      <td>4.071576e+01</td>\n      <td>-7.399239e+01</td>\n      <td>4.071582e+01</td>\n      <td>-7.399257e+01</td>\n    </tr>\n    <tr>\n      <th>50%</th>\n      <td>4.073945e+01</td>\n      <td>-7.398069e+01</td>\n      <td>4.073936e+01</td>\n      <td>-7.398093e+01</td>\n    </tr>\n    <tr>\n      <th>75%</th>\n      <td>4.076313e+01</td>\n      <td>-7.395703e+01</td>\n      <td>4.076303e+01</td>\n      <td>-7.395714e+01</td>\n    </tr>\n    <tr>\n      <th>max</th>\n      <td>4.088654e+01</td>\n      <td>-7.381466e+01</td>\n      <td>4.117000e+01</td>\n      <td>-7.368000e+01</td>\n    </tr>\n  </tbody>\n</table>\n</div>"
     },
     "execution_count": 2,
     "metadata": {},
     "output_type": "execute_result"
    }
   ],
   "source": [
    "# Read in datasets\n",
    "df_nov23 = pd.read_csv('Resources/202311-citibike-tripdata.csv')\n",
    "df_nov22 = pd.read_csv('Resources/202211-citibike-tripdata.csv')\n",
    "\n",
    "# Concat into one frame\n",
    "df_primary = pd.concat([df_nov22, df_nov23])\n",
    "df_primary.describe()"
   ],
   "metadata": {
    "collapsed": false,
    "ExecuteTime": {
     "end_time": "2023-12-21T03:01:18.999538Z",
     "start_time": "2023-12-21T03:01:07.648093Z"
    }
   },
   "id": "f571b0eee7c731fa"
  },
  {
   "cell_type": "code",
   "execution_count": 5,
   "outputs": [
    {
     "data": {
      "text/plain": "            ride_id rideable_type           started_at             ended_at  \\\n0  211A73DFC6752EFC  classic_bike  2022-11-30 21:36:23  2022-11-30 21:49:31   \n1  568E7F54B3EFB8C3  classic_bike  2022-11-20 11:06:30  2022-11-20 11:17:18   \n2  0ED37DE3609F47A1  classic_bike  2022-11-17 09:48:34  2022-11-17 09:56:14   \n3  AF0F9BAB2B4AA126  classic_bike  2022-11-02 12:23:36  2022-11-02 12:26:35   \n4  215FF85772BA2D2B  classic_bike  2022-11-07 16:46:20  2022-11-07 16:54:16   \n\n           start_station_name start_station_id  \\\n0             2 Ave & E 29 St          6122.09   \n1       E 97 St & Madison Ave          7393.09   \n2       E 97 St & Madison Ave          7393.09   \n3  Morningside Ave & W 123 St          7741.01   \n4             2 Ave & E 29 St          6122.09   \n\n                      end_station_name end_station_id  start_lat  start_lng  \\\n0                 Pitt St & Stanton St        5406.04  40.741724 -73.978093   \n1                      E 74 St & 1 Ave        6953.08  40.787826 -73.953423   \n2  Adam Clayton Powell Blvd & W 118 St        7670.09  40.787899 -73.953396   \n3  Adam Clayton Powell Blvd & W 118 St        7670.09  40.809931 -73.955209   \n4                      W 13 St & 5 Ave        5947.04  40.741803 -73.978004   \n\n     end_lat    end_lng member_casual  \n0  40.719261 -73.981780        member  \n1  40.768974 -73.954823        member  \n2  40.804372 -73.951475        member  \n3  40.804372 -73.951475        member  \n4  40.735445 -73.994310        member  ",
      "text/html": "<div>\n<style scoped>\n    .dataframe tbody tr th:only-of-type {\n        vertical-align: middle;\n    }\n\n    .dataframe tbody tr th {\n        vertical-align: top;\n    }\n\n    .dataframe thead th {\n        text-align: right;\n    }\n</style>\n<table border=\"1\" class=\"dataframe\">\n  <thead>\n    <tr style=\"text-align: right;\">\n      <th></th>\n      <th>ride_id</th>\n      <th>rideable_type</th>\n      <th>started_at</th>\n      <th>ended_at</th>\n      <th>start_station_name</th>\n      <th>start_station_id</th>\n      <th>end_station_name</th>\n      <th>end_station_id</th>\n      <th>start_lat</th>\n      <th>start_lng</th>\n      <th>end_lat</th>\n      <th>end_lng</th>\n      <th>member_casual</th>\n    </tr>\n  </thead>\n  <tbody>\n    <tr>\n      <th>0</th>\n      <td>211A73DFC6752EFC</td>\n      <td>classic_bike</td>\n      <td>2022-11-30 21:36:23</td>\n      <td>2022-11-30 21:49:31</td>\n      <td>2 Ave &amp; E 29 St</td>\n      <td>6122.09</td>\n      <td>Pitt St &amp; Stanton St</td>\n      <td>5406.04</td>\n      <td>40.741724</td>\n      <td>-73.978093</td>\n      <td>40.719261</td>\n      <td>-73.981780</td>\n      <td>member</td>\n    </tr>\n    <tr>\n      <th>1</th>\n      <td>568E7F54B3EFB8C3</td>\n      <td>classic_bike</td>\n      <td>2022-11-20 11:06:30</td>\n      <td>2022-11-20 11:17:18</td>\n      <td>E 97 St &amp; Madison Ave</td>\n      <td>7393.09</td>\n      <td>E 74 St &amp; 1 Ave</td>\n      <td>6953.08</td>\n      <td>40.787826</td>\n      <td>-73.953423</td>\n      <td>40.768974</td>\n      <td>-73.954823</td>\n      <td>member</td>\n    </tr>\n    <tr>\n      <th>2</th>\n      <td>0ED37DE3609F47A1</td>\n      <td>classic_bike</td>\n      <td>2022-11-17 09:48:34</td>\n      <td>2022-11-17 09:56:14</td>\n      <td>E 97 St &amp; Madison Ave</td>\n      <td>7393.09</td>\n      <td>Adam Clayton Powell Blvd &amp; W 118 St</td>\n      <td>7670.09</td>\n      <td>40.787899</td>\n      <td>-73.953396</td>\n      <td>40.804372</td>\n      <td>-73.951475</td>\n      <td>member</td>\n    </tr>\n    <tr>\n      <th>3</th>\n      <td>AF0F9BAB2B4AA126</td>\n      <td>classic_bike</td>\n      <td>2022-11-02 12:23:36</td>\n      <td>2022-11-02 12:26:35</td>\n      <td>Morningside Ave &amp; W 123 St</td>\n      <td>7741.01</td>\n      <td>Adam Clayton Powell Blvd &amp; W 118 St</td>\n      <td>7670.09</td>\n      <td>40.809931</td>\n      <td>-73.955209</td>\n      <td>40.804372</td>\n      <td>-73.951475</td>\n      <td>member</td>\n    </tr>\n    <tr>\n      <th>4</th>\n      <td>215FF85772BA2D2B</td>\n      <td>classic_bike</td>\n      <td>2022-11-07 16:46:20</td>\n      <td>2022-11-07 16:54:16</td>\n      <td>2 Ave &amp; E 29 St</td>\n      <td>6122.09</td>\n      <td>W 13 St &amp; 5 Ave</td>\n      <td>5947.04</td>\n      <td>40.741803</td>\n      <td>-73.978004</td>\n      <td>40.735445</td>\n      <td>-73.994310</td>\n      <td>member</td>\n    </tr>\n  </tbody>\n</table>\n</div>"
     },
     "execution_count": 5,
     "metadata": {},
     "output_type": "execute_result"
    }
   ],
   "source": [
    "# Data preview\n",
    "df_primary.head()"
   ],
   "metadata": {
    "collapsed": false,
    "ExecuteTime": {
     "end_time": "2023-12-21T03:03:49.291243Z",
     "start_time": "2023-12-21T03:03:49.286588Z"
    }
   },
   "id": "35c94e90a3c8ed39"
  },
  {
   "cell_type": "code",
   "execution_count": null,
   "outputs": [],
   "source": [
    "# Data Cleaning\n",
    "df_primary.drop(\"ride_id\", inplace=True)\n"
   ],
   "metadata": {
    "collapsed": false
   },
   "id": "5e34cf5d2642b6c0"
  }
 ],
 "metadata": {
  "kernelspec": {
   "display_name": "Python 3",
   "language": "python",
   "name": "python3"
  },
  "language_info": {
   "codemirror_mode": {
    "name": "ipython",
    "version": 2
   },
   "file_extension": ".py",
   "mimetype": "text/x-python",
   "name": "python",
   "nbconvert_exporter": "python",
   "pygments_lexer": "ipython2",
   "version": "2.7.6"
  }
 },
 "nbformat": 4,
 "nbformat_minor": 5
}

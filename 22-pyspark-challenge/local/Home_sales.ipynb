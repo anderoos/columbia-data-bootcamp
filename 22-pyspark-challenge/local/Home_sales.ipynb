{
 "cells": [
  {
   "cell_type": "code",
   "execution_count": 1,
   "metadata": {
    "colab": {
     "base_uri": "https://localhost:8080/"
    },
    "id": "a_KW73O2e3dw",
    "outputId": "fa5fd2b3-e2de-491b-ee1c-405317ba7ebc",
    "ExecuteTime": {
     "end_time": "2024-01-25T18:33:32.485513Z",
     "start_time": "2024-01-25T18:33:32.382815Z"
    }
   },
   "outputs": [],
   "source": [
    "# Import findspark and initialize. \n",
    "import findspark\n",
    "findspark.init()"
   ]
  },
  {
   "cell_type": "code",
   "execution_count": 2,
   "outputs": [
    {
     "name": "stdout",
     "output_type": "stream",
     "text": [
      "3.5.0\n",
      "java version \"21.0.2\" 2024-01-16 LTS\r\n",
      "Java(TM) SE Runtime Environment (build 21.0.2+13-LTS-58)\r\n",
      "Java HotSpot(TM) 64-Bit Server VM (build 21.0.2+13-LTS-58, mixed mode, sharing)\r\n"
     ]
    }
   ],
   "source": [
    "import pyspark\n",
    "print(pyspark.__version__)\n",
    "!java -version"
   ],
   "metadata": {
    "collapsed": false,
    "ExecuteTime": {
     "end_time": "2024-01-25T18:33:33.041119Z",
     "start_time": "2024-01-25T18:33:32.484749Z"
    }
   }
  },
  {
   "cell_type": "code",
   "execution_count": 3,
   "metadata": {
    "id": "2XbWNf1Te5fM",
    "ExecuteTime": {
     "end_time": "2024-01-25T18:33:37.464916Z",
     "start_time": "2024-01-25T18:33:35.250957Z"
    }
   },
   "outputs": [
    {
     "name": "stderr",
     "output_type": "stream",
     "text": [
      "24/01/25 13:33:36 WARN Utils: Your hostname, Andrews-MacBook-Pro.local resolves to a loopback address: 127.0.0.1; using 192.168.4.202 instead (on interface en0)\n",
      "24/01/25 13:33:36 WARN Utils: Set SPARK_LOCAL_IP if you need to bind to another address\n",
      "Setting default log level to \"WARN\".\n",
      "To adjust logging level use sc.setLogLevel(newLevel). For SparkR, use setLogLevel(newLevel).\n",
      "24/01/25 13:33:36 WARN NativeCodeLoader: Unable to load native-hadoop library for your platform... using builtin-java classes where applicable\n"
     ]
    }
   ],
   "source": [
    "# Import packages\n",
    "from pyspark.sql import SparkSession\n",
    "import time\n",
    "\n",
    "# Create a SparkSession\n",
    "spark = SparkSession.builder\\\n",
    "         .appName(\"SparkSQL\")\\\n",
    "         .getOrCreate()"
   ]
  },
  {
   "cell_type": "code",
   "execution_count": 4,
   "metadata": {
    "colab": {
     "base_uri": "https://localhost:8080/"
    },
    "id": "wOJqxG_RPSwp",
    "outputId": "7857ef9f-5b04-405d-f5aa-e535dfe7870c",
    "ExecuteTime": {
     "end_time": "2024-01-25T18:33:44.123247Z",
     "start_time": "2024-01-25T18:33:40.742750Z"
    }
   },
   "outputs": [],
   "source": [
    "# 1. Read in the AWS S3 bucket into a DataFrame.\n",
    "from pyspark import SparkFiles\n",
    "url = \"https://2u-data-curriculum-team.s3.amazonaws.com/dataviz-classroom/v1.2/22-big-data/home_sales_revised.csv\"\n",
    "\n",
    "spark.sparkContext.addFile(url)\n",
    "\n",
    "home_sales_df = spark.read\\\n",
    "    .option('header', True)\\\n",
    "    .option('delimiter', ',')\\\n",
    "    .option('inferSchema', True)\\\n",
    "    .csv(SparkFiles.get('home_sales_revised.csv'))"
   ]
  },
  {
   "cell_type": "code",
   "execution_count": 5,
   "outputs": [
    {
     "name": "stdout",
     "output_type": "stream",
     "text": [
      "+--------------------+----------+----------+------+--------+---------+-----------+--------+------+----------+----+\n",
      "|                  id|      date|date_built| price|bedrooms|bathrooms|sqft_living|sqft_lot|floors|waterfront|view|\n",
      "+--------------------+----------+----------+------+--------+---------+-----------+--------+------+----------+----+\n",
      "|f8a53099-ba1c-47d...|2022-04-08|      2016|936923|       4|        3|       3167|   11733|     2|         1|  76|\n",
      "|7530a2d8-1ae3-451...|2021-06-13|      2013|379628|       2|        2|       2235|   14384|     1|         0|  23|\n",
      "|43de979c-0bf0-4c9...|2019-04-12|      2014|417866|       2|        2|       2127|   10575|     2|         0|   0|\n",
      "|b672c137-b88c-48b...|2019-10-16|      2016|239895|       2|        2|       1631|   11149|     2|         0|   0|\n",
      "|e0726d4d-d595-407...|2022-01-08|      2017|424418|       3|        2|       2249|   13878|     2|         0|   4|\n",
      "+--------------------+----------+----------+------+--------+---------+-----------+--------+------+----------+----+\n"
     ]
    }
   ],
   "source": [
    "# Preview dataframe\n",
    "home_sales_df.show(5)"
   ],
   "metadata": {
    "collapsed": false,
    "ExecuteTime": {
     "end_time": "2024-01-25T18:33:48.232978Z",
     "start_time": "2024-01-25T18:33:48.054391Z"
    }
   }
  },
  {
   "cell_type": "code",
   "execution_count": 6,
   "outputs": [
    {
     "name": "stdout",
     "output_type": "stream",
     "text": [
      "root\n",
      " |-- id: string (nullable = true)\n",
      " |-- date: date (nullable = true)\n",
      " |-- date_built: integer (nullable = true)\n",
      " |-- price: integer (nullable = true)\n",
      " |-- bedrooms: integer (nullable = true)\n",
      " |-- bathrooms: integer (nullable = true)\n",
      " |-- sqft_living: integer (nullable = true)\n",
      " |-- sqft_lot: integer (nullable = true)\n",
      " |-- floors: integer (nullable = true)\n",
      " |-- waterfront: integer (nullable = true)\n",
      " |-- view: integer (nullable = true)\n"
     ]
    }
   ],
   "source": [
    "home_sales_df.printSchema()"
   ],
   "metadata": {
    "collapsed": false,
    "ExecuteTime": {
     "end_time": "2024-01-25T18:33:48.436140Z",
     "start_time": "2024-01-25T18:33:48.433422Z"
    }
   }
  },
  {
   "cell_type": "code",
   "execution_count": 7,
   "metadata": {
    "id": "RoljcJ7WPpnm",
    "ExecuteTime": {
     "end_time": "2024-01-25T18:33:48.907956Z",
     "start_time": "2024-01-25T18:33:48.886621Z"
    }
   },
   "outputs": [],
   "source": [
    "# 2. Create a temporary view of the DataFrame.\n",
    "home_sales_df.createTempView('home_sales')"
   ]
  },
  {
   "cell_type": "code",
   "execution_count": 8,
   "metadata": {
    "colab": {
     "base_uri": "https://localhost:8080/"
    },
    "id": "L6fkwOeOmqvq",
    "outputId": "bdded620-79c4-488d-c7a5-91c6799c419e",
    "ExecuteTime": {
     "end_time": "2024-01-25T18:33:49.841181Z",
     "start_time": "2024-01-25T18:33:49.218734Z"
    }
   },
   "outputs": [
    {
     "name": "stdout",
     "output_type": "stream",
     "text": [
      "+----+--------+---------+\n",
      "|Year|bedrooms|AVG_PRICE|\n",
      "+----+--------+---------+\n",
      "|2022|       4|296363.88|\n",
      "|2020|       4|298353.78|\n",
      "|2019|       4| 300263.7|\n",
      "|2021|       4|301819.44|\n",
      "+----+--------+---------+\n"
     ]
    }
   ],
   "source": [
    "# 3. What is the average price for a four bedroom house sold in each year rounded to two decimal places?\n",
    "from pyspark.sql.functions import year\n",
    "from pyspark.sql.functions import round, avg\n",
    "\n",
    "home_sales_df = home_sales_df.withColumn(\"Year\", year(home_sales_df.date))\n",
    "\n",
    "home_sales_df.filter(home_sales_df.bedrooms == 4)\\\n",
    "    .select(['bedrooms', year(home_sales_df.date).alias('Year'), 'price']) \\\n",
    "    .groupBy('Year', 'bedrooms')\\\n",
    "    .agg(round(avg('price'), 2).alias('AVG_PRICE'))\\\n",
    "    .orderBy('AVG_PRICE')\\\n",
    "    .show()\n"
   ]
  },
  {
   "cell_type": "code",
   "execution_count": 9,
   "outputs": [
    {
     "name": "stdout",
     "output_type": "stream",
     "text": [
      "+--------+----+---------+\n",
      "|bedrooms|YEAR|AVG_PRICE|\n",
      "+--------+----+---------+\n",
      "|4       |2020|298353.78|\n",
      "|4       |2019|300263.7 |\n",
      "|4       |2022|296363.88|\n",
      "|4       |2021|301819.44|\n",
      "+--------+----+---------+\n"
     ]
    }
   ],
   "source": [
    "# 3b. PySpark with SQL\n",
    "query = '''SELECT bedrooms, YEAR(date) as YEAR, ROUND(AVG(price), 2) as AVG_PRICE \n",
    "    FROM home_sales \n",
    "    WHERE bedrooms = 4 \n",
    "    GROUP BY YEAR, bedrooms'''\n",
    "\n",
    "spark.sql(query).show(truncate=False)"
   ],
   "metadata": {
    "collapsed": false,
    "ExecuteTime": {
     "end_time": "2024-01-25T18:33:50.124097Z",
     "start_time": "2024-01-25T18:33:49.842620Z"
    }
   }
  },
  {
   "cell_type": "code",
   "execution_count": 10,
   "metadata": {
    "colab": {
     "base_uri": "https://localhost:8080/"
    },
    "id": "l8p_tUS8h8it",
    "outputId": "65806e5f-6262-41c0-ff65-5107464e5c4d",
    "ExecuteTime": {
     "end_time": "2024-01-25T18:33:50.774203Z",
     "start_time": "2024-01-25T18:33:50.512291Z"
    }
   },
   "outputs": [
    {
     "name": "stdout",
     "output_type": "stream",
     "text": [
      "+----------+---------+\n",
      "|date_built|AVG_PRICE|\n",
      "+----------+---------+\n",
      "|      2015| 288770.3|\n",
      "|      2016|290555.07|\n",
      "|      2014|290852.27|\n",
      "|      2011|291117.47|\n",
      "|      2017|292676.79|\n",
      "|      2010|292859.62|\n",
      "|      2012|293683.19|\n",
      "|      2013|295962.27|\n",
      "+----------+---------+\n"
     ]
    }
   ],
   "source": [
    "# 4. What is the average price of a home for each year the home was built that have 3 bedrooms and 3 bathrooms rounded to two decimal places?\n",
    "home_sales_df.filter((home_sales_df.bedrooms == 3) & (home_sales_df.bathrooms == 3)) \\\n",
    "    .groupBy('date_built') \\\n",
    "    .agg(round(avg(\"price\"), 2).alias(\"AVG_PRICE\")) \\\n",
    "    .orderBy('AVG_PRICE') \\\n",
    "    .show()"
   ]
  },
  {
   "cell_type": "code",
   "execution_count": 11,
   "outputs": [
    {
     "name": "stdout",
     "output_type": "stream",
     "text": [
      "+----------+---------+\n",
      "|date_built|AVG_PRICE|\n",
      "+----------+---------+\n",
      "|2015      |288770.3 |\n",
      "|2013      |295962.27|\n",
      "|2014      |290852.27|\n",
      "|2012      |293683.19|\n",
      "|2016      |290555.07|\n",
      "|2010      |292859.62|\n",
      "|2011      |291117.47|\n",
      "|2017      |292676.79|\n",
      "+----------+---------+\n"
     ]
    }
   ],
   "source": [
    "# 4b\n",
    "query = '''SELECT date_built, ROUND(AVG(price), 2) as AVG_PRICE\n",
    "FROM home_sales\n",
    "WHERE bedrooms = 3 AND bathrooms = 3\n",
    "GROUP BY date_built \n",
    "'''\n",
    "\n",
    "spark.sql(query).show(truncate=False)"
   ],
   "metadata": {
    "collapsed": false,
    "ExecuteTime": {
     "end_time": "2024-01-25T18:33:51.305430Z",
     "start_time": "2024-01-25T18:33:51.137944Z"
    }
   }
  },
  {
   "cell_type": "code",
   "execution_count": 12,
   "metadata": {
    "colab": {
     "base_uri": "https://localhost:8080/"
    },
    "id": "Y-Eytz64liDU",
    "outputId": "17119810-56ad-40c3-de5e-c3db57e43bcc",
    "ExecuteTime": {
     "end_time": "2024-01-25T18:33:52.074788Z",
     "start_time": "2024-01-25T18:33:51.887242Z"
    }
   },
   "outputs": [
    {
     "name": "stdout",
     "output_type": "stream",
     "text": [
      "+----+---------+\n",
      "|YEAR|AVG_PRICE|\n",
      "+----+---------+\n",
      "|2022|290242.99|\n",
      "|2019|289859.14|\n",
      "|2020|292289.09|\n",
      "|2021|296330.96|\n",
      "+----+---------+\n"
     ]
    }
   ],
   "source": [
    "#  5. What is the average price of a home for each year built that have 3 bedrooms, 3 bathrooms, with two floors,\n",
    "# and are greater than or equal to 2,000 square feet rounded to two decimal places?\n",
    "\n",
    "home_sales_df.filter((home_sales_df.bedrooms == 3) & \n",
    "                     (home_sales_df.bathrooms == 3) & \n",
    "                     (home_sales_df.floors == 2) & \n",
    "                     (home_sales_df.sqft_living >= 2000))\\\n",
    "    .select(year(home_sales_df.date).alias('YEAR'), \n",
    "            'price')\\\n",
    "    .groupBy('YEAR')\\\n",
    "    .agg(round(avg('price'), 2).alias('AVG_PRICE'))\\\n",
    "    .show()\n"
   ]
  },
  {
   "cell_type": "code",
   "execution_count": 13,
   "outputs": [
    {
     "name": "stdout",
     "output_type": "stream",
     "text": [
      "+----+---------+\n",
      "|YEAR|AVG_PRICE|\n",
      "+----+---------+\n",
      "|2022|290242.99|\n",
      "|2019|289859.14|\n",
      "|2020|292289.09|\n",
      "|2021|296330.96|\n",
      "+----+---------+\n"
     ]
    }
   ],
   "source": [
    "#5b\n",
    "query = ''' SELECT YEAR(date) as YEAR, ROUND(AVG(PRICE), 2) as AVG_PRICE\n",
    "FROM home_sales\n",
    "WHERE bedrooms = 3 AND bathrooms = 3 AND floors = 2 AND sqft_living >= 2000\n",
    "GROUP BY YEAR\n",
    "'''\n",
    "\n",
    "spark.sql(query).show(truncate=False)"
   ],
   "metadata": {
    "collapsed": false,
    "ExecuteTime": {
     "end_time": "2024-01-25T18:33:52.825790Z",
     "start_time": "2024-01-25T18:33:52.674538Z"
    }
   }
  },
  {
   "cell_type": "code",
   "execution_count": 14,
   "metadata": {
    "colab": {
     "base_uri": "https://localhost:8080/"
    },
    "id": "GUrfgOX1pCRd",
    "outputId": "17c25774-855e-4290-a4bd-a04902bdc13a",
    "ExecuteTime": {
     "end_time": "2024-01-25T18:33:53.646965Z",
     "start_time": "2024-01-25T18:33:53.443088Z"
    }
   },
   "outputs": [
    {
     "name": "stdout",
     "output_type": "stream",
     "text": [
      "+----+---------+\n",
      "|view|AVG_PRICE|\n",
      "+----+---------+\n",
      "|   0|403848.51|\n",
      "|   1|401044.25|\n",
      "|   2|397389.25|\n",
      "|   3| 398867.6|\n",
      "|   4|399631.89|\n",
      "|   5|401471.82|\n",
      "|   6|395655.38|\n",
      "|   7|403005.77|\n",
      "|   8|398592.71|\n",
      "|   9|401393.34|\n",
      "|  10|401868.43|\n",
      "|  11|399548.12|\n",
      "|  12|401501.32|\n",
      "|  13|398917.98|\n",
      "|  14|398570.03|\n",
      "|  15| 404673.3|\n",
      "|  16|399586.53|\n",
      "|  17|398474.49|\n",
      "|  18|399332.91|\n",
      "|  19|398953.17|\n",
      "+----+---------+\n",
      "only showing top 20 rows\n",
      "\n",
      "--- 0.1961808204650879 seconds ---\n"
     ]
    }
   ],
   "source": [
    "# 6. What is the \"view\" rating for the average price of a home, rounded to two decimal places, where the homes are greater than\n",
    "# or equal to $350,000? Although this is a small dataset, determine the run time for this query.\n",
    "start_time = time.time()\n",
    "\n",
    "home_sales_df.filter((home_sales_df.price >= 350_000))\\\n",
    "    .select('price', 'view')\\\n",
    "    .groupBy('view')\\\n",
    "    .agg(round(avg('price'), 2).alias('AVG_PRICE'))\\\n",
    "    .orderBy('view')\\\n",
    "    .show()\n",
    "\n",
    "\n",
    "print(\"--- %s seconds ---\" % (time.time() - start_time))"
   ]
  },
  {
   "cell_type": "code",
   "execution_count": 15,
   "outputs": [
    {
     "name": "stdout",
     "output_type": "stream",
     "text": [
      "+----------+----+\n",
      "| AVG_PRICE|view|\n",
      "+----------+----+\n",
      "| 1026669.5| 100|\n",
      "|1061201.42|  99|\n",
      "|1053739.33|  98|\n",
      "|1129040.15|  97|\n",
      "|1017815.92|  96|\n",
      "| 1054325.6|  95|\n",
      "| 1033536.2|  94|\n",
      "|1026006.06|  93|\n",
      "| 970402.55|  92|\n",
      "|1137372.73|  91|\n",
      "|1062654.16|  90|\n",
      "|1107839.15|  89|\n",
      "|1031719.35|  88|\n",
      "| 1072285.2|  87|\n",
      "|1070444.25|  86|\n",
      "|1056336.74|  85|\n",
      "|1117233.13|  84|\n",
      "|1033965.93|  83|\n",
      "| 1063498.0|  82|\n",
      "|1053472.79|  81|\n",
      "+----------+----+\n",
      "only showing top 20 rows\n",
      "\n",
      "--- 0.15936517715454102 seconds ---\n"
     ]
    }
   ],
   "source": [
    "# 6b\n",
    "start_time = time.time()\n",
    "query = ''' SELECT ROUND(AVG(price),2) AS AVG_PRICE, view\n",
    "FROM home_sales\n",
    "WHERE price >= 350000\n",
    "GROUP BY view\n",
    "ORDER BY view DESC\n",
    "'''\n",
    "\n",
    "spark.sql(query).show()\n",
    "print(\"--- %s seconds ---\" % (time.time() - start_time))"
   ],
   "metadata": {
    "collapsed": false,
    "ExecuteTime": {
     "end_time": "2024-01-25T18:34:17.496906Z",
     "start_time": "2024-01-25T18:34:17.329909Z"
    }
   }
  },
  {
   "cell_type": "code",
   "execution_count": 19,
   "metadata": {
    "colab": {
     "base_uri": "https://localhost:8080/"
    },
    "id": "KAhk3ZD2tFy8",
    "outputId": "0a8f132d-40a8-4bd4-b5f2-2847e98427f5",
    "ExecuteTime": {
     "end_time": "2024-01-25T18:38:24.917361Z",
     "start_time": "2024-01-25T18:38:24.529580Z"
    }
   },
   "outputs": [
    {
     "data": {
      "text/plain": "DataFrame[]"
     },
     "execution_count": 19,
     "metadata": {},
     "output_type": "execute_result"
    }
   ],
   "source": [
    "# 7. Cache the temporary table home_sales.\n",
    "spark.sql('cache table home_sales')"
   ]
  },
  {
   "cell_type": "code",
   "execution_count": 20,
   "metadata": {
    "colab": {
     "base_uri": "https://localhost:8080/"
    },
    "id": "4opVhbvxtL-i",
    "outputId": "38ec8487-795f-4550-b50c-fcc6f2b7c769",
    "ExecuteTime": {
     "end_time": "2024-01-25T18:38:25.539291Z",
     "start_time": "2024-01-25T18:38:25.526934Z"
    }
   },
   "outputs": [
    {
     "data": {
      "text/plain": "True"
     },
     "execution_count": 20,
     "metadata": {},
     "output_type": "execute_result"
    }
   ],
   "source": [
    "# 8. Check if the table is cached.\n",
    "spark.catalog.isCached('home_sales')"
   ]
  },
  {
   "cell_type": "code",
   "execution_count": 21,
   "metadata": {
    "colab": {
     "base_uri": "https://localhost:8080/"
    },
    "id": "5GnL46lwTSEk",
    "outputId": "09a16c73-194d-4371-95d1-ee64fe83b91c",
    "ExecuteTime": {
     "end_time": "2024-01-25T18:38:27.802709Z",
     "start_time": "2024-01-25T18:38:27.677912Z"
    }
   },
   "outputs": [
    {
     "name": "stdout",
     "output_type": "stream",
     "text": [
      "+----+----------+\n",
      "|view|AVG_PRICE |\n",
      "+----+----------+\n",
      "|100 |1026669.5 |\n",
      "|99  |1061201.42|\n",
      "|98  |1053739.33|\n",
      "|97  |1129040.15|\n",
      "|96  |1017815.92|\n",
      "|95  |1054325.6 |\n",
      "|94  |1033536.2 |\n",
      "|93  |1026006.06|\n",
      "|92  |970402.55 |\n",
      "|91  |1137372.73|\n",
      "|90  |1062654.16|\n",
      "|89  |1107839.15|\n",
      "|88  |1031719.35|\n",
      "|87  |1072285.2 |\n",
      "|86  |1070444.25|\n",
      "|85  |1056336.74|\n",
      "|84  |1117233.13|\n",
      "|83  |1033965.93|\n",
      "|82  |1063498.0 |\n",
      "|81  |1053472.79|\n",
      "+----+----------+\n",
      "only showing top 20 rows\n",
      "\n",
      "--- 0.11849379539489746 seconds ---\n"
     ]
    }
   ],
   "source": [
    "# 9. Using the cached data, run the query that filters out the view ratings with average price \n",
    "#  greater than or equal to $350,000. Determine the runtime and compare it to uncached runtime.\n",
    "start_time = time.time()\n",
    "query = \"\"\"\n",
    "SELECT view, ROUND(AVG(price), 2) AS AVG_PRICE\n",
    "FROM home_sales\n",
    "GROUP BY view\n",
    "HAVING AVG_PRICE >= 350000\n",
    "ORDER BY view DESC\n",
    "\"\"\"\n",
    "spark.sql(query).show(truncate=False)\n",
    "\n",
    "print(\"--- %s seconds ---\" % (time.time() - start_time))\n"
   ]
  },
  {
   "cell_type": "code",
   "execution_count": 22,
   "metadata": {
    "id": "Qm12WN9isHBR",
    "ExecuteTime": {
     "end_time": "2024-01-25T18:41:36.678711Z",
     "start_time": "2024-01-25T18:41:35.768852Z"
    }
   },
   "outputs": [
    {
     "name": "stderr",
     "output_type": "stream",
     "text": [
      "                                                                                \r"
     ]
    }
   ],
   "source": [
    "# 10. Partition by the \"date_built\" field on the formatted parquet home sales data \n",
    "home_sales_df.write.partitionBy('date_built')\\\n",
    "    .parquet('home_sales_parquet', mode='overwrite')"
   ]
  },
  {
   "cell_type": "code",
   "execution_count": 23,
   "metadata": {
    "id": "AZ7BgY61sRqY",
    "ExecuteTime": {
     "end_time": "2024-01-25T18:41:38.280803Z",
     "start_time": "2024-01-25T18:41:38.184666Z"
    }
   },
   "outputs": [],
   "source": [
    "# 11. Read the formatted parquet data.\n",
    "home_sales_p_df = spark.read.parquet('home_sales_parquet')"
   ]
  },
  {
   "cell_type": "code",
   "execution_count": 26,
   "metadata": {
    "id": "J6MJkHfvVcvh",
    "ExecuteTime": {
     "end_time": "2024-01-25T19:07:10.761998Z",
     "start_time": "2024-01-25T19:07:10.751143Z"
    }
   },
   "outputs": [],
   "source": [
    "# 12. Create a temporary table for the parquet data.\n",
    "home_sales_p_df.createTempView('home_sales_parq')"
   ]
  },
  {
   "cell_type": "code",
   "execution_count": 27,
   "metadata": {
    "colab": {
     "base_uri": "https://localhost:8080/"
    },
    "id": "G_Vhb52rU1Sn",
    "outputId": "a0b8d0c4-55ed-4c6c-bfd8-4c8c5334838e",
    "ExecuteTime": {
     "end_time": "2024-01-25T19:07:11.430148Z",
     "start_time": "2024-01-25T19:07:11.071005Z"
    }
   },
   "outputs": [
    {
     "name": "stdout",
     "output_type": "stream",
     "text": [
      "+----+----------+\n",
      "|view|AVG_PRICE |\n",
      "+----+----------+\n",
      "|100 |1026669.5 |\n",
      "|99  |1061201.42|\n",
      "|98  |1053739.33|\n",
      "|97  |1129040.15|\n",
      "|96  |1017815.92|\n",
      "|95  |1054325.6 |\n",
      "|94  |1033536.2 |\n",
      "|93  |1026006.06|\n",
      "|92  |970402.55 |\n",
      "|91  |1137372.73|\n",
      "|90  |1062654.16|\n",
      "|89  |1107839.15|\n",
      "|88  |1031719.35|\n",
      "|87  |1072285.2 |\n",
      "|86  |1070444.25|\n",
      "|85  |1056336.74|\n",
      "|84  |1117233.13|\n",
      "|83  |1033965.93|\n",
      "|82  |1063498.0 |\n",
      "|81  |1053472.79|\n",
      "+----+----------+\n",
      "only showing top 20 rows\n",
      "\n",
      "--- 0.33395814895629883 seconds ---\n"
     ]
    }
   ],
   "source": [
    "# 13. Run the query that filters out the view ratings with average price of greater than or eqaul to $350,000 \n",
    "# with the parquet DataFrame. Round your average to two decimal places. \n",
    "# Determine the runtime and compare it to the cached version. \n",
    "\n",
    "start_time = time.time()\n",
    "query = '''\n",
    "SELECT view, ROUND(AVG(price),2) AS AVG_PRICE\n",
    "FROM home_sales_parq\n",
    "GROUP BY view\n",
    "HAVING AVG_PRICE >= 350000\n",
    "ORDER BY view DESC\n",
    "'''\n",
    "spark.sql(query).show(truncate=False)\n",
    "\n",
    "print(\"--- %s seconds ---\" % (time.time() - start_time))"
   ]
  },
  {
   "cell_type": "code",
   "execution_count": 28,
   "metadata": {
    "colab": {
     "base_uri": "https://localhost:8080/"
    },
    "id": "hjjYzQGjtbq8",
    "outputId": "830549fd-bb41-451b-9183-5ebf6e3e470b",
    "ExecuteTime": {
     "end_time": "2024-01-25T19:07:43.134615Z",
     "start_time": "2024-01-25T19:07:43.118989Z"
    }
   },
   "outputs": [
    {
     "data": {
      "text/plain": "DataFrame[]"
     },
     "execution_count": 28,
     "metadata": {},
     "output_type": "execute_result"
    }
   ],
   "source": [
    "# 14. Uncache the home_sales temporary table.\n",
    "spark.sql('uncache table home_sales_parq')"
   ]
  },
  {
   "cell_type": "code",
   "execution_count": 29,
   "metadata": {
    "colab": {
     "base_uri": "https://localhost:8080/"
    },
    "id": "Sy9NBvO7tlmm",
    "outputId": "be73e0e3-5e85-4794-aad9-025fb6fa84a7",
    "ExecuteTime": {
     "end_time": "2024-01-25T19:08:03.385642Z",
     "start_time": "2024-01-25T19:08:03.375874Z"
    }
   },
   "outputs": [
    {
     "data": {
      "text/plain": "False"
     },
     "execution_count": 29,
     "metadata": {},
     "output_type": "execute_result"
    }
   ],
   "source": [
    "# 15. Check if the home_sales is no longer cached\n",
    "spark.catalog.isCached('home_sales_parq')"
   ]
  },
  {
   "cell_type": "code",
   "execution_count": 30,
   "metadata": {
    "ExecuteTime": {
     "end_time": "2024-01-25T19:08:07.746063Z",
     "start_time": "2024-01-25T19:08:07.367494Z"
    }
   },
   "outputs": [],
   "source": [
    "# close session\n",
    "spark.stop()"
   ]
  }
 ],
 "metadata": {
  "colab": {
   "collapsed_sections": [],
   "name": "Copy of Home_Sales_solution.ipynb",
   "provenance": []
  },
  "kernelspec": {
   "display_name": "Python 3 (ipykernel)",
   "language": "python",
   "name": "python3"
  },
  "language_info": {
   "codemirror_mode": {
    "name": "ipython",
    "version": 3
   },
   "file_extension": ".py",
   "mimetype": "text/x-python",
   "name": "python",
   "nbconvert_exporter": "python",
   "pygments_lexer": "ipython3",
   "version": "3.10.4"
  },
  "nteract": {
   "version": "0.28.0"
  }
 },
 "nbformat": 4,
 "nbformat_minor": 1
}

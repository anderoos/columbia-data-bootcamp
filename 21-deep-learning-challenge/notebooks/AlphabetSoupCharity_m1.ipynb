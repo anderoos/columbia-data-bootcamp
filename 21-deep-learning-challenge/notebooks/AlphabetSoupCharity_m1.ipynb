{
 "cells": [
  {
   "cell_type": "markdown",
   "metadata": {},
   "source": [
    "## Preprocessing"
   ]
  },
  {
   "cell_type": "code",
   "execution_count": 1,
   "outputs": [],
   "source": [
    "import warnings\n",
    "\n",
    "warnings.filterwarnings('ignore')"
   ],
   "metadata": {
    "collapsed": false,
    "ExecuteTime": {
     "end_time": "2024-01-12T22:22:03.844404Z",
     "start_time": "2024-01-12T22:22:03.838172Z"
    }
   }
  },
  {
   "cell_type": "code",
   "execution_count": 2,
   "metadata": {
    "ExecuteTime": {
     "end_time": "2024-01-12T22:22:08.684549Z",
     "start_time": "2024-01-12T22:22:03.842554Z"
    }
   },
   "outputs": [
    {
     "data": {
      "text/plain": "        EIN                                      NAME APPLICATION_TYPE  \\\n0  10520599              BLUE KNIGHTS MOTORCYCLE CLUB              T10   \n1  10531628    AMERICAN CHESAPEAKE CLUB CHARITABLE TR               T3   \n2  10547893        ST CLOUD PROFESSIONAL FIREFIGHTERS               T5   \n3  10553066            SOUTHSIDE ATHLETIC ASSOCIATION               T3   \n4  10556103  GENETIC RESEARCH INSTITUTE OF THE DESERT               T3   \n\n        AFFILIATION CLASSIFICATION      USE_CASE  ORGANIZATION  STATUS  \\\n0       Independent          C1000    ProductDev   Association       1   \n1       Independent          C2000  Preservation  Co-operative       1   \n2  CompanySponsored          C3000    ProductDev   Association       1   \n3  CompanySponsored          C2000  Preservation         Trust       1   \n4       Independent          C1000     Heathcare         Trust       1   \n\n      INCOME_AMT SPECIAL_CONSIDERATIONS  ASK_AMT  IS_SUCCESSFUL  \n0              0                      N     5000              1  \n1         1-9999                      N   108590              1  \n2              0                      N     5000              0  \n3    10000-24999                      N     6692              1  \n4  100000-499999                      N   142590              1  ",
      "text/html": "<div>\n<style scoped>\n    .dataframe tbody tr th:only-of-type {\n        vertical-align: middle;\n    }\n\n    .dataframe tbody tr th {\n        vertical-align: top;\n    }\n\n    .dataframe thead th {\n        text-align: right;\n    }\n</style>\n<table border=\"1\" class=\"dataframe\">\n  <thead>\n    <tr style=\"text-align: right;\">\n      <th></th>\n      <th>EIN</th>\n      <th>NAME</th>\n      <th>APPLICATION_TYPE</th>\n      <th>AFFILIATION</th>\n      <th>CLASSIFICATION</th>\n      <th>USE_CASE</th>\n      <th>ORGANIZATION</th>\n      <th>STATUS</th>\n      <th>INCOME_AMT</th>\n      <th>SPECIAL_CONSIDERATIONS</th>\n      <th>ASK_AMT</th>\n      <th>IS_SUCCESSFUL</th>\n    </tr>\n  </thead>\n  <tbody>\n    <tr>\n      <th>0</th>\n      <td>10520599</td>\n      <td>BLUE KNIGHTS MOTORCYCLE CLUB</td>\n      <td>T10</td>\n      <td>Independent</td>\n      <td>C1000</td>\n      <td>ProductDev</td>\n      <td>Association</td>\n      <td>1</td>\n      <td>0</td>\n      <td>N</td>\n      <td>5000</td>\n      <td>1</td>\n    </tr>\n    <tr>\n      <th>1</th>\n      <td>10531628</td>\n      <td>AMERICAN CHESAPEAKE CLUB CHARITABLE TR</td>\n      <td>T3</td>\n      <td>Independent</td>\n      <td>C2000</td>\n      <td>Preservation</td>\n      <td>Co-operative</td>\n      <td>1</td>\n      <td>1-9999</td>\n      <td>N</td>\n      <td>108590</td>\n      <td>1</td>\n    </tr>\n    <tr>\n      <th>2</th>\n      <td>10547893</td>\n      <td>ST CLOUD PROFESSIONAL FIREFIGHTERS</td>\n      <td>T5</td>\n      <td>CompanySponsored</td>\n      <td>C3000</td>\n      <td>ProductDev</td>\n      <td>Association</td>\n      <td>1</td>\n      <td>0</td>\n      <td>N</td>\n      <td>5000</td>\n      <td>0</td>\n    </tr>\n    <tr>\n      <th>3</th>\n      <td>10553066</td>\n      <td>SOUTHSIDE ATHLETIC ASSOCIATION</td>\n      <td>T3</td>\n      <td>CompanySponsored</td>\n      <td>C2000</td>\n      <td>Preservation</td>\n      <td>Trust</td>\n      <td>1</td>\n      <td>10000-24999</td>\n      <td>N</td>\n      <td>6692</td>\n      <td>1</td>\n    </tr>\n    <tr>\n      <th>4</th>\n      <td>10556103</td>\n      <td>GENETIC RESEARCH INSTITUTE OF THE DESERT</td>\n      <td>T3</td>\n      <td>Independent</td>\n      <td>C1000</td>\n      <td>Heathcare</td>\n      <td>Trust</td>\n      <td>1</td>\n      <td>100000-499999</td>\n      <td>N</td>\n      <td>142590</td>\n      <td>1</td>\n    </tr>\n  </tbody>\n</table>\n</div>"
     },
     "execution_count": 2,
     "metadata": {},
     "output_type": "execute_result"
    }
   ],
   "source": [
    "# Import our dependencies\n",
    "from sklearn.model_selection import train_test_split\n",
    "from sklearn.preprocessing import StandardScaler\n",
    "import pandas as pd\n",
    "import numpy as np\n",
    "import tensorflow as tf\n",
    "\n",
    "#  Import and read the charity_data.csv.\n",
    "import pandas as pd \n",
    "application_df = pd.read_csv(\"https://static.bc-edx.com/data/dl-1-2/m21/lms/starter/charity_data.csv\")\n",
    "\n",
    "# Export to prevent unnecessary queries\n",
    "application_df.to_csv('Resources/charity_data.csv')\n",
    "application_df.head()"
   ]
  },
  {
   "cell_type": "code",
   "execution_count": 3,
   "metadata": {
    "ExecuteTime": {
     "end_time": "2024-01-12T22:22:08.695780Z",
     "start_time": "2024-01-12T22:22:08.683040Z"
    }
   },
   "outputs": [
    {
     "name": "stdout",
     "output_type": "stream",
     "text": [
      "<class 'pandas.core.frame.DataFrame'>\n",
      "RangeIndex: 34299 entries, 0 to 34298\n",
      "Data columns (total 10 columns):\n",
      " #   Column                  Non-Null Count  Dtype \n",
      "---  ------                  --------------  ----- \n",
      " 0   APPLICATION_TYPE        34299 non-null  object\n",
      " 1   AFFILIATION             34299 non-null  object\n",
      " 2   CLASSIFICATION          34299 non-null  object\n",
      " 3   USE_CASE                34299 non-null  object\n",
      " 4   ORGANIZATION            34299 non-null  object\n",
      " 5   STATUS                  34299 non-null  int64 \n",
      " 6   INCOME_AMT              34299 non-null  object\n",
      " 7   SPECIAL_CONSIDERATIONS  34299 non-null  object\n",
      " 8   ASK_AMT                 34299 non-null  int64 \n",
      " 9   IS_SUCCESSFUL           34299 non-null  int64 \n",
      "dtypes: int64(3), object(7)\n",
      "memory usage: 2.6+ MB\n"
     ]
    }
   ],
   "source": [
    "# Drop the non-beneficial ID columns, 'EIN' and 'NAME'.\n",
    "application_df.drop(['EIN', 'NAME'], axis=1, inplace=True)\n",
    "application_df.info()"
   ]
  },
  {
   "cell_type": "code",
   "execution_count": 4,
   "metadata": {
    "ExecuteTime": {
     "end_time": "2024-01-12T22:22:08.743621Z",
     "start_time": "2024-01-12T22:22:08.694922Z"
    }
   },
   "outputs": [
    {
     "data": {
      "text/plain": "APPLICATION_TYPE            17\nAFFILIATION                  6\nCLASSIFICATION              71\nUSE_CASE                     5\nORGANIZATION                 4\nSTATUS                       2\nINCOME_AMT                   9\nSPECIAL_CONSIDERATIONS       2\nASK_AMT                   8747\nIS_SUCCESSFUL                2\ndtype: int64"
     },
     "execution_count": 4,
     "metadata": {},
     "output_type": "execute_result"
    }
   ],
   "source": [
    "# Determine the number of unique values in each column.\n",
    "application_df.nunique()"
   ]
  },
  {
   "cell_type": "code",
   "execution_count": 5,
   "metadata": {
    "ExecuteTime": {
     "end_time": "2024-01-12T22:22:08.744078Z",
     "start_time": "2024-01-12T22:22:08.709434Z"
    }
   },
   "outputs": [
    {
     "data": {
      "text/plain": "   APPLICATION_TYPE  count\n0                T3  27037\n1                T4   1542\n2                T6   1216\n3                T5   1173\n4               T19   1065\n5                T8    737\n6                T7    725\n7               T10    528\n8                T9    156\n9               T13     66\n10              T12     27\n11               T2     16\n12              T25      3\n13              T14      3\n14              T29      2\n15              T15      2\n16              T17      1",
      "text/html": "<div>\n<style scoped>\n    .dataframe tbody tr th:only-of-type {\n        vertical-align: middle;\n    }\n\n    .dataframe tbody tr th {\n        vertical-align: top;\n    }\n\n    .dataframe thead th {\n        text-align: right;\n    }\n</style>\n<table border=\"1\" class=\"dataframe\">\n  <thead>\n    <tr style=\"text-align: right;\">\n      <th></th>\n      <th>APPLICATION_TYPE</th>\n      <th>count</th>\n    </tr>\n  </thead>\n  <tbody>\n    <tr>\n      <th>0</th>\n      <td>T3</td>\n      <td>27037</td>\n    </tr>\n    <tr>\n      <th>1</th>\n      <td>T4</td>\n      <td>1542</td>\n    </tr>\n    <tr>\n      <th>2</th>\n      <td>T6</td>\n      <td>1216</td>\n    </tr>\n    <tr>\n      <th>3</th>\n      <td>T5</td>\n      <td>1173</td>\n    </tr>\n    <tr>\n      <th>4</th>\n      <td>T19</td>\n      <td>1065</td>\n    </tr>\n    <tr>\n      <th>5</th>\n      <td>T8</td>\n      <td>737</td>\n    </tr>\n    <tr>\n      <th>6</th>\n      <td>T7</td>\n      <td>725</td>\n    </tr>\n    <tr>\n      <th>7</th>\n      <td>T10</td>\n      <td>528</td>\n    </tr>\n    <tr>\n      <th>8</th>\n      <td>T9</td>\n      <td>156</td>\n    </tr>\n    <tr>\n      <th>9</th>\n      <td>T13</td>\n      <td>66</td>\n    </tr>\n    <tr>\n      <th>10</th>\n      <td>T12</td>\n      <td>27</td>\n    </tr>\n    <tr>\n      <th>11</th>\n      <td>T2</td>\n      <td>16</td>\n    </tr>\n    <tr>\n      <th>12</th>\n      <td>T25</td>\n      <td>3</td>\n    </tr>\n    <tr>\n      <th>13</th>\n      <td>T14</td>\n      <td>3</td>\n    </tr>\n    <tr>\n      <th>14</th>\n      <td>T29</td>\n      <td>2</td>\n    </tr>\n    <tr>\n      <th>15</th>\n      <td>T15</td>\n      <td>2</td>\n    </tr>\n    <tr>\n      <th>16</th>\n      <td>T17</td>\n      <td>1</td>\n    </tr>\n  </tbody>\n</table>\n</div>"
     },
     "execution_count": 5,
     "metadata": {},
     "output_type": "execute_result"
    }
   ],
   "source": [
    "# Look at APPLICATION_TYPE value counts for binning\n",
    "application_type_counts = application_df.APPLICATION_TYPE.value_counts().reset_index()\n",
    "application_type_counts"
   ]
  },
  {
   "cell_type": "code",
   "execution_count": 6,
   "metadata": {
    "ExecuteTime": {
     "end_time": "2024-01-12T22:22:08.757620Z",
     "start_time": "2024-01-12T22:22:08.718019Z"
    }
   },
   "outputs": [
    {
     "data": {
      "text/plain": "APPLICATION_TYPE\nT3       27037\nT4        1542\nT6        1216\nT5        1173\nT19       1065\nT8         737\nT7         725\nT10        528\nT9         156\nOther      120\nName: count, dtype: int64"
     },
     "execution_count": 6,
     "metadata": {},
     "output_type": "execute_result"
    }
   ],
   "source": [
    "# Choose a cutoff value and create a list of application types to be replaced\n",
    "bin_cutoff = 150\n",
    "cutoff_labels = list(application_type_counts[application_type_counts[\"count\"] < bin_cutoff]['APPLICATION_TYPE'])\n",
    "application_df['APPLICATION_TYPE'] = application_df['APPLICATION_TYPE'].apply(lambda x: 'Other' if x in cutoff_labels else x)\n",
    "\n",
    "# Replace in dataframe\n",
    "# for app in application_types_to_replace:\n",
    "#     application_df['APPLICATION_TYPE'] = application_df['APPLICATION_TYPE'].replace(app,\"Other\")\n",
    "\n",
    "# Check to make sure binning was successful\n",
    "application_df['APPLICATION_TYPE'].value_counts()"
   ]
  },
  {
   "cell_type": "code",
   "execution_count": 7,
   "metadata": {
    "ExecuteTime": {
     "end_time": "2024-01-12T22:22:08.757793Z",
     "start_time": "2024-01-12T22:22:08.723583Z"
    }
   },
   "outputs": [
    {
     "data": {
      "text/plain": "   CLASSIFICATION  count\n0           C1000  17326\n1           C2000   6074\n2           C1200   4837\n3           C3000   1918\n4           C2100   1883\n..            ...    ...\n66          C4120      1\n67          C8210      1\n68          C2561      1\n69          C4500      1\n70          C2150      1\n\n[71 rows x 2 columns]",
      "text/html": "<div>\n<style scoped>\n    .dataframe tbody tr th:only-of-type {\n        vertical-align: middle;\n    }\n\n    .dataframe tbody tr th {\n        vertical-align: top;\n    }\n\n    .dataframe thead th {\n        text-align: right;\n    }\n</style>\n<table border=\"1\" class=\"dataframe\">\n  <thead>\n    <tr style=\"text-align: right;\">\n      <th></th>\n      <th>CLASSIFICATION</th>\n      <th>count</th>\n    </tr>\n  </thead>\n  <tbody>\n    <tr>\n      <th>0</th>\n      <td>C1000</td>\n      <td>17326</td>\n    </tr>\n    <tr>\n      <th>1</th>\n      <td>C2000</td>\n      <td>6074</td>\n    </tr>\n    <tr>\n      <th>2</th>\n      <td>C1200</td>\n      <td>4837</td>\n    </tr>\n    <tr>\n      <th>3</th>\n      <td>C3000</td>\n      <td>1918</td>\n    </tr>\n    <tr>\n      <th>4</th>\n      <td>C2100</td>\n      <td>1883</td>\n    </tr>\n    <tr>\n      <th>...</th>\n      <td>...</td>\n      <td>...</td>\n    </tr>\n    <tr>\n      <th>66</th>\n      <td>C4120</td>\n      <td>1</td>\n    </tr>\n    <tr>\n      <th>67</th>\n      <td>C8210</td>\n      <td>1</td>\n    </tr>\n    <tr>\n      <th>68</th>\n      <td>C2561</td>\n      <td>1</td>\n    </tr>\n    <tr>\n      <th>69</th>\n      <td>C4500</td>\n      <td>1</td>\n    </tr>\n    <tr>\n      <th>70</th>\n      <td>C2150</td>\n      <td>1</td>\n    </tr>\n  </tbody>\n</table>\n<p>71 rows × 2 columns</p>\n</div>"
     },
     "execution_count": 7,
     "metadata": {},
     "output_type": "execute_result"
    }
   ],
   "source": [
    "# Look at CLASSIFICATION value counts for binning\n",
    "classification_type_counts = application_df['CLASSIFICATION'].value_counts().reset_index()\n",
    "classification_type_counts"
   ]
  },
  {
   "cell_type": "code",
   "execution_count": 8,
   "metadata": {
    "ExecuteTime": {
     "end_time": "2024-01-12T22:22:08.758282Z",
     "start_time": "2024-01-12T22:22:08.729938Z"
    }
   },
   "outputs": [
    {
     "data": {
      "text/plain": "CLASSIFICATION\nC1000    17326\nC2000     6074\nC1200     4837\nC3000     1918\nC2100     1883\nC7000      777\nC1700      287\nC4000      194\nC5000      116\nC1270      114\nC2700      104\nC2800       95\nC7100       75\nC1300       58\nC1280       50\nC1230       36\nC1400       34\nC7200       32\nC2300       32\nC1240       30\nC8000       20\nC7120       18\nC1500       16\nC1800       15\nC6000       15\nC1250       14\nC8200       11\nC1238       10\nC1278       10\nC1237        9\nC1235        9\nC7210        7\nC4100        6\nC1720        6\nC2400        6\nC1600        5\nC1257        5\nC1260        3\nC2710        3\nC0           3\nC1267        2\nC1256        2\nC1234        2\nC1246        2\nC3200        2\nName: count, dtype: int64"
     },
     "execution_count": 8,
     "metadata": {},
     "output_type": "execute_result"
    }
   ],
   "source": [
    "# You may find it helpful to look at CLASSIFICATION value counts >1\n",
    "threshold = 1\n",
    "cutoff_labels = list(classification_type_counts[classification_type_counts[\"count\"] <= threshold]['CLASSIFICATION'])\n",
    "application_df = application_df[~application_df['CLASSIFICATION'].isin(cutoff_labels)]\n",
    "\n",
    "application_df['CLASSIFICATION'].value_counts()"
   ]
  },
  {
   "cell_type": "code",
   "execution_count": 9,
   "metadata": {
    "ExecuteTime": {
     "end_time": "2024-01-12T22:22:08.851423Z",
     "start_time": "2024-01-12T22:22:08.737882Z"
    }
   },
   "outputs": [
    {
     "data": {
      "text/plain": "CLASSIFICATION\nC1000    17326\nC2000     6074\nC1200     4837\nOther     2235\nC3000     1918\nC2100     1883\nName: count, dtype: int64"
     },
     "execution_count": 9,
     "metadata": {},
     "output_type": "execute_result"
    }
   ],
   "source": [
    "# Choose a cutoff value and create a list of classifications to be replaced\n",
    "# use the variable name `classifications_to_replace`\n",
    "threshold = 1000\n",
    "classifications_to_replace = list(classification_type_counts[classification_type_counts[\"count\"] <= 1000]['CLASSIFICATION'])\n",
    "\n",
    "# Replace in dataframe\n",
    "for cls in classifications_to_replace:\n",
    "    application_df['CLASSIFICATION'] = application_df['CLASSIFICATION'].replace(cls,\"Other\")\n",
    "    \n",
    "# Check to make sure binning was successful\n",
    "application_df['CLASSIFICATION'].value_counts()"
   ]
  },
  {
   "cell_type": "code",
   "execution_count": 10,
   "outputs": [
    {
     "name": "stdout",
     "output_type": "stream",
     "text": [
      "<class 'pandas.core.frame.DataFrame'>\n",
      "Index: 34273 entries, 0 to 34298\n",
      "Data columns (total 10 columns):\n",
      " #   Column                  Non-Null Count  Dtype \n",
      "---  ------                  --------------  ----- \n",
      " 0   APPLICATION_TYPE        34273 non-null  object\n",
      " 1   AFFILIATION             34273 non-null  object\n",
      " 2   CLASSIFICATION          34273 non-null  object\n",
      " 3   USE_CASE                34273 non-null  object\n",
      " 4   ORGANIZATION            34273 non-null  object\n",
      " 5   STATUS                  34273 non-null  int64 \n",
      " 6   INCOME_AMT              34273 non-null  object\n",
      " 7   SPECIAL_CONSIDERATIONS  34273 non-null  object\n",
      " 8   ASK_AMT                 34273 non-null  int64 \n",
      " 9   IS_SUCCESSFUL           34273 non-null  int64 \n",
      "dtypes: int64(3), object(7)\n",
      "memory usage: 2.9+ MB\n"
     ]
    }
   ],
   "source": [
    "# Look at feature types\n",
    "application_df.info()"
   ],
   "metadata": {
    "collapsed": false,
    "ExecuteTime": {
     "end_time": "2024-01-12T22:22:08.860687Z",
     "start_time": "2024-01-12T22:22:08.854274Z"
    }
   }
  },
  {
   "cell_type": "code",
   "execution_count": 11,
   "metadata": {
    "ExecuteTime": {
     "end_time": "2024-01-12T22:22:08.883670Z",
     "start_time": "2024-01-12T22:22:08.860229Z"
    }
   },
   "outputs": [],
   "source": [
    "# Convert categorical data to numeric with `pd.get_dummies`\n",
    "obj_columns = application_df.select_dtypes(object).columns\n",
    "\n",
    "application_df = pd.get_dummies(application_df, columns=obj_columns).astype(int)"
   ]
  },
  {
   "cell_type": "code",
   "execution_count": 12,
   "outputs": [
    {
     "data": {
      "text/plain": "IS_SUCCESSFUL\n1    0.532285\n0    0.467715\nName: proportion, dtype: float64"
     },
     "execution_count": 12,
     "metadata": {},
     "output_type": "execute_result"
    }
   ],
   "source": [
    "# Check class balance\n",
    "application_df['IS_SUCCESSFUL'].value_counts(normalize=True)"
   ],
   "metadata": {
    "collapsed": false,
    "ExecuteTime": {
     "end_time": "2024-01-12T22:22:08.888123Z",
     "start_time": "2024-01-12T22:22:08.885411Z"
    }
   }
  },
  {
   "cell_type": "code",
   "execution_count": 13,
   "metadata": {
    "ExecuteTime": {
     "end_time": "2024-01-12T22:22:08.897117Z",
     "start_time": "2024-01-12T22:22:08.888620Z"
    }
   },
   "outputs": [],
   "source": [
    "# Split our preprocessed data into our features and target arrays\n",
    "labels = application_df['IS_SUCCESSFUL']\n",
    "features = application_df.drop(['IS_SUCCESSFUL'], axis=1)\n",
    "\n",
    "# Split the preprocessed data into a training and testing dataset\n",
    "X_train, X_test, y_train, y_test = train_test_split(features, labels, random_state=42, test_size=0.2)"
   ]
  },
  {
   "cell_type": "code",
   "execution_count": 14,
   "metadata": {
    "ExecuteTime": {
     "end_time": "2024-01-12T22:22:08.914282Z",
     "start_time": "2024-01-12T22:22:08.901107Z"
    }
   },
   "outputs": [
    {
     "name": "stdout",
     "output_type": "stream",
     "text": [
      "Shapes\n",
      "(27418, 44) (6855, 44)\n",
      "(27418,) (6855,)\n"
     ]
    }
   ],
   "source": [
    "# Create a StandardScaler instances\n",
    "scaler = StandardScaler()\n",
    "\n",
    "# Fit the StandardScaler\n",
    "X_scaler = scaler.fit(X_train)\n",
    "\n",
    "# Scale the data\n",
    "X_train_scaled = X_scaler.transform(X_train)\n",
    "X_test_scaled = X_scaler.transform(X_test)\n",
    "\n",
    "print('Shapes')\n",
    "print(X_train_scaled.shape, X_test_scaled.shape)\n",
    "print(y_train.shape, y_test.shape)"
   ]
  },
  {
   "cell_type": "markdown",
   "metadata": {},
   "source": [
    "## Compile, Train and Evaluate the Model"
   ]
  },
  {
   "cell_type": "code",
   "execution_count": 15,
   "metadata": {
    "ExecuteTime": {
     "end_time": "2024-01-12T22:22:08.973222Z",
     "start_time": "2024-01-12T22:22:08.915596Z"
    }
   },
   "outputs": [
    {
     "name": "stderr",
     "output_type": "stream",
     "text": [
      "WARNING:absl:At this time, the v2.11+ optimizer `tf.keras.optimizers.Adam` runs slowly on M1/M2 Macs, please use the legacy Keras optimizer instead, located at `tf.keras.optimizers.legacy.Adam`.\n",
      "WARNING:absl:`lr` is deprecated in Keras optimizer, please use `learning_rate` or use the legacy optimizer, e.g.,tf.keras.optimizers.legacy.Adam.\n"
     ]
    },
    {
     "name": "stdout",
     "output_type": "stream",
     "text": [
      "Model: \"sequential\"\n",
      "_________________________________________________________________\n",
      " Layer (type)                Output Shape              Param #   \n",
      "=================================================================\n",
      " dense (Dense)               (None, 8)                 360       \n",
      "                                                                 \n",
      " dense_1 (Dense)             (None, 4)                 36        \n",
      "                                                                 \n",
      " dense_2 (Dense)             (None, 1)                 5         \n",
      "                                                                 \n",
      "=================================================================\n",
      "Total params: 401 (1.57 KB)\n",
      "Trainable params: 401 (1.57 KB)\n",
      "Non-trainable params: 0 (0.00 Byte)\n",
      "_________________________________________________________________\n"
     ]
    }
   ],
   "source": [
    "# Define the model - deep neural net, i.e., the number of input features and hidden nodes for each layer.\n",
    "# Given model complexity, maybe start of with 64, 32?\n",
    "layer_1 = 8\n",
    "layer_2 = 4\n",
    "\n",
    "def build_nn():\n",
    "    optimizer = tf.keras.optimizers.Adam(lr=0.001)\n",
    "    \n",
    "    tf.keras.backend.clear_session()\n",
    "    nn_base = tf.keras.models.Sequential()\n",
    "    nn_base.add(tf.keras.layers.InputLayer(input_shape=X_train_scaled.shape[1],))\n",
    "# First hidden layer\n",
    "    nn_base.add(tf.keras.layers.Dense(layer_1, activation='relu'))\n",
    "# Second hidden layer\n",
    "    nn_base.add(tf.keras.layers.Dense(layer_2, activation='relu'))\n",
    "# Output layer\n",
    "    nn_base.add(tf.keras.layers.Dense(1, activation='sigmoid'))\n",
    "    nn_base.compile(optimizer=optimizer, metrics=['accuracy'], loss='binary_crossentropy')\n",
    "    return nn_base\n",
    "\n",
    "# Check the structure of the model\n",
    "nn = build_nn()\n",
    "nn.summary()"
   ]
  },
  {
   "cell_type": "code",
   "execution_count": 16,
   "metadata": {
    "ExecuteTime": {
     "end_time": "2024-01-12T22:22:08.994549Z",
     "start_time": "2024-01-12T22:22:08.974765Z"
    }
   },
   "outputs": [],
   "source": [
    "# Compile the model\n",
    "# Check above"
   ]
  },
  {
   "cell_type": "code",
   "execution_count": 17,
   "metadata": {
    "ExecuteTime": {
     "end_time": "2024-01-12T22:22:09.320787Z",
     "start_time": "2024-01-12T22:22:08.976782Z"
    }
   },
   "outputs": [],
   "source": [
    "# Train the model\n",
    "import matplotlib.pyplot as plt\n",
    "\n",
    "def train_nn_model(nn, X, y, Xt, yt):\n",
    "    history = nn.fit(X, y, epochs=250, verbose=1, validation_data=(Xt, yt))\n",
    "    return history\n",
    "\n",
    "\n",
    "def plot_accuracy_loss(history):\n",
    "    fig, ax = plt.subplots(1, 2, figsize=(16,8))\n",
    "    fig.suptitle(f\"FNN with {layer_1} & {layer_2} Neurons\")\n",
    "    ax[1].plot(history.history['accuracy'], label='accuracy')\n",
    "    ax[1].plot(history.history['val_accuracy'], label='val_accuracy')\n",
    "    ax[1].set_title('Accuracy Metrics')\n",
    "    ax[1].set_ylabel('Accuracy %')\n",
    "    ax[1].set_xlabel('epoch')\n",
    "    ax[1].legend(loc='best')\n",
    "    ax[0].plot(history.history['loss'], label='loss')\n",
    "    ax[0].plot(history.history['val_loss'], label='val_loss')\n",
    "    ax[0].set_title('Loss Metrics')\n",
    "    ax[0].set_ylabel('Loss %')\n",
    "    ax[0].set_xlabel('epoch')\n",
    "    ax[0].legend(loc='best')\n",
    "    return fig"
   ]
  },
  {
   "cell_type": "code",
   "execution_count": 18,
   "outputs": [
    {
     "name": "stdout",
     "output_type": "stream",
     "text": [
      "Epoch 1/250\n",
      "857/857 [==============================] - 1s 646us/step - loss: 0.6350 - accuracy: 0.6755 - val_loss: 0.5829 - val_accuracy: 0.7239\n",
      "Epoch 2/250\n",
      "857/857 [==============================] - 0s 498us/step - loss: 0.5777 - accuracy: 0.7178 - val_loss: 0.5641 - val_accuracy: 0.7313\n",
      "Epoch 3/250\n",
      "857/857 [==============================] - 0s 490us/step - loss: 0.5674 - accuracy: 0.7232 - val_loss: 0.5552 - val_accuracy: 0.7323\n",
      "Epoch 4/250\n",
      "857/857 [==============================] - 0s 505us/step - loss: 0.5615 - accuracy: 0.7247 - val_loss: 0.5502 - val_accuracy: 0.7344\n",
      "Epoch 5/250\n",
      "857/857 [==============================] - 0s 498us/step - loss: 0.5588 - accuracy: 0.7247 - val_loss: 0.5505 - val_accuracy: 0.7346\n",
      "Epoch 6/250\n",
      "857/857 [==============================] - 0s 516us/step - loss: 0.5572 - accuracy: 0.7254 - val_loss: 0.5483 - val_accuracy: 0.7367\n",
      "Epoch 7/250\n",
      "857/857 [==============================] - 0s 500us/step - loss: 0.5561 - accuracy: 0.7256 - val_loss: 0.5486 - val_accuracy: 0.7349\n",
      "Epoch 8/250\n",
      "857/857 [==============================] - 0s 503us/step - loss: 0.5556 - accuracy: 0.7270 - val_loss: 0.5470 - val_accuracy: 0.7367\n",
      "Epoch 9/250\n",
      "857/857 [==============================] - 0s 498us/step - loss: 0.5552 - accuracy: 0.7254 - val_loss: 0.5460 - val_accuracy: 0.7383\n",
      "Epoch 10/250\n",
      "857/857 [==============================] - 0s 501us/step - loss: 0.5545 - accuracy: 0.7260 - val_loss: 0.5459 - val_accuracy: 0.7364\n",
      "Epoch 11/250\n",
      "857/857 [==============================] - 0s 495us/step - loss: 0.5539 - accuracy: 0.7258 - val_loss: 0.5468 - val_accuracy: 0.7370\n",
      "Epoch 12/250\n",
      "857/857 [==============================] - 0s 498us/step - loss: 0.5536 - accuracy: 0.7265 - val_loss: 0.5456 - val_accuracy: 0.7330\n",
      "Epoch 13/250\n",
      "857/857 [==============================] - 0s 498us/step - loss: 0.5531 - accuracy: 0.7265 - val_loss: 0.5456 - val_accuracy: 0.7354\n",
      "Epoch 14/250\n",
      "857/857 [==============================] - 0s 499us/step - loss: 0.5526 - accuracy: 0.7272 - val_loss: 0.5446 - val_accuracy: 0.7351\n",
      "Epoch 15/250\n",
      "857/857 [==============================] - 0s 500us/step - loss: 0.5521 - accuracy: 0.7279 - val_loss: 0.5441 - val_accuracy: 0.7351\n",
      "Epoch 16/250\n",
      "857/857 [==============================] - 0s 501us/step - loss: 0.5518 - accuracy: 0.7280 - val_loss: 0.5435 - val_accuracy: 0.7339\n",
      "Epoch 17/250\n",
      "857/857 [==============================] - 0s 493us/step - loss: 0.5517 - accuracy: 0.7279 - val_loss: 0.5428 - val_accuracy: 0.7348\n",
      "Epoch 18/250\n",
      "857/857 [==============================] - 0s 503us/step - loss: 0.5513 - accuracy: 0.7278 - val_loss: 0.5434 - val_accuracy: 0.7365\n",
      "Epoch 19/250\n",
      "857/857 [==============================] - 0s 497us/step - loss: 0.5511 - accuracy: 0.7280 - val_loss: 0.5432 - val_accuracy: 0.7357\n",
      "Epoch 20/250\n",
      "857/857 [==============================] - 0s 495us/step - loss: 0.5509 - accuracy: 0.7277 - val_loss: 0.5438 - val_accuracy: 0.7360\n",
      "Epoch 21/250\n",
      "857/857 [==============================] - 0s 496us/step - loss: 0.5507 - accuracy: 0.7281 - val_loss: 0.5430 - val_accuracy: 0.7367\n",
      "Epoch 22/250\n",
      "857/857 [==============================] - 0s 496us/step - loss: 0.5505 - accuracy: 0.7281 - val_loss: 0.5443 - val_accuracy: 0.7363\n",
      "Epoch 23/250\n",
      "857/857 [==============================] - 0s 497us/step - loss: 0.5505 - accuracy: 0.7276 - val_loss: 0.5434 - val_accuracy: 0.7360\n",
      "Epoch 24/250\n",
      "857/857 [==============================] - 0s 496us/step - loss: 0.5505 - accuracy: 0.7281 - val_loss: 0.5441 - val_accuracy: 0.7360\n",
      "Epoch 25/250\n",
      "857/857 [==============================] - 0s 497us/step - loss: 0.5502 - accuracy: 0.7285 - val_loss: 0.5475 - val_accuracy: 0.7272\n",
      "Epoch 26/250\n",
      "857/857 [==============================] - 0s 500us/step - loss: 0.5504 - accuracy: 0.7276 - val_loss: 0.5436 - val_accuracy: 0.7365\n",
      "Epoch 27/250\n",
      "857/857 [==============================] - 0s 497us/step - loss: 0.5500 - accuracy: 0.7288 - val_loss: 0.5442 - val_accuracy: 0.7389\n",
      "Epoch 28/250\n",
      "857/857 [==============================] - 0s 499us/step - loss: 0.5498 - accuracy: 0.7300 - val_loss: 0.5459 - val_accuracy: 0.7278\n",
      "Epoch 29/250\n",
      "857/857 [==============================] - 0s 497us/step - loss: 0.5501 - accuracy: 0.7286 - val_loss: 0.5433 - val_accuracy: 0.7390\n",
      "Epoch 30/250\n",
      "857/857 [==============================] - 0s 495us/step - loss: 0.5496 - accuracy: 0.7297 - val_loss: 0.5440 - val_accuracy: 0.7379\n",
      "Epoch 31/250\n",
      "857/857 [==============================] - 0s 499us/step - loss: 0.5498 - accuracy: 0.7289 - val_loss: 0.5441 - val_accuracy: 0.7386\n",
      "Epoch 32/250\n",
      "857/857 [==============================] - 0s 498us/step - loss: 0.5497 - accuracy: 0.7289 - val_loss: 0.5440 - val_accuracy: 0.7379\n",
      "Epoch 33/250\n",
      "857/857 [==============================] - 0s 498us/step - loss: 0.5498 - accuracy: 0.7290 - val_loss: 0.5427 - val_accuracy: 0.7389\n",
      "Epoch 34/250\n",
      "857/857 [==============================] - 0s 499us/step - loss: 0.5496 - accuracy: 0.7297 - val_loss: 0.5435 - val_accuracy: 0.7386\n",
      "Epoch 35/250\n",
      "857/857 [==============================] - 0s 499us/step - loss: 0.5495 - accuracy: 0.7296 - val_loss: 0.5443 - val_accuracy: 0.7381\n",
      "Epoch 36/250\n",
      "857/857 [==============================] - 0s 500us/step - loss: 0.5493 - accuracy: 0.7286 - val_loss: 0.5438 - val_accuracy: 0.7384\n",
      "Epoch 37/250\n",
      "857/857 [==============================] - 0s 495us/step - loss: 0.5495 - accuracy: 0.7288 - val_loss: 0.5440 - val_accuracy: 0.7380\n",
      "Epoch 38/250\n",
      "857/857 [==============================] - 0s 499us/step - loss: 0.5493 - accuracy: 0.7298 - val_loss: 0.5432 - val_accuracy: 0.7383\n",
      "Epoch 39/250\n",
      "857/857 [==============================] - 0s 495us/step - loss: 0.5491 - accuracy: 0.7299 - val_loss: 0.5440 - val_accuracy: 0.7386\n",
      "Epoch 40/250\n",
      "857/857 [==============================] - 0s 499us/step - loss: 0.5490 - accuracy: 0.7295 - val_loss: 0.5447 - val_accuracy: 0.7381\n",
      "Epoch 41/250\n",
      "857/857 [==============================] - 0s 499us/step - loss: 0.5490 - accuracy: 0.7297 - val_loss: 0.5433 - val_accuracy: 0.7380\n",
      "Epoch 42/250\n",
      "857/857 [==============================] - 0s 501us/step - loss: 0.5488 - accuracy: 0.7301 - val_loss: 0.5434 - val_accuracy: 0.7377\n",
      "Epoch 43/250\n",
      "857/857 [==============================] - 0s 498us/step - loss: 0.5489 - accuracy: 0.7288 - val_loss: 0.5431 - val_accuracy: 0.7387\n",
      "Epoch 44/250\n",
      "857/857 [==============================] - 0s 499us/step - loss: 0.5488 - accuracy: 0.7297 - val_loss: 0.5449 - val_accuracy: 0.7377\n",
      "Epoch 45/250\n",
      "857/857 [==============================] - 0s 498us/step - loss: 0.5488 - accuracy: 0.7299 - val_loss: 0.5433 - val_accuracy: 0.7371\n",
      "Epoch 46/250\n",
      "857/857 [==============================] - 0s 495us/step - loss: 0.5489 - accuracy: 0.7291 - val_loss: 0.5448 - val_accuracy: 0.7380\n",
      "Epoch 47/250\n",
      "857/857 [==============================] - 0s 501us/step - loss: 0.5486 - accuracy: 0.7307 - val_loss: 0.5442 - val_accuracy: 0.7368\n",
      "Epoch 48/250\n",
      "857/857 [==============================] - 0s 496us/step - loss: 0.5487 - accuracy: 0.7304 - val_loss: 0.5435 - val_accuracy: 0.7376\n",
      "Epoch 49/250\n",
      "857/857 [==============================] - 0s 495us/step - loss: 0.5486 - accuracy: 0.7295 - val_loss: 0.5440 - val_accuracy: 0.7374\n",
      "Epoch 50/250\n",
      "857/857 [==============================] - 0s 500us/step - loss: 0.5485 - accuracy: 0.7305 - val_loss: 0.5425 - val_accuracy: 0.7377\n",
      "Epoch 51/250\n",
      "857/857 [==============================] - 0s 506us/step - loss: 0.5484 - accuracy: 0.7300 - val_loss: 0.5434 - val_accuracy: 0.7377\n",
      "Epoch 52/250\n",
      "857/857 [==============================] - 0s 495us/step - loss: 0.5483 - accuracy: 0.7299 - val_loss: 0.5436 - val_accuracy: 0.7384\n",
      "Epoch 53/250\n",
      "857/857 [==============================] - 0s 495us/step - loss: 0.5483 - accuracy: 0.7298 - val_loss: 0.5433 - val_accuracy: 0.7393\n",
      "Epoch 54/250\n",
      "857/857 [==============================] - 0s 497us/step - loss: 0.5482 - accuracy: 0.7302 - val_loss: 0.5426 - val_accuracy: 0.7390\n",
      "Epoch 55/250\n",
      "857/857 [==============================] - 0s 495us/step - loss: 0.5480 - accuracy: 0.7311 - val_loss: 0.5434 - val_accuracy: 0.7384\n",
      "Epoch 56/250\n",
      "857/857 [==============================] - 0s 494us/step - loss: 0.5479 - accuracy: 0.7300 - val_loss: 0.5438 - val_accuracy: 0.7381\n",
      "Epoch 57/250\n",
      "857/857 [==============================] - 0s 500us/step - loss: 0.5481 - accuracy: 0.7305 - val_loss: 0.5432 - val_accuracy: 0.7381\n",
      "Epoch 58/250\n",
      "857/857 [==============================] - 0s 504us/step - loss: 0.5482 - accuracy: 0.7308 - val_loss: 0.5425 - val_accuracy: 0.7384\n",
      "Epoch 59/250\n",
      "857/857 [==============================] - 0s 499us/step - loss: 0.5481 - accuracy: 0.7306 - val_loss: 0.5436 - val_accuracy: 0.7386\n",
      "Epoch 60/250\n",
      "857/857 [==============================] - 0s 496us/step - loss: 0.5482 - accuracy: 0.7310 - val_loss: 0.5442 - val_accuracy: 0.7390\n",
      "Epoch 61/250\n",
      "857/857 [==============================] - 0s 497us/step - loss: 0.5481 - accuracy: 0.7304 - val_loss: 0.5444 - val_accuracy: 0.7389\n",
      "Epoch 62/250\n",
      "857/857 [==============================] - 0s 500us/step - loss: 0.5478 - accuracy: 0.7308 - val_loss: 0.5429 - val_accuracy: 0.7384\n",
      "Epoch 63/250\n",
      "857/857 [==============================] - 0s 501us/step - loss: 0.5477 - accuracy: 0.7308 - val_loss: 0.5431 - val_accuracy: 0.7392\n",
      "Epoch 64/250\n",
      "857/857 [==============================] - 0s 499us/step - loss: 0.5477 - accuracy: 0.7305 - val_loss: 0.5440 - val_accuracy: 0.7373\n",
      "Epoch 65/250\n",
      "857/857 [==============================] - 0s 496us/step - loss: 0.5481 - accuracy: 0.7310 - val_loss: 0.5441 - val_accuracy: 0.7373\n",
      "Epoch 66/250\n",
      "857/857 [==============================] - 0s 497us/step - loss: 0.5481 - accuracy: 0.7312 - val_loss: 0.5437 - val_accuracy: 0.7371\n",
      "Epoch 67/250\n",
      "857/857 [==============================] - 0s 497us/step - loss: 0.5476 - accuracy: 0.7310 - val_loss: 0.5436 - val_accuracy: 0.7380\n",
      "Epoch 68/250\n",
      "857/857 [==============================] - 0s 494us/step - loss: 0.5476 - accuracy: 0.7312 - val_loss: 0.5431 - val_accuracy: 0.7384\n",
      "Epoch 69/250\n",
      "857/857 [==============================] - 0s 500us/step - loss: 0.5477 - accuracy: 0.7307 - val_loss: 0.5434 - val_accuracy: 0.7390\n",
      "Epoch 70/250\n",
      "857/857 [==============================] - 0s 498us/step - loss: 0.5476 - accuracy: 0.7313 - val_loss: 0.5423 - val_accuracy: 0.7396\n",
      "Epoch 71/250\n",
      "857/857 [==============================] - 0s 503us/step - loss: 0.5476 - accuracy: 0.7310 - val_loss: 0.5436 - val_accuracy: 0.7376\n",
      "Epoch 72/250\n",
      "857/857 [==============================] - 0s 499us/step - loss: 0.5474 - accuracy: 0.7312 - val_loss: 0.5436 - val_accuracy: 0.7381\n",
      "Epoch 73/250\n",
      "857/857 [==============================] - 0s 499us/step - loss: 0.5472 - accuracy: 0.7317 - val_loss: 0.5429 - val_accuracy: 0.7381\n",
      "Epoch 74/250\n",
      "857/857 [==============================] - 0s 498us/step - loss: 0.5474 - accuracy: 0.7310 - val_loss: 0.5425 - val_accuracy: 0.7400\n",
      "Epoch 75/250\n",
      "857/857 [==============================] - 0s 500us/step - loss: 0.5471 - accuracy: 0.7311 - val_loss: 0.5433 - val_accuracy: 0.7384\n",
      "Epoch 76/250\n",
      "857/857 [==============================] - 0s 496us/step - loss: 0.5473 - accuracy: 0.7311 - val_loss: 0.5422 - val_accuracy: 0.7398\n",
      "Epoch 77/250\n",
      "857/857 [==============================] - 0s 500us/step - loss: 0.5473 - accuracy: 0.7313 - val_loss: 0.5425 - val_accuracy: 0.7399\n",
      "Epoch 78/250\n",
      "857/857 [==============================] - 0s 498us/step - loss: 0.5472 - accuracy: 0.7315 - val_loss: 0.5435 - val_accuracy: 0.7386\n",
      "Epoch 79/250\n",
      "857/857 [==============================] - 0s 496us/step - loss: 0.5474 - accuracy: 0.7316 - val_loss: 0.5433 - val_accuracy: 0.7402\n",
      "Epoch 80/250\n",
      "857/857 [==============================] - 0s 496us/step - loss: 0.5474 - accuracy: 0.7311 - val_loss: 0.5427 - val_accuracy: 0.7399\n",
      "Epoch 81/250\n",
      "857/857 [==============================] - 0s 494us/step - loss: 0.5473 - accuracy: 0.7316 - val_loss: 0.5420 - val_accuracy: 0.7402\n",
      "Epoch 82/250\n",
      "857/857 [==============================] - 0s 497us/step - loss: 0.5472 - accuracy: 0.7312 - val_loss: 0.5425 - val_accuracy: 0.7389\n",
      "Epoch 83/250\n",
      "857/857 [==============================] - 0s 500us/step - loss: 0.5471 - accuracy: 0.7312 - val_loss: 0.5430 - val_accuracy: 0.7403\n",
      "Epoch 84/250\n",
      "857/857 [==============================] - 0s 496us/step - loss: 0.5472 - accuracy: 0.7314 - val_loss: 0.5431 - val_accuracy: 0.7405\n",
      "Epoch 85/250\n",
      "857/857 [==============================] - 0s 500us/step - loss: 0.5469 - accuracy: 0.7318 - val_loss: 0.5419 - val_accuracy: 0.7396\n",
      "Epoch 86/250\n",
      "857/857 [==============================] - 0s 498us/step - loss: 0.5470 - accuracy: 0.7322 - val_loss: 0.5428 - val_accuracy: 0.7412\n",
      "Epoch 87/250\n",
      "857/857 [==============================] - 0s 495us/step - loss: 0.5472 - accuracy: 0.7319 - val_loss: 0.5425 - val_accuracy: 0.7395\n",
      "Epoch 88/250\n",
      "857/857 [==============================] - 0s 496us/step - loss: 0.5469 - accuracy: 0.7315 - val_loss: 0.5420 - val_accuracy: 0.7398\n",
      "Epoch 89/250\n",
      "857/857 [==============================] - 0s 495us/step - loss: 0.5469 - accuracy: 0.7323 - val_loss: 0.5418 - val_accuracy: 0.7396\n",
      "Epoch 90/250\n",
      "857/857 [==============================] - 0s 496us/step - loss: 0.5468 - accuracy: 0.7320 - val_loss: 0.5420 - val_accuracy: 0.7393\n",
      "Epoch 91/250\n",
      "857/857 [==============================] - 0s 495us/step - loss: 0.5467 - accuracy: 0.7324 - val_loss: 0.5421 - val_accuracy: 0.7412\n",
      "Epoch 92/250\n",
      "857/857 [==============================] - 0s 497us/step - loss: 0.5468 - accuracy: 0.7326 - val_loss: 0.5418 - val_accuracy: 0.7402\n",
      "Epoch 93/250\n",
      "857/857 [==============================] - 0s 497us/step - loss: 0.5468 - accuracy: 0.7317 - val_loss: 0.5421 - val_accuracy: 0.7402\n",
      "Epoch 94/250\n",
      "857/857 [==============================] - 0s 502us/step - loss: 0.5469 - accuracy: 0.7317 - val_loss: 0.5433 - val_accuracy: 0.7393\n",
      "Epoch 95/250\n",
      "857/857 [==============================] - 0s 496us/step - loss: 0.5467 - accuracy: 0.7327 - val_loss: 0.5426 - val_accuracy: 0.7412\n",
      "Epoch 96/250\n",
      "857/857 [==============================] - 0s 496us/step - loss: 0.5465 - accuracy: 0.7326 - val_loss: 0.5426 - val_accuracy: 0.7411\n",
      "Epoch 97/250\n",
      "857/857 [==============================] - 0s 495us/step - loss: 0.5469 - accuracy: 0.7323 - val_loss: 0.5424 - val_accuracy: 0.7395\n",
      "Epoch 98/250\n",
      "857/857 [==============================] - 0s 499us/step - loss: 0.5467 - accuracy: 0.7330 - val_loss: 0.5426 - val_accuracy: 0.7405\n",
      "Epoch 99/250\n",
      "857/857 [==============================] - 0s 497us/step - loss: 0.5464 - accuracy: 0.7323 - val_loss: 0.5433 - val_accuracy: 0.7398\n",
      "Epoch 100/250\n",
      "857/857 [==============================] - 0s 495us/step - loss: 0.5468 - accuracy: 0.7321 - val_loss: 0.5428 - val_accuracy: 0.7405\n",
      "Epoch 101/250\n",
      "857/857 [==============================] - 0s 496us/step - loss: 0.5465 - accuracy: 0.7324 - val_loss: 0.5426 - val_accuracy: 0.7400\n",
      "Epoch 102/250\n",
      "857/857 [==============================] - 0s 500us/step - loss: 0.5466 - accuracy: 0.7318 - val_loss: 0.5417 - val_accuracy: 0.7389\n",
      "Epoch 103/250\n",
      "857/857 [==============================] - 0s 497us/step - loss: 0.5466 - accuracy: 0.7320 - val_loss: 0.5429 - val_accuracy: 0.7395\n",
      "Epoch 104/250\n",
      "857/857 [==============================] - 0s 496us/step - loss: 0.5462 - accuracy: 0.7328 - val_loss: 0.5453 - val_accuracy: 0.7319\n",
      "Epoch 105/250\n",
      "857/857 [==============================] - 0s 498us/step - loss: 0.5464 - accuracy: 0.7320 - val_loss: 0.5439 - val_accuracy: 0.7390\n",
      "Epoch 106/250\n",
      "857/857 [==============================] - 0s 495us/step - loss: 0.5464 - accuracy: 0.7328 - val_loss: 0.5417 - val_accuracy: 0.7400\n",
      "Epoch 107/250\n",
      "857/857 [==============================] - 0s 495us/step - loss: 0.5464 - accuracy: 0.7322 - val_loss: 0.5421 - val_accuracy: 0.7406\n",
      "Epoch 108/250\n",
      "857/857 [==============================] - 0s 494us/step - loss: 0.5464 - accuracy: 0.7331 - val_loss: 0.5429 - val_accuracy: 0.7403\n",
      "Epoch 109/250\n",
      "857/857 [==============================] - 0s 500us/step - loss: 0.5463 - accuracy: 0.7320 - val_loss: 0.5419 - val_accuracy: 0.7390\n",
      "Epoch 110/250\n",
      "857/857 [==============================] - 0s 496us/step - loss: 0.5464 - accuracy: 0.7325 - val_loss: 0.5424 - val_accuracy: 0.7399\n",
      "Epoch 111/250\n",
      "857/857 [==============================] - 0s 498us/step - loss: 0.5465 - accuracy: 0.7322 - val_loss: 0.5430 - val_accuracy: 0.7390\n",
      "Epoch 112/250\n",
      "857/857 [==============================] - 0s 496us/step - loss: 0.5462 - accuracy: 0.7329 - val_loss: 0.5427 - val_accuracy: 0.7392\n",
      "Epoch 113/250\n",
      "857/857 [==============================] - 0s 498us/step - loss: 0.5465 - accuracy: 0.7328 - val_loss: 0.5429 - val_accuracy: 0.7408\n",
      "Epoch 114/250\n",
      "857/857 [==============================] - 0s 498us/step - loss: 0.5464 - accuracy: 0.7323 - val_loss: 0.5429 - val_accuracy: 0.7403\n",
      "Epoch 115/250\n",
      "857/857 [==============================] - 0s 502us/step - loss: 0.5463 - accuracy: 0.7326 - val_loss: 0.5437 - val_accuracy: 0.7387\n",
      "Epoch 116/250\n",
      "857/857 [==============================] - 0s 499us/step - loss: 0.5463 - accuracy: 0.7330 - val_loss: 0.5425 - val_accuracy: 0.7408\n",
      "Epoch 117/250\n",
      "857/857 [==============================] - 0s 496us/step - loss: 0.5465 - accuracy: 0.7323 - val_loss: 0.5413 - val_accuracy: 0.7409\n",
      "Epoch 118/250\n",
      "857/857 [==============================] - 0s 500us/step - loss: 0.5465 - accuracy: 0.7326 - val_loss: 0.5434 - val_accuracy: 0.7412\n",
      "Epoch 119/250\n",
      "857/857 [==============================] - 0s 495us/step - loss: 0.5462 - accuracy: 0.7323 - val_loss: 0.5433 - val_accuracy: 0.7313\n",
      "Epoch 120/250\n",
      "857/857 [==============================] - 0s 498us/step - loss: 0.5463 - accuracy: 0.7328 - val_loss: 0.5428 - val_accuracy: 0.7402\n",
      "Epoch 121/250\n",
      "857/857 [==============================] - 0s 499us/step - loss: 0.5466 - accuracy: 0.7329 - val_loss: 0.5429 - val_accuracy: 0.7403\n",
      "Epoch 122/250\n",
      "857/857 [==============================] - 0s 497us/step - loss: 0.5465 - accuracy: 0.7319 - val_loss: 0.5417 - val_accuracy: 0.7411\n",
      "Epoch 123/250\n",
      "857/857 [==============================] - 0s 498us/step - loss: 0.5462 - accuracy: 0.7326 - val_loss: 0.5425 - val_accuracy: 0.7399\n",
      "Epoch 124/250\n",
      "857/857 [==============================] - 0s 499us/step - loss: 0.5465 - accuracy: 0.7322 - val_loss: 0.5426 - val_accuracy: 0.7402\n",
      "Epoch 125/250\n",
      "857/857 [==============================] - 0s 499us/step - loss: 0.5464 - accuracy: 0.7322 - val_loss: 0.5426 - val_accuracy: 0.7408\n",
      "Epoch 126/250\n",
      "857/857 [==============================] - 0s 495us/step - loss: 0.5462 - accuracy: 0.7334 - val_loss: 0.5422 - val_accuracy: 0.7406\n",
      "Epoch 127/250\n",
      "857/857 [==============================] - 0s 497us/step - loss: 0.5461 - accuracy: 0.7326 - val_loss: 0.5432 - val_accuracy: 0.7411\n",
      "Epoch 128/250\n",
      "857/857 [==============================] - 0s 495us/step - loss: 0.5461 - accuracy: 0.7323 - val_loss: 0.5419 - val_accuracy: 0.7399\n",
      "Epoch 129/250\n",
      "857/857 [==============================] - 0s 497us/step - loss: 0.5463 - accuracy: 0.7317 - val_loss: 0.5415 - val_accuracy: 0.7395\n",
      "Epoch 130/250\n",
      "857/857 [==============================] - 0s 494us/step - loss: 0.5461 - accuracy: 0.7324 - val_loss: 0.5419 - val_accuracy: 0.7409\n",
      "Epoch 131/250\n",
      "857/857 [==============================] - 0s 498us/step - loss: 0.5461 - accuracy: 0.7318 - val_loss: 0.5414 - val_accuracy: 0.7416\n",
      "Epoch 132/250\n",
      "857/857 [==============================] - 0s 500us/step - loss: 0.5461 - accuracy: 0.7328 - val_loss: 0.5416 - val_accuracy: 0.7412\n",
      "Epoch 133/250\n",
      "857/857 [==============================] - 0s 498us/step - loss: 0.5460 - accuracy: 0.7332 - val_loss: 0.5418 - val_accuracy: 0.7406\n",
      "Epoch 134/250\n",
      "857/857 [==============================] - 0s 498us/step - loss: 0.5462 - accuracy: 0.7330 - val_loss: 0.5426 - val_accuracy: 0.7403\n",
      "Epoch 135/250\n",
      "857/857 [==============================] - 0s 504us/step - loss: 0.5458 - accuracy: 0.7315 - val_loss: 0.5443 - val_accuracy: 0.7316\n",
      "Epoch 136/250\n",
      "857/857 [==============================] - 0s 498us/step - loss: 0.5461 - accuracy: 0.7330 - val_loss: 0.5422 - val_accuracy: 0.7405\n",
      "Epoch 137/250\n",
      "857/857 [==============================] - 0s 498us/step - loss: 0.5461 - accuracy: 0.7321 - val_loss: 0.5413 - val_accuracy: 0.7412\n",
      "Epoch 138/250\n",
      "857/857 [==============================] - 0s 494us/step - loss: 0.5461 - accuracy: 0.7326 - val_loss: 0.5428 - val_accuracy: 0.7411\n",
      "Epoch 139/250\n",
      "857/857 [==============================] - 0s 497us/step - loss: 0.5462 - accuracy: 0.7326 - val_loss: 0.5428 - val_accuracy: 0.7414\n",
      "Epoch 140/250\n",
      "857/857 [==============================] - 0s 493us/step - loss: 0.5461 - accuracy: 0.7323 - val_loss: 0.5424 - val_accuracy: 0.7398\n",
      "Epoch 141/250\n",
      "857/857 [==============================] - 0s 497us/step - loss: 0.5461 - accuracy: 0.7319 - val_loss: 0.5418 - val_accuracy: 0.7398\n",
      "Epoch 142/250\n",
      "857/857 [==============================] - 0s 497us/step - loss: 0.5460 - accuracy: 0.7329 - val_loss: 0.5419 - val_accuracy: 0.7414\n",
      "Epoch 143/250\n",
      "857/857 [==============================] - 0s 494us/step - loss: 0.5459 - accuracy: 0.7336 - val_loss: 0.5418 - val_accuracy: 0.7406\n",
      "Epoch 144/250\n",
      "857/857 [==============================] - 0s 499us/step - loss: 0.5460 - accuracy: 0.7323 - val_loss: 0.5428 - val_accuracy: 0.7405\n",
      "Epoch 145/250\n",
      "857/857 [==============================] - 0s 504us/step - loss: 0.5460 - accuracy: 0.7325 - val_loss: 0.5421 - val_accuracy: 0.7414\n",
      "Epoch 146/250\n",
      "857/857 [==============================] - 0s 496us/step - loss: 0.5461 - accuracy: 0.7328 - val_loss: 0.5410 - val_accuracy: 0.7409\n",
      "Epoch 147/250\n",
      "857/857 [==============================] - 0s 497us/step - loss: 0.5458 - accuracy: 0.7328 - val_loss: 0.5418 - val_accuracy: 0.7411\n",
      "Epoch 148/250\n",
      "857/857 [==============================] - 0s 499us/step - loss: 0.5460 - accuracy: 0.7329 - val_loss: 0.5434 - val_accuracy: 0.7415\n",
      "Epoch 149/250\n",
      "857/857 [==============================] - 0s 497us/step - loss: 0.5461 - accuracy: 0.7331 - val_loss: 0.5423 - val_accuracy: 0.7411\n",
      "Epoch 150/250\n",
      "857/857 [==============================] - 0s 501us/step - loss: 0.5460 - accuracy: 0.7332 - val_loss: 0.5424 - val_accuracy: 0.7389\n",
      "Epoch 151/250\n",
      "857/857 [==============================] - 0s 498us/step - loss: 0.5461 - accuracy: 0.7317 - val_loss: 0.5423 - val_accuracy: 0.7402\n",
      "Epoch 152/250\n",
      "857/857 [==============================] - 0s 500us/step - loss: 0.5461 - accuracy: 0.7317 - val_loss: 0.5423 - val_accuracy: 0.7396\n",
      "Epoch 153/250\n",
      "857/857 [==============================] - 0s 498us/step - loss: 0.5461 - accuracy: 0.7323 - val_loss: 0.5418 - val_accuracy: 0.7412\n",
      "Epoch 154/250\n",
      "857/857 [==============================] - 0s 498us/step - loss: 0.5459 - accuracy: 0.7322 - val_loss: 0.5418 - val_accuracy: 0.7403\n",
      "Epoch 155/250\n",
      "857/857 [==============================] - 0s 496us/step - loss: 0.5460 - accuracy: 0.7329 - val_loss: 0.5422 - val_accuracy: 0.7412\n",
      "Epoch 156/250\n",
      "857/857 [==============================] - 0s 501us/step - loss: 0.5457 - accuracy: 0.7329 - val_loss: 0.5428 - val_accuracy: 0.7411\n",
      "Epoch 157/250\n",
      "857/857 [==============================] - 0s 500us/step - loss: 0.5459 - accuracy: 0.7324 - val_loss: 0.5418 - val_accuracy: 0.7396\n",
      "Epoch 158/250\n",
      "857/857 [==============================] - 0s 496us/step - loss: 0.5462 - accuracy: 0.7320 - val_loss: 0.5418 - val_accuracy: 0.7396\n",
      "Epoch 159/250\n",
      "857/857 [==============================] - 0s 496us/step - loss: 0.5458 - accuracy: 0.7328 - val_loss: 0.5430 - val_accuracy: 0.7400\n",
      "Epoch 160/250\n",
      "857/857 [==============================] - 0s 496us/step - loss: 0.5460 - accuracy: 0.7330 - val_loss: 0.5434 - val_accuracy: 0.7403\n",
      "Epoch 161/250\n",
      "857/857 [==============================] - 0s 497us/step - loss: 0.5459 - accuracy: 0.7325 - val_loss: 0.5432 - val_accuracy: 0.7403\n",
      "Epoch 162/250\n",
      "857/857 [==============================] - 0s 496us/step - loss: 0.5459 - accuracy: 0.7330 - val_loss: 0.5435 - val_accuracy: 0.7402\n",
      "Epoch 163/250\n",
      "857/857 [==============================] - 0s 497us/step - loss: 0.5458 - accuracy: 0.7324 - val_loss: 0.5418 - val_accuracy: 0.7414\n",
      "Epoch 164/250\n",
      "857/857 [==============================] - 0s 498us/step - loss: 0.5464 - accuracy: 0.7326 - val_loss: 0.5411 - val_accuracy: 0.7412\n",
      "Epoch 165/250\n",
      "857/857 [==============================] - 0s 497us/step - loss: 0.5457 - accuracy: 0.7339 - val_loss: 0.5419 - val_accuracy: 0.7415\n",
      "Epoch 166/250\n",
      "857/857 [==============================] - 0s 498us/step - loss: 0.5459 - accuracy: 0.7320 - val_loss: 0.5411 - val_accuracy: 0.7408\n",
      "Epoch 167/250\n",
      "857/857 [==============================] - 0s 497us/step - loss: 0.5459 - accuracy: 0.7328 - val_loss: 0.5420 - val_accuracy: 0.7411\n",
      "Epoch 168/250\n",
      "857/857 [==============================] - 0s 497us/step - loss: 0.5459 - accuracy: 0.7322 - val_loss: 0.5433 - val_accuracy: 0.7326\n",
      "Epoch 169/250\n",
      "857/857 [==============================] - 0s 500us/step - loss: 0.5457 - accuracy: 0.7329 - val_loss: 0.5442 - val_accuracy: 0.7416\n",
      "Epoch 170/250\n",
      "857/857 [==============================] - 0s 495us/step - loss: 0.5457 - accuracy: 0.7324 - val_loss: 0.5417 - val_accuracy: 0.7400\n",
      "Epoch 171/250\n",
      "857/857 [==============================] - 0s 496us/step - loss: 0.5458 - accuracy: 0.7328 - val_loss: 0.5428 - val_accuracy: 0.7400\n",
      "Epoch 172/250\n",
      "857/857 [==============================] - 0s 499us/step - loss: 0.5457 - accuracy: 0.7327 - val_loss: 0.5416 - val_accuracy: 0.7412\n",
      "Epoch 173/250\n",
      "857/857 [==============================] - 0s 499us/step - loss: 0.5460 - accuracy: 0.7329 - val_loss: 0.5414 - val_accuracy: 0.7409\n",
      "Epoch 174/250\n",
      "857/857 [==============================] - 0s 494us/step - loss: 0.5455 - accuracy: 0.7327 - val_loss: 0.5414 - val_accuracy: 0.7412\n",
      "Epoch 175/250\n",
      "857/857 [==============================] - 0s 506us/step - loss: 0.5457 - accuracy: 0.7333 - val_loss: 0.5417 - val_accuracy: 0.7405\n",
      "Epoch 176/250\n",
      "857/857 [==============================] - 0s 498us/step - loss: 0.5457 - accuracy: 0.7331 - val_loss: 0.5429 - val_accuracy: 0.7415\n",
      "Epoch 177/250\n",
      "857/857 [==============================] - 0s 495us/step - loss: 0.5458 - accuracy: 0.7328 - val_loss: 0.5414 - val_accuracy: 0.7405\n",
      "Epoch 178/250\n",
      "857/857 [==============================] - 0s 496us/step - loss: 0.5457 - accuracy: 0.7321 - val_loss: 0.5424 - val_accuracy: 0.7412\n",
      "Epoch 179/250\n",
      "857/857 [==============================] - 0s 496us/step - loss: 0.5457 - accuracy: 0.7328 - val_loss: 0.5418 - val_accuracy: 0.7400\n",
      "Epoch 180/250\n",
      "857/857 [==============================] - 0s 494us/step - loss: 0.5457 - accuracy: 0.7324 - val_loss: 0.5425 - val_accuracy: 0.7415\n",
      "Epoch 181/250\n",
      "857/857 [==============================] - 0s 493us/step - loss: 0.5459 - accuracy: 0.7324 - val_loss: 0.5419 - val_accuracy: 0.7409\n",
      "Epoch 182/250\n",
      "857/857 [==============================] - 0s 497us/step - loss: 0.5458 - accuracy: 0.7324 - val_loss: 0.5432 - val_accuracy: 0.7405\n",
      "Epoch 183/250\n",
      "857/857 [==============================] - 0s 495us/step - loss: 0.5457 - accuracy: 0.7328 - val_loss: 0.5419 - val_accuracy: 0.7405\n",
      "Epoch 184/250\n",
      "857/857 [==============================] - 0s 494us/step - loss: 0.5458 - accuracy: 0.7322 - val_loss: 0.5432 - val_accuracy: 0.7403\n",
      "Epoch 185/250\n",
      "857/857 [==============================] - 0s 496us/step - loss: 0.5456 - accuracy: 0.7334 - val_loss: 0.5424 - val_accuracy: 0.7414\n",
      "Epoch 186/250\n",
      "857/857 [==============================] - 0s 495us/step - loss: 0.5454 - accuracy: 0.7329 - val_loss: 0.5426 - val_accuracy: 0.7395\n",
      "Epoch 187/250\n",
      "857/857 [==============================] - 0s 497us/step - loss: 0.5457 - accuracy: 0.7324 - val_loss: 0.5418 - val_accuracy: 0.7405\n",
      "Epoch 188/250\n",
      "857/857 [==============================] - 0s 494us/step - loss: 0.5458 - accuracy: 0.7331 - val_loss: 0.5431 - val_accuracy: 0.7398\n",
      "Epoch 189/250\n",
      "857/857 [==============================] - 0s 497us/step - loss: 0.5457 - accuracy: 0.7331 - val_loss: 0.5420 - val_accuracy: 0.7403\n",
      "Epoch 190/250\n",
      "857/857 [==============================] - 0s 495us/step - loss: 0.5458 - accuracy: 0.7323 - val_loss: 0.5424 - val_accuracy: 0.7400\n",
      "Epoch 191/250\n",
      "857/857 [==============================] - 0s 495us/step - loss: 0.5456 - accuracy: 0.7329 - val_loss: 0.5414 - val_accuracy: 0.7414\n",
      "Epoch 192/250\n",
      "857/857 [==============================] - 0s 499us/step - loss: 0.5455 - accuracy: 0.7333 - val_loss: 0.5425 - val_accuracy: 0.7408\n",
      "Epoch 193/250\n",
      "857/857 [==============================] - 0s 494us/step - loss: 0.5457 - accuracy: 0.7331 - val_loss: 0.5425 - val_accuracy: 0.7414\n",
      "Epoch 194/250\n",
      "857/857 [==============================] - 0s 494us/step - loss: 0.5458 - accuracy: 0.7328 - val_loss: 0.5421 - val_accuracy: 0.7415\n",
      "Epoch 195/250\n",
      "857/857 [==============================] - 0s 500us/step - loss: 0.5454 - accuracy: 0.7322 - val_loss: 0.5420 - val_accuracy: 0.7408\n",
      "Epoch 196/250\n",
      "857/857 [==============================] - 0s 499us/step - loss: 0.5456 - accuracy: 0.7320 - val_loss: 0.5423 - val_accuracy: 0.7411\n",
      "Epoch 197/250\n",
      "857/857 [==============================] - 0s 496us/step - loss: 0.5457 - accuracy: 0.7324 - val_loss: 0.5422 - val_accuracy: 0.7416\n",
      "Epoch 198/250\n",
      "857/857 [==============================] - 0s 493us/step - loss: 0.5458 - accuracy: 0.7331 - val_loss: 0.5423 - val_accuracy: 0.7403\n",
      "Epoch 199/250\n",
      "857/857 [==============================] - 0s 497us/step - loss: 0.5454 - accuracy: 0.7329 - val_loss: 0.5413 - val_accuracy: 0.7415\n",
      "Epoch 200/250\n",
      "857/857 [==============================] - 0s 499us/step - loss: 0.5460 - accuracy: 0.7329 - val_loss: 0.5418 - val_accuracy: 0.7414\n",
      "Epoch 201/250\n",
      "857/857 [==============================] - 0s 497us/step - loss: 0.5456 - accuracy: 0.7329 - val_loss: 0.5425 - val_accuracy: 0.7406\n",
      "Epoch 202/250\n",
      "857/857 [==============================] - 0s 498us/step - loss: 0.5456 - accuracy: 0.7327 - val_loss: 0.5420 - val_accuracy: 0.7411\n",
      "Epoch 203/250\n",
      "857/857 [==============================] - 0s 497us/step - loss: 0.5454 - accuracy: 0.7328 - val_loss: 0.5431 - val_accuracy: 0.7415\n",
      "Epoch 204/250\n",
      "857/857 [==============================] - 0s 491us/step - loss: 0.5456 - accuracy: 0.7324 - val_loss: 0.5426 - val_accuracy: 0.7389\n",
      "Epoch 205/250\n",
      "857/857 [==============================] - 0s 492us/step - loss: 0.5457 - accuracy: 0.7321 - val_loss: 0.5417 - val_accuracy: 0.7406\n",
      "Epoch 206/250\n",
      "857/857 [==============================] - 0s 495us/step - loss: 0.5457 - accuracy: 0.7327 - val_loss: 0.5411 - val_accuracy: 0.7408\n",
      "Epoch 207/250\n",
      "857/857 [==============================] - 0s 495us/step - loss: 0.5455 - accuracy: 0.7335 - val_loss: 0.5405 - val_accuracy: 0.7408\n",
      "Epoch 208/250\n",
      "857/857 [==============================] - 0s 497us/step - loss: 0.5453 - accuracy: 0.7328 - val_loss: 0.5413 - val_accuracy: 0.7414\n",
      "Epoch 209/250\n",
      "857/857 [==============================] - 0s 498us/step - loss: 0.5456 - accuracy: 0.7326 - val_loss: 0.5439 - val_accuracy: 0.7322\n",
      "Epoch 210/250\n",
      "857/857 [==============================] - 0s 500us/step - loss: 0.5457 - accuracy: 0.7331 - val_loss: 0.5420 - val_accuracy: 0.7402\n",
      "Epoch 211/250\n",
      "857/857 [==============================] - 0s 496us/step - loss: 0.5456 - accuracy: 0.7334 - val_loss: 0.5413 - val_accuracy: 0.7422\n",
      "Epoch 212/250\n",
      "857/857 [==============================] - 0s 498us/step - loss: 0.5458 - accuracy: 0.7328 - val_loss: 0.5421 - val_accuracy: 0.7412\n",
      "Epoch 213/250\n",
      "857/857 [==============================] - 0s 511us/step - loss: 0.5456 - accuracy: 0.7332 - val_loss: 0.5421 - val_accuracy: 0.7411\n",
      "Epoch 214/250\n",
      "857/857 [==============================] - 0s 496us/step - loss: 0.5457 - accuracy: 0.7329 - val_loss: 0.5415 - val_accuracy: 0.7414\n",
      "Epoch 215/250\n",
      "857/857 [==============================] - 0s 500us/step - loss: 0.5454 - accuracy: 0.7326 - val_loss: 0.5414 - val_accuracy: 0.7416\n",
      "Epoch 216/250\n",
      "857/857 [==============================] - 0s 496us/step - loss: 0.5458 - accuracy: 0.7320 - val_loss: 0.5423 - val_accuracy: 0.7415\n",
      "Epoch 217/250\n",
      "857/857 [==============================] - 0s 494us/step - loss: 0.5454 - accuracy: 0.7328 - val_loss: 0.5437 - val_accuracy: 0.7415\n",
      "Epoch 218/250\n",
      "857/857 [==============================] - 0s 495us/step - loss: 0.5457 - accuracy: 0.7324 - val_loss: 0.5435 - val_accuracy: 0.7395\n",
      "Epoch 219/250\n",
      "857/857 [==============================] - 0s 496us/step - loss: 0.5457 - accuracy: 0.7323 - val_loss: 0.5413 - val_accuracy: 0.7414\n",
      "Epoch 220/250\n",
      "857/857 [==============================] - 0s 498us/step - loss: 0.5456 - accuracy: 0.7331 - val_loss: 0.5426 - val_accuracy: 0.7405\n",
      "Epoch 221/250\n",
      "857/857 [==============================] - 0s 495us/step - loss: 0.5459 - accuracy: 0.7329 - val_loss: 0.5421 - val_accuracy: 0.7415\n",
      "Epoch 222/250\n",
      "857/857 [==============================] - 0s 496us/step - loss: 0.5455 - accuracy: 0.7333 - val_loss: 0.5420 - val_accuracy: 0.7411\n",
      "Epoch 223/250\n",
      "857/857 [==============================] - 0s 500us/step - loss: 0.5453 - accuracy: 0.7335 - val_loss: 0.5417 - val_accuracy: 0.7415\n",
      "Epoch 224/250\n",
      "857/857 [==============================] - 0s 496us/step - loss: 0.5456 - accuracy: 0.7321 - val_loss: 0.5418 - val_accuracy: 0.7414\n",
      "Epoch 225/250\n",
      "857/857 [==============================] - 0s 499us/step - loss: 0.5455 - accuracy: 0.7322 - val_loss: 0.5413 - val_accuracy: 0.7412\n",
      "Epoch 226/250\n",
      "857/857 [==============================] - 0s 498us/step - loss: 0.5456 - accuracy: 0.7328 - val_loss: 0.5418 - val_accuracy: 0.7398\n",
      "Epoch 227/250\n",
      "857/857 [==============================] - 0s 494us/step - loss: 0.5455 - accuracy: 0.7334 - val_loss: 0.5415 - val_accuracy: 0.7415\n",
      "Epoch 228/250\n",
      "857/857 [==============================] - 0s 495us/step - loss: 0.5454 - accuracy: 0.7324 - val_loss: 0.5425 - val_accuracy: 0.7405\n",
      "Epoch 229/250\n",
      "857/857 [==============================] - 0s 496us/step - loss: 0.5457 - accuracy: 0.7324 - val_loss: 0.5418 - val_accuracy: 0.7395\n",
      "Epoch 230/250\n",
      "857/857 [==============================] - 0s 499us/step - loss: 0.5456 - accuracy: 0.7321 - val_loss: 0.5411 - val_accuracy: 0.7402\n",
      "Epoch 231/250\n",
      "857/857 [==============================] - 0s 495us/step - loss: 0.5456 - accuracy: 0.7325 - val_loss: 0.5408 - val_accuracy: 0.7409\n",
      "Epoch 232/250\n",
      "857/857 [==============================] - 0s 497us/step - loss: 0.5457 - accuracy: 0.7324 - val_loss: 0.5413 - val_accuracy: 0.7416\n",
      "Epoch 233/250\n",
      "857/857 [==============================] - 0s 496us/step - loss: 0.5454 - accuracy: 0.7324 - val_loss: 0.5436 - val_accuracy: 0.7403\n",
      "Epoch 234/250\n",
      "857/857 [==============================] - 0s 495us/step - loss: 0.5453 - accuracy: 0.7323 - val_loss: 0.5426 - val_accuracy: 0.7392\n",
      "Epoch 235/250\n",
      "857/857 [==============================] - 0s 495us/step - loss: 0.5455 - accuracy: 0.7325 - val_loss: 0.5421 - val_accuracy: 0.7396\n",
      "Epoch 236/250\n",
      "857/857 [==============================] - 0s 495us/step - loss: 0.5456 - accuracy: 0.7319 - val_loss: 0.5409 - val_accuracy: 0.7411\n",
      "Epoch 237/250\n",
      "857/857 [==============================] - 0s 497us/step - loss: 0.5454 - accuracy: 0.7318 - val_loss: 0.5425 - val_accuracy: 0.7396\n",
      "Epoch 238/250\n",
      "857/857 [==============================] - 0s 500us/step - loss: 0.5454 - accuracy: 0.7316 - val_loss: 0.5416 - val_accuracy: 0.7408\n",
      "Epoch 239/250\n",
      "857/857 [==============================] - 0s 505us/step - loss: 0.5455 - accuracy: 0.7325 - val_loss: 0.5429 - val_accuracy: 0.7418\n",
      "Epoch 240/250\n",
      "857/857 [==============================] - 0s 498us/step - loss: 0.5455 - accuracy: 0.7329 - val_loss: 0.5418 - val_accuracy: 0.7414\n",
      "Epoch 241/250\n",
      "857/857 [==============================] - 0s 491us/step - loss: 0.5454 - accuracy: 0.7319 - val_loss: 0.5409 - val_accuracy: 0.7416\n",
      "Epoch 242/250\n",
      "857/857 [==============================] - 0s 499us/step - loss: 0.5453 - accuracy: 0.7326 - val_loss: 0.5450 - val_accuracy: 0.7398\n",
      "Epoch 243/250\n",
      "857/857 [==============================] - 0s 497us/step - loss: 0.5458 - accuracy: 0.7324 - val_loss: 0.5433 - val_accuracy: 0.7329\n",
      "Epoch 244/250\n",
      "857/857 [==============================] - 0s 495us/step - loss: 0.5457 - accuracy: 0.7317 - val_loss: 0.5416 - val_accuracy: 0.7411\n",
      "Epoch 245/250\n",
      "857/857 [==============================] - 0s 495us/step - loss: 0.5455 - accuracy: 0.7334 - val_loss: 0.5422 - val_accuracy: 0.7395\n",
      "Epoch 246/250\n",
      "857/857 [==============================] - 0s 496us/step - loss: 0.5455 - accuracy: 0.7332 - val_loss: 0.5422 - val_accuracy: 0.7390\n",
      "Epoch 247/250\n",
      "857/857 [==============================] - 0s 499us/step - loss: 0.5453 - accuracy: 0.7319 - val_loss: 0.5417 - val_accuracy: 0.7409\n",
      "Epoch 248/250\n",
      "857/857 [==============================] - 0s 496us/step - loss: 0.5455 - accuracy: 0.7323 - val_loss: 0.5417 - val_accuracy: 0.7395\n",
      "Epoch 249/250\n",
      "857/857 [==============================] - 0s 497us/step - loss: 0.5453 - accuracy: 0.7317 - val_loss: 0.5419 - val_accuracy: 0.7411\n",
      "Epoch 250/250\n",
      "857/857 [==============================] - 0s 504us/step - loss: 0.5454 - accuracy: 0.7332 - val_loss: 0.5418 - val_accuracy: 0.7402\n"
     ]
    }
   ],
   "source": [
    "# Training Models\n",
    "train_session_one = train_nn_model(nn, X_train_scaled, y_train, X_test_scaled, y_test)\n"
   ],
   "metadata": {
    "collapsed": false,
    "ExecuteTime": {
     "end_time": "2024-01-12T22:23:56.776115Z",
     "start_time": "2024-01-12T22:22:09.320916Z"
    }
   }
  },
  {
   "cell_type": "code",
   "execution_count": 19,
   "outputs": [
    {
     "data": {
      "text/plain": "<Figure size 1600x800 with 2 Axes>",
      "image/png": "[encoded data removed]"
     },
     "metadata": {},
     "output_type": "display_data"
    }
   ],
   "source": [
    "fig = plot_accuracy_loss(train_session_one)\n"
   ],
   "metadata": {
    "collapsed": false,
    "ExecuteTime": {
     "end_time": "2024-01-12T22:24:12.354839Z",
     "start_time": "2024-01-12T22:24:12.153587Z"
    }
   }
  },
  {
   "cell_type": "code",
   "execution_count": 20,
   "outputs": [],
   "source": [
    "fig.savefig(f'Images/model_1_metrics/feed_forward_model1_{layer_1}_{layer_2}.png')"
   ],
   "metadata": {
    "collapsed": false,
    "ExecuteTime": {
     "end_time": "2024-01-12T22:24:29.579480Z",
     "start_time": "2024-01-12T22:24:29.496923Z"
    }
   }
  },
  {
   "cell_type": "code",
   "execution_count": 21,
   "metadata": {
    "ExecuteTime": {
     "end_time": "2024-01-12T22:24:30.372251Z",
     "start_time": "2024-01-12T22:24:30.254539Z"
    }
   },
   "outputs": [
    {
     "name": "stdout",
     "output_type": "stream",
     "text": [
      "215/215 - 0s - loss: 0.5418 - accuracy: 0.7402 - 85ms/epoch - 393us/step\n",
      "Loss: 0.541832447052002, Accuracy: 0.7401896715164185\n"
     ]
    }
   ],
   "source": [
    "# Evaluate the model using the test data\n",
    "model_loss, model_accuracy = nn.evaluate(X_test_scaled,y_test,verbose=2)\n",
    "print(f\"Loss: {model_loss}, Accuracy: {model_accuracy}\")"
   ]
  },
  {
   "cell_type": "code",
   "execution_count": 188,
   "metadata": {
    "ExecuteTime": {
     "end_time": "2024-01-12T20:24:35.036493Z",
     "start_time": "2024-01-12T20:24:35.015985Z"
    }
   },
   "outputs": [],
   "source": [
    "# Export our model to HDF5 file\n",
    "nn_directory = \"Models/AlphabetSoupCharity_m1.h5\"\n",
    "# Save the model to a HDF5 file\n",
    "nn.save(nn_directory)"
   ]
  },
  {
   "cell_type": "markdown",
   "source": [
    "# Summary\n",
    "\n",
    "In this first model, I split the dataset 80-20 for training and validation. \n",
    "\n",
    "I initially used 32-16 for my hidden layers but it looked like the data overfit based on the curves. I then reduced it to 8 and 4 with no dropout with e=100. I then got 74% accuracy on training data with 54 loss ratio. validation_loss curve below the training_loss curve shows the model struggling to fit model data. Should probably use a different random state or different split to train."
   ],
   "metadata": {
    "collapsed": false
   }
  },
  {
   "cell_type": "code",
   "execution_count": null,
   "outputs": [],
   "source": [],
   "metadata": {
    "collapsed": false
   }
  }
 ],
 "metadata": {
  "kernelspec": {
   "display_name": "Python 3",
   "language": "python",
   "name": "python3"
  },
  "language_info": {
   "codemirror_mode": {
    "name": "ipython",
    "version": 3
   },
   "file_extension": ".py",
   "mimetype": "text/x-python",
   "name": "python",
   "nbconvert_exporter": "python",
   "pygments_lexer": "ipython3",
   "version": "3.-1.-1"
  },
  "vscode": {
   "interpreter": {
    "hash": "31f2aee4e71d21fbe5cf8b01ff0e069b9275f58929596ceb00d14d90e3e16cd6"
   }
  }
 },
 "nbformat": 4,
 "nbformat_minor": 4
}

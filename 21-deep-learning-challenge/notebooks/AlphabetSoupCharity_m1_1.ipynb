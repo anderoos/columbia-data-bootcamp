{
 "cells": [
  {
   "cell_type": "markdown",
   "metadata": {},
   "source": [
    "## Preprocessing"
   ]
  },
  {
   "cell_type": "code",
   "execution_count": 50,
   "outputs": [],
   "source": [
    "import warnings\n",
    "\n",
    "warnings.filterwarnings('ignore')"
   ],
   "metadata": {
    "collapsed": false,
    "ExecuteTime": {
     "end_time": "2024-01-16T22:42:46.987141Z",
     "start_time": "2024-01-16T22:42:46.979959Z"
    }
   }
  },
  {
   "cell_type": "code",
   "execution_count": 51,
   "metadata": {
    "ExecuteTime": {
     "end_time": "2024-01-16T22:42:48.471289Z",
     "start_time": "2024-01-16T22:42:47.157618Z"
    }
   },
   "outputs": [
    {
     "data": {
      "text/plain": "        EIN                                      NAME APPLICATION_TYPE  \\\n0  10520599              BLUE KNIGHTS MOTORCYCLE CLUB              T10   \n1  10531628    AMERICAN CHESAPEAKE CLUB CHARITABLE TR               T3   \n2  10547893        ST CLOUD PROFESSIONAL FIREFIGHTERS               T5   \n3  10553066            SOUTHSIDE ATHLETIC ASSOCIATION               T3   \n4  10556103  GENETIC RESEARCH INSTITUTE OF THE DESERT               T3   \n\n        AFFILIATION CLASSIFICATION      USE_CASE  ORGANIZATION  STATUS  \\\n0       Independent          C1000    ProductDev   Association       1   \n1       Independent          C2000  Preservation  Co-operative       1   \n2  CompanySponsored          C3000    ProductDev   Association       1   \n3  CompanySponsored          C2000  Preservation         Trust       1   \n4       Independent          C1000     Heathcare         Trust       1   \n\n      INCOME_AMT SPECIAL_CONSIDERATIONS  ASK_AMT  IS_SUCCESSFUL  \n0              0                      N     5000              1  \n1         1-9999                      N   108590              1  \n2              0                      N     5000              0  \n3    10000-24999                      N     6692              1  \n4  100000-499999                      N   142590              1  ",
      "text/html": "<div>\n<style scoped>\n    .dataframe tbody tr th:only-of-type {\n        vertical-align: middle;\n    }\n\n    .dataframe tbody tr th {\n        vertical-align: top;\n    }\n\n    .dataframe thead th {\n        text-align: right;\n    }\n</style>\n<table border=\"1\" class=\"dataframe\">\n  <thead>\n    <tr style=\"text-align: right;\">\n      <th></th>\n      <th>EIN</th>\n      <th>NAME</th>\n      <th>APPLICATION_TYPE</th>\n      <th>AFFILIATION</th>\n      <th>CLASSIFICATION</th>\n      <th>USE_CASE</th>\n      <th>ORGANIZATION</th>\n      <th>STATUS</th>\n      <th>INCOME_AMT</th>\n      <th>SPECIAL_CONSIDERATIONS</th>\n      <th>ASK_AMT</th>\n      <th>IS_SUCCESSFUL</th>\n    </tr>\n  </thead>\n  <tbody>\n    <tr>\n      <th>0</th>\n      <td>10520599</td>\n      <td>BLUE KNIGHTS MOTORCYCLE CLUB</td>\n      <td>T10</td>\n      <td>Independent</td>\n      <td>C1000</td>\n      <td>ProductDev</td>\n      <td>Association</td>\n      <td>1</td>\n      <td>0</td>\n      <td>N</td>\n      <td>5000</td>\n      <td>1</td>\n    </tr>\n    <tr>\n      <th>1</th>\n      <td>10531628</td>\n      <td>AMERICAN CHESAPEAKE CLUB CHARITABLE TR</td>\n      <td>T3</td>\n      <td>Independent</td>\n      <td>C2000</td>\n      <td>Preservation</td>\n      <td>Co-operative</td>\n      <td>1</td>\n      <td>1-9999</td>\n      <td>N</td>\n      <td>108590</td>\n      <td>1</td>\n    </tr>\n    <tr>\n      <th>2</th>\n      <td>10547893</td>\n      <td>ST CLOUD PROFESSIONAL FIREFIGHTERS</td>\n      <td>T5</td>\n      <td>CompanySponsored</td>\n      <td>C3000</td>\n      <td>ProductDev</td>\n      <td>Association</td>\n      <td>1</td>\n      <td>0</td>\n      <td>N</td>\n      <td>5000</td>\n      <td>0</td>\n    </tr>\n    <tr>\n      <th>3</th>\n      <td>10553066</td>\n      <td>SOUTHSIDE ATHLETIC ASSOCIATION</td>\n      <td>T3</td>\n      <td>CompanySponsored</td>\n      <td>C2000</td>\n      <td>Preservation</td>\n      <td>Trust</td>\n      <td>1</td>\n      <td>10000-24999</td>\n      <td>N</td>\n      <td>6692</td>\n      <td>1</td>\n    </tr>\n    <tr>\n      <th>4</th>\n      <td>10556103</td>\n      <td>GENETIC RESEARCH INSTITUTE OF THE DESERT</td>\n      <td>T3</td>\n      <td>Independent</td>\n      <td>C1000</td>\n      <td>Heathcare</td>\n      <td>Trust</td>\n      <td>1</td>\n      <td>100000-499999</td>\n      <td>N</td>\n      <td>142590</td>\n      <td>1</td>\n    </tr>\n  </tbody>\n</table>\n</div>"
     },
     "execution_count": 51,
     "metadata": {},
     "output_type": "execute_result"
    }
   ],
   "source": [
    "# Import our dependencies\n",
    "from sklearn.model_selection import train_test_split\n",
    "from sklearn.preprocessing import StandardScaler\n",
    "import pandas as pd\n",
    "import numpy as np\n",
    "import tensorflow as tf\n",
    "\n",
    "#  Import and read the charity_data.csv.\n",
    "import pandas as pd \n",
    "application_df = pd.read_csv(\"https://static.bc-edx.com/data/dl-1-2/m21/lms/starter/charity_data.csv\")\n",
    "\n",
    "# Export to prevent unnecessary queries\n",
    "application_df.to_csv('Resources/charity_data.csv')\n",
    "application_df.head()"
   ]
  },
  {
   "cell_type": "code",
   "execution_count": 52,
   "metadata": {
    "ExecuteTime": {
     "end_time": "2024-01-16T22:42:48.481955Z",
     "start_time": "2024-01-16T22:42:48.468975Z"
    }
   },
   "outputs": [
    {
     "name": "stdout",
     "output_type": "stream",
     "text": [
      "<class 'pandas.core.frame.DataFrame'>\n",
      "RangeIndex: 34299 entries, 0 to 34298\n",
      "Data columns (total 10 columns):\n",
      " #   Column                  Non-Null Count  Dtype \n",
      "---  ------                  --------------  ----- \n",
      " 0   APPLICATION_TYPE        34299 non-null  object\n",
      " 1   AFFILIATION             34299 non-null  object\n",
      " 2   CLASSIFICATION          34299 non-null  object\n",
      " 3   USE_CASE                34299 non-null  object\n",
      " 4   ORGANIZATION            34299 non-null  object\n",
      " 5   STATUS                  34299 non-null  int64 \n",
      " 6   INCOME_AMT              34299 non-null  object\n",
      " 7   SPECIAL_CONSIDERATIONS  34299 non-null  object\n",
      " 8   ASK_AMT                 34299 non-null  int64 \n",
      " 9   IS_SUCCESSFUL           34299 non-null  int64 \n",
      "dtypes: int64(3), object(7)\n",
      "memory usage: 2.6+ MB\n"
     ]
    }
   ],
   "source": [
    "# Drop the non-beneficial ID columns, 'EIN' and 'NAME'.\n",
    "application_df.drop(['EIN', 'NAME'], axis=1, inplace=True)\n",
    "application_df.info()"
   ]
  },
  {
   "cell_type": "code",
   "execution_count": 53,
   "metadata": {
    "ExecuteTime": {
     "end_time": "2024-01-16T22:42:48.495587Z",
     "start_time": "2024-01-16T22:42:48.478913Z"
    }
   },
   "outputs": [
    {
     "data": {
      "text/plain": "APPLICATION_TYPE            17\nAFFILIATION                  6\nCLASSIFICATION              71\nUSE_CASE                     5\nORGANIZATION                 4\nSTATUS                       2\nINCOME_AMT                   9\nSPECIAL_CONSIDERATIONS       2\nASK_AMT                   8747\nIS_SUCCESSFUL                2\ndtype: int64"
     },
     "execution_count": 53,
     "metadata": {},
     "output_type": "execute_result"
    }
   ],
   "source": [
    "# Determine the number of unique values in each column.\n",
    "application_df.nunique()"
   ]
  },
  {
   "cell_type": "code",
   "execution_count": 54,
   "metadata": {
    "ExecuteTime": {
     "end_time": "2024-01-16T22:42:48.527259Z",
     "start_time": "2024-01-16T22:42:48.493042Z"
    }
   },
   "outputs": [
    {
     "data": {
      "text/plain": "   APPLICATION_TYPE  count\n0                T3  27037\n1                T4   1542\n2                T6   1216\n3                T5   1173\n4               T19   1065\n5                T8    737\n6                T7    725\n7               T10    528\n8                T9    156\n9               T13     66\n10              T12     27\n11               T2     16\n12              T25      3\n13              T14      3\n14              T29      2\n15              T15      2\n16              T17      1",
      "text/html": "<div>\n<style scoped>\n    .dataframe tbody tr th:only-of-type {\n        vertical-align: middle;\n    }\n\n    .dataframe tbody tr th {\n        vertical-align: top;\n    }\n\n    .dataframe thead th {\n        text-align: right;\n    }\n</style>\n<table border=\"1\" class=\"dataframe\">\n  <thead>\n    <tr style=\"text-align: right;\">\n      <th></th>\n      <th>APPLICATION_TYPE</th>\n      <th>count</th>\n    </tr>\n  </thead>\n  <tbody>\n    <tr>\n      <th>0</th>\n      <td>T3</td>\n      <td>27037</td>\n    </tr>\n    <tr>\n      <th>1</th>\n      <td>T4</td>\n      <td>1542</td>\n    </tr>\n    <tr>\n      <th>2</th>\n      <td>T6</td>\n      <td>1216</td>\n    </tr>\n    <tr>\n      <th>3</th>\n      <td>T5</td>\n      <td>1173</td>\n    </tr>\n    <tr>\n      <th>4</th>\n      <td>T19</td>\n      <td>1065</td>\n    </tr>\n    <tr>\n      <th>5</th>\n      <td>T8</td>\n      <td>737</td>\n    </tr>\n    <tr>\n      <th>6</th>\n      <td>T7</td>\n      <td>725</td>\n    </tr>\n    <tr>\n      <th>7</th>\n      <td>T10</td>\n      <td>528</td>\n    </tr>\n    <tr>\n      <th>8</th>\n      <td>T9</td>\n      <td>156</td>\n    </tr>\n    <tr>\n      <th>9</th>\n      <td>T13</td>\n      <td>66</td>\n    </tr>\n    <tr>\n      <th>10</th>\n      <td>T12</td>\n      <td>27</td>\n    </tr>\n    <tr>\n      <th>11</th>\n      <td>T2</td>\n      <td>16</td>\n    </tr>\n    <tr>\n      <th>12</th>\n      <td>T25</td>\n      <td>3</td>\n    </tr>\n    <tr>\n      <th>13</th>\n      <td>T14</td>\n      <td>3</td>\n    </tr>\n    <tr>\n      <th>14</th>\n      <td>T29</td>\n      <td>2</td>\n    </tr>\n    <tr>\n      <th>15</th>\n      <td>T15</td>\n      <td>2</td>\n    </tr>\n    <tr>\n      <th>16</th>\n      <td>T17</td>\n      <td>1</td>\n    </tr>\n  </tbody>\n</table>\n</div>"
     },
     "execution_count": 54,
     "metadata": {},
     "output_type": "execute_result"
    }
   ],
   "source": [
    "# Look at APPLICATION_TYPE value counts for binning\n",
    "application_type_counts = application_df.APPLICATION_TYPE.value_counts().reset_index()\n",
    "application_type_counts"
   ]
  },
  {
   "cell_type": "code",
   "execution_count": 55,
   "metadata": {
    "ExecuteTime": {
     "end_time": "2024-01-16T22:42:48.549805Z",
     "start_time": "2024-01-16T22:42:48.504013Z"
    }
   },
   "outputs": [
    {
     "data": {
      "text/plain": "APPLICATION_TYPE\nT3       27037\nT4        1542\nT6        1216\nT5        1173\nT19       1065\nT8         737\nT7         725\nT10        528\nOther      276\nName: count, dtype: int64"
     },
     "execution_count": 55,
     "metadata": {},
     "output_type": "execute_result"
    }
   ],
   "source": [
    "# Choose a cutoff value and create a list of application types to be replaced\n",
    "bin_cutoff = 500\n",
    "cutoff_labels = list(application_type_counts[application_type_counts[\"count\"] < bin_cutoff]['APPLICATION_TYPE'])\n",
    "application_df['APPLICATION_TYPE'] = application_df['APPLICATION_TYPE'].apply(lambda x: 'Other' if x in cutoff_labels else x)\n",
    "\n",
    "# Replace in dataframe\n",
    "# for app in application_types_to_replace:\n",
    "#     application_df['APPLICATION_TYPE'] = application_df['APPLICATION_TYPE'].replace(app,\"Other\")\n",
    "\n",
    "# Check to make sure binning was successful\n",
    "application_df['APPLICATION_TYPE'].value_counts()"
   ]
  },
  {
   "cell_type": "code",
   "execution_count": 56,
   "metadata": {
    "ExecuteTime": {
     "end_time": "2024-01-16T22:42:48.550052Z",
     "start_time": "2024-01-16T22:42:48.508074Z"
    }
   },
   "outputs": [
    {
     "data": {
      "text/plain": "   CLASSIFICATION  count\n0           C1000  17326\n1           C2000   6074\n2           C1200   4837\n3           C3000   1918\n4           C2100   1883\n..            ...    ...\n66          C4120      1\n67          C8210      1\n68          C2561      1\n69          C4500      1\n70          C2150      1\n\n[71 rows x 2 columns]",
      "text/html": "<div>\n<style scoped>\n    .dataframe tbody tr th:only-of-type {\n        vertical-align: middle;\n    }\n\n    .dataframe tbody tr th {\n        vertical-align: top;\n    }\n\n    .dataframe thead th {\n        text-align: right;\n    }\n</style>\n<table border=\"1\" class=\"dataframe\">\n  <thead>\n    <tr style=\"text-align: right;\">\n      <th></th>\n      <th>CLASSIFICATION</th>\n      <th>count</th>\n    </tr>\n  </thead>\n  <tbody>\n    <tr>\n      <th>0</th>\n      <td>C1000</td>\n      <td>17326</td>\n    </tr>\n    <tr>\n      <th>1</th>\n      <td>C2000</td>\n      <td>6074</td>\n    </tr>\n    <tr>\n      <th>2</th>\n      <td>C1200</td>\n      <td>4837</td>\n    </tr>\n    <tr>\n      <th>3</th>\n      <td>C3000</td>\n      <td>1918</td>\n    </tr>\n    <tr>\n      <th>4</th>\n      <td>C2100</td>\n      <td>1883</td>\n    </tr>\n    <tr>\n      <th>...</th>\n      <td>...</td>\n      <td>...</td>\n    </tr>\n    <tr>\n      <th>66</th>\n      <td>C4120</td>\n      <td>1</td>\n    </tr>\n    <tr>\n      <th>67</th>\n      <td>C8210</td>\n      <td>1</td>\n    </tr>\n    <tr>\n      <th>68</th>\n      <td>C2561</td>\n      <td>1</td>\n    </tr>\n    <tr>\n      <th>69</th>\n      <td>C4500</td>\n      <td>1</td>\n    </tr>\n    <tr>\n      <th>70</th>\n      <td>C2150</td>\n      <td>1</td>\n    </tr>\n  </tbody>\n</table>\n<p>71 rows × 2 columns</p>\n</div>"
     },
     "execution_count": 56,
     "metadata": {},
     "output_type": "execute_result"
    }
   ],
   "source": [
    "# Look at CLASSIFICATION value counts for binning\n",
    "classification_type_counts = application_df['CLASSIFICATION'].value_counts().reset_index()\n",
    "classification_type_counts"
   ]
  },
  {
   "cell_type": "code",
   "execution_count": 57,
   "metadata": {
    "ExecuteTime": {
     "end_time": "2024-01-16T22:42:48.560377Z",
     "start_time": "2024-01-16T22:42:48.513108Z"
    }
   },
   "outputs": [
    {
     "data": {
      "text/plain": "CLASSIFICATION\nC1000    17326\nC2000     6074\nC1200     4837\nC3000     1918\nC2100     1883\nC7000      777\nC1700      287\nC4000      194\nC5000      116\nC1270      114\nC2700      104\nC2800       95\nC7100       75\nC1300       58\nC1280       50\nC1230       36\nC1400       34\nC7200       32\nC2300       32\nC1240       30\nC8000       20\nC7120       18\nC1500       16\nC1800       15\nC6000       15\nC1250       14\nC8200       11\nC1238       10\nC1278       10\nC1237        9\nC1235        9\nC7210        7\nC4100        6\nC1720        6\nC2400        6\nC1600        5\nC1257        5\nC1260        3\nC2710        3\nC0           3\nC1267        2\nC1256        2\nC1234        2\nC1246        2\nC3200        2\nName: count, dtype: int64"
     },
     "execution_count": 57,
     "metadata": {},
     "output_type": "execute_result"
    }
   ],
   "source": [
    "# You may find it helpful to look at CLASSIFICATION value counts >1\n",
    "threshold = 1\n",
    "cutoff_labels = list(classification_type_counts[classification_type_counts[\"count\"] <= threshold]['CLASSIFICATION'])\n",
    "application_df = application_df[~application_df['CLASSIFICATION'].isin(cutoff_labels)]\n",
    "\n",
    "application_df['CLASSIFICATION'].value_counts()"
   ]
  },
  {
   "cell_type": "code",
   "execution_count": 58,
   "metadata": {
    "ExecuteTime": {
     "end_time": "2024-01-16T22:42:48.952077Z",
     "start_time": "2024-01-16T22:42:48.836384Z"
    }
   },
   "outputs": [
    {
     "data": {
      "text/plain": "CLASSIFICATION\nC1000    17326\nC2000     6074\nC1200     4837\nOther     2235\nC3000     1918\nC2100     1883\nName: count, dtype: int64"
     },
     "execution_count": 58,
     "metadata": {},
     "output_type": "execute_result"
    }
   ],
   "source": [
    "# Choose a cutoff value and create a list of classifications to be replaced\n",
    "# use the variable name `classifications_to_replace`\n",
    "threshold = 1000\n",
    "classifications_to_replace = list(classification_type_counts[classification_type_counts[\"count\"] <= 1000]['CLASSIFICATION'])\n",
    "\n",
    "# Replace in dataframe\n",
    "for cls in classifications_to_replace:\n",
    "    application_df['CLASSIFICATION'] = application_df['CLASSIFICATION'].replace(cls,\"Other\")\n",
    "    \n",
    "# Check to make sure binning was successful\n",
    "application_df['CLASSIFICATION'].value_counts()"
   ]
  },
  {
   "cell_type": "code",
   "execution_count": 59,
   "outputs": [
    {
     "name": "stdout",
     "output_type": "stream",
     "text": [
      "<class 'pandas.core.frame.DataFrame'>\n",
      "Index: 34273 entries, 0 to 34298\n",
      "Data columns (total 10 columns):\n",
      " #   Column                  Non-Null Count  Dtype \n",
      "---  ------                  --------------  ----- \n",
      " 0   APPLICATION_TYPE        34273 non-null  object\n",
      " 1   AFFILIATION             34273 non-null  object\n",
      " 2   CLASSIFICATION          34273 non-null  object\n",
      " 3   USE_CASE                34273 non-null  object\n",
      " 4   ORGANIZATION            34273 non-null  object\n",
      " 5   STATUS                  34273 non-null  int64 \n",
      " 6   INCOME_AMT              34273 non-null  object\n",
      " 7   SPECIAL_CONSIDERATIONS  34273 non-null  object\n",
      " 8   ASK_AMT                 34273 non-null  int64 \n",
      " 9   IS_SUCCESSFUL           34273 non-null  int64 \n",
      "dtypes: int64(3), object(7)\n",
      "memory usage: 2.9+ MB\n"
     ]
    }
   ],
   "source": [
    "# Look at feature types\n",
    "application_df.info()"
   ],
   "metadata": {
    "collapsed": false,
    "ExecuteTime": {
     "end_time": "2024-01-16T22:42:49.540770Z",
     "start_time": "2024-01-16T22:42:49.532618Z"
    }
   }
  },
  {
   "cell_type": "code",
   "execution_count": 60,
   "metadata": {
    "ExecuteTime": {
     "end_time": "2024-01-16T22:42:49.808561Z",
     "start_time": "2024-01-16T22:42:49.784843Z"
    }
   },
   "outputs": [],
   "source": [
    "# Convert categorical data to numeric with `pd.get_dummies`\n",
    "obj_columns = application_df.select_dtypes(object).columns\n",
    "\n",
    "application_df = pd.get_dummies(application_df, columns=obj_columns).astype(int)"
   ]
  },
  {
   "cell_type": "code",
   "execution_count": 61,
   "outputs": [
    {
     "data": {
      "text/plain": "IS_SUCCESSFUL\n1    0.532285\n0    0.467715\nName: proportion, dtype: float64"
     },
     "execution_count": 61,
     "metadata": {},
     "output_type": "execute_result"
    }
   ],
   "source": [
    "# Check class balance\n",
    "application_df['IS_SUCCESSFUL'].value_counts(normalize=True)"
   ],
   "metadata": {
    "collapsed": false,
    "ExecuteTime": {
     "end_time": "2024-01-16T22:42:50.203094Z",
     "start_time": "2024-01-16T22:42:50.196768Z"
    }
   }
  },
  {
   "cell_type": "code",
   "execution_count": 62,
   "outputs": [
    {
     "data": {
      "text/plain": "       STATUS   ASK_AMT  IS_SUCCESSFUL  APPLICATION_TYPE_Other  \\\n0           1      5000              1                       0   \n1           1    108590              1                       0   \n2           1      5000              0                       0   \n3           1      6692              1                       0   \n4           1    142590              1                       0   \n...       ...       ...            ...                     ...   \n34294       1      5000              0                       0   \n34295       1      5000              0                       0   \n34296       1      5000              0                       0   \n34297       1      5000              1                       0   \n34298       1  36500179              0                       0   \n\n       APPLICATION_TYPE_T10  APPLICATION_TYPE_T19  APPLICATION_TYPE_T3  \\\n0                         1                     0                    0   \n1                         0                     0                    1   \n2                         0                     0                    0   \n3                         0                     0                    1   \n4                         0                     0                    1   \n...                     ...                   ...                  ...   \n34294                     0                     0                    0   \n34295                     0                     0                    0   \n34296                     0                     0                    1   \n34297                     0                     0                    0   \n34298                     0                     0                    1   \n\n       APPLICATION_TYPE_T4  APPLICATION_TYPE_T5  APPLICATION_TYPE_T6  ...  \\\n0                        0                    0                    0  ...   \n1                        0                    0                    0  ...   \n2                        0                    1                    0  ...   \n3                        0                    0                    0  ...   \n4                        0                    0                    0  ...   \n...                    ...                  ...                  ...  ...   \n34294                    1                    0                    0  ...   \n34295                    1                    0                    0  ...   \n34296                    0                    0                    0  ...   \n34297                    0                    1                    0  ...   \n34298                    0                    0                    0  ...   \n\n       INCOME_AMT_1-9999  INCOME_AMT_10000-24999  INCOME_AMT_100000-499999  \\\n0                      0                       0                         0   \n1                      1                       0                         0   \n2                      0                       0                         0   \n3                      0                       1                         0   \n4                      0                       0                         1   \n...                  ...                     ...                       ...   \n34294                  0                       0                         0   \n34295                  0                       0                         0   \n34296                  0                       0                         0   \n34297                  0                       0                         0   \n34298                  0                       0                         0   \n\n       INCOME_AMT_10M-50M  INCOME_AMT_1M-5M  INCOME_AMT_25000-99999  \\\n0                       0                 0                       0   \n1                       0                 0                       0   \n2                       0                 0                       0   \n3                       0                 0                       0   \n4                       0                 0                       0   \n...                   ...               ...                     ...   \n34294                   0                 0                       0   \n34295                   0                 0                       0   \n34296                   0                 0                       0   \n34297                   0                 0                       0   \n34298                   0                 1                       0   \n\n       INCOME_AMT_50M+  INCOME_AMT_5M-10M  SPECIAL_CONSIDERATIONS_N  \\\n0                    0                  0                         1   \n1                    0                  0                         1   \n2                    0                  0                         1   \n3                    0                  0                         1   \n4                    0                  0                         1   \n...                ...                ...                       ...   \n34294                0                  0                         1   \n34295                0                  0                         1   \n34296                0                  0                         1   \n34297                0                  0                         1   \n34298                0                  0                         1   \n\n       SPECIAL_CONSIDERATIONS_Y  \n0                             0  \n1                             0  \n2                             0  \n3                             0  \n4                             0  \n...                         ...  \n34294                         0  \n34295                         0  \n34296                         0  \n34297                         0  \n34298                         0  \n\n[34273 rows x 44 columns]",
      "text/html": "<div>\n<style scoped>\n    .dataframe tbody tr th:only-of-type {\n        vertical-align: middle;\n    }\n\n    .dataframe tbody tr th {\n        vertical-align: top;\n    }\n\n    .dataframe thead th {\n        text-align: right;\n    }\n</style>\n<table border=\"1\" class=\"dataframe\">\n  <thead>\n    <tr style=\"text-align: right;\">\n      <th></th>\n      <th>STATUS</th>\n      <th>ASK_AMT</th>\n      <th>IS_SUCCESSFUL</th>\n      <th>APPLICATION_TYPE_Other</th>\n      <th>APPLICATION_TYPE_T10</th>\n      <th>APPLICATION_TYPE_T19</th>\n      <th>APPLICATION_TYPE_T3</th>\n      <th>APPLICATION_TYPE_T4</th>\n      <th>APPLICATION_TYPE_T5</th>\n      <th>APPLICATION_TYPE_T6</th>\n      <th>...</th>\n      <th>INCOME_AMT_1-9999</th>\n      <th>INCOME_AMT_10000-24999</th>\n      <th>INCOME_AMT_100000-499999</th>\n      <th>INCOME_AMT_10M-50M</th>\n      <th>INCOME_AMT_1M-5M</th>\n      <th>INCOME_AMT_25000-99999</th>\n      <th>INCOME_AMT_50M+</th>\n      <th>INCOME_AMT_5M-10M</th>\n      <th>SPECIAL_CONSIDERATIONS_N</th>\n      <th>SPECIAL_CONSIDERATIONS_Y</th>\n    </tr>\n  </thead>\n  <tbody>\n    <tr>\n      <th>0</th>\n      <td>1</td>\n      <td>5000</td>\n      <td>1</td>\n      <td>0</td>\n      <td>1</td>\n      <td>0</td>\n      <td>0</td>\n      <td>0</td>\n      <td>0</td>\n      <td>0</td>\n      <td>...</td>\n      <td>0</td>\n      <td>0</td>\n      <td>0</td>\n      <td>0</td>\n      <td>0</td>\n      <td>0</td>\n      <td>0</td>\n      <td>0</td>\n      <td>1</td>\n      <td>0</td>\n    </tr>\n    <tr>\n      <th>1</th>\n      <td>1</td>\n      <td>108590</td>\n      <td>1</td>\n      <td>0</td>\n      <td>0</td>\n      <td>0</td>\n      <td>1</td>\n      <td>0</td>\n      <td>0</td>\n      <td>0</td>\n      <td>...</td>\n      <td>1</td>\n      <td>0</td>\n      <td>0</td>\n      <td>0</td>\n      <td>0</td>\n      <td>0</td>\n      <td>0</td>\n      <td>0</td>\n      <td>1</td>\n      <td>0</td>\n    </tr>\n    <tr>\n      <th>2</th>\n      <td>1</td>\n      <td>5000</td>\n      <td>0</td>\n      <td>0</td>\n      <td>0</td>\n      <td>0</td>\n      <td>0</td>\n      <td>0</td>\n      <td>1</td>\n      <td>0</td>\n      <td>...</td>\n      <td>0</td>\n      <td>0</td>\n      <td>0</td>\n      <td>0</td>\n      <td>0</td>\n      <td>0</td>\n      <td>0</td>\n      <td>0</td>\n      <td>1</td>\n      <td>0</td>\n    </tr>\n    <tr>\n      <th>3</th>\n      <td>1</td>\n      <td>6692</td>\n      <td>1</td>\n      <td>0</td>\n      <td>0</td>\n      <td>0</td>\n      <td>1</td>\n      <td>0</td>\n      <td>0</td>\n      <td>0</td>\n      <td>...</td>\n      <td>0</td>\n      <td>1</td>\n      <td>0</td>\n      <td>0</td>\n      <td>0</td>\n      <td>0</td>\n      <td>0</td>\n      <td>0</td>\n      <td>1</td>\n      <td>0</td>\n    </tr>\n    <tr>\n      <th>4</th>\n      <td>1</td>\n      <td>142590</td>\n      <td>1</td>\n      <td>0</td>\n      <td>0</td>\n      <td>0</td>\n      <td>1</td>\n      <td>0</td>\n      <td>0</td>\n      <td>0</td>\n      <td>...</td>\n      <td>0</td>\n      <td>0</td>\n      <td>1</td>\n      <td>0</td>\n      <td>0</td>\n      <td>0</td>\n      <td>0</td>\n      <td>0</td>\n      <td>1</td>\n      <td>0</td>\n    </tr>\n    <tr>\n      <th>...</th>\n      <td>...</td>\n      <td>...</td>\n      <td>...</td>\n      <td>...</td>\n      <td>...</td>\n      <td>...</td>\n      <td>...</td>\n      <td>...</td>\n      <td>...</td>\n      <td>...</td>\n      <td>...</td>\n      <td>...</td>\n      <td>...</td>\n      <td>...</td>\n      <td>...</td>\n      <td>...</td>\n      <td>...</td>\n      <td>...</td>\n      <td>...</td>\n      <td>...</td>\n      <td>...</td>\n    </tr>\n    <tr>\n      <th>34294</th>\n      <td>1</td>\n      <td>5000</td>\n      <td>0</td>\n      <td>0</td>\n      <td>0</td>\n      <td>0</td>\n      <td>0</td>\n      <td>1</td>\n      <td>0</td>\n      <td>0</td>\n      <td>...</td>\n      <td>0</td>\n      <td>0</td>\n      <td>0</td>\n      <td>0</td>\n      <td>0</td>\n      <td>0</td>\n      <td>0</td>\n      <td>0</td>\n      <td>1</td>\n      <td>0</td>\n    </tr>\n    <tr>\n      <th>34295</th>\n      <td>1</td>\n      <td>5000</td>\n      <td>0</td>\n      <td>0</td>\n      <td>0</td>\n      <td>0</td>\n      <td>0</td>\n      <td>1</td>\n      <td>0</td>\n      <td>0</td>\n      <td>...</td>\n      <td>0</td>\n      <td>0</td>\n      <td>0</td>\n      <td>0</td>\n      <td>0</td>\n      <td>0</td>\n      <td>0</td>\n      <td>0</td>\n      <td>1</td>\n      <td>0</td>\n    </tr>\n    <tr>\n      <th>34296</th>\n      <td>1</td>\n      <td>5000</td>\n      <td>0</td>\n      <td>0</td>\n      <td>0</td>\n      <td>0</td>\n      <td>1</td>\n      <td>0</td>\n      <td>0</td>\n      <td>0</td>\n      <td>...</td>\n      <td>0</td>\n      <td>0</td>\n      <td>0</td>\n      <td>0</td>\n      <td>0</td>\n      <td>0</td>\n      <td>0</td>\n      <td>0</td>\n      <td>1</td>\n      <td>0</td>\n    </tr>\n    <tr>\n      <th>34297</th>\n      <td>1</td>\n      <td>5000</td>\n      <td>1</td>\n      <td>0</td>\n      <td>0</td>\n      <td>0</td>\n      <td>0</td>\n      <td>0</td>\n      <td>1</td>\n      <td>0</td>\n      <td>...</td>\n      <td>0</td>\n      <td>0</td>\n      <td>0</td>\n      <td>0</td>\n      <td>0</td>\n      <td>0</td>\n      <td>0</td>\n      <td>0</td>\n      <td>1</td>\n      <td>0</td>\n    </tr>\n    <tr>\n      <th>34298</th>\n      <td>1</td>\n      <td>36500179</td>\n      <td>0</td>\n      <td>0</td>\n      <td>0</td>\n      <td>0</td>\n      <td>1</td>\n      <td>0</td>\n      <td>0</td>\n      <td>0</td>\n      <td>...</td>\n      <td>0</td>\n      <td>0</td>\n      <td>0</td>\n      <td>0</td>\n      <td>1</td>\n      <td>0</td>\n      <td>0</td>\n      <td>0</td>\n      <td>1</td>\n      <td>0</td>\n    </tr>\n  </tbody>\n</table>\n<p>34273 rows × 44 columns</p>\n</div>"
     },
     "execution_count": 62,
     "metadata": {},
     "output_type": "execute_result"
    }
   ],
   "source": [
    "application_df"
   ],
   "metadata": {
    "collapsed": false,
    "ExecuteTime": {
     "end_time": "2024-01-16T22:42:50.909335Z",
     "start_time": "2024-01-16T22:42:50.894169Z"
    }
   }
  },
  {
   "cell_type": "code",
   "execution_count": 63,
   "metadata": {
    "ExecuteTime": {
     "end_time": "2024-01-16T22:42:51.390982Z",
     "start_time": "2024-01-16T22:42:51.296737Z"
    }
   },
   "outputs": [],
   "source": [
    "# Split our preprocessed data into our features and target arrays\n",
    "labels = application_df['IS_SUCCESSFUL']\n",
    "features = application_df.drop(['IS_SUCCESSFUL'], axis=1)\n",
    "\n",
    "# Split the preprocessed data into a training and testing dataset\n",
    "# I chose test size 10% because there are 34000 entries\n",
    "X_train, X_test, y_train, y_test = train_test_split(features, labels, random_state=0, test_size=0.2)"
   ]
  },
  {
   "cell_type": "code",
   "execution_count": 64,
   "metadata": {
    "ExecuteTime": {
     "end_time": "2024-01-16T22:42:51.839291Z",
     "start_time": "2024-01-16T22:42:51.742726Z"
    }
   },
   "outputs": [
    {
     "name": "stdout",
     "output_type": "stream",
     "text": [
      "Shapes\n",
      "(27418, 43) (6855, 43)\n",
      "(27418,) (6855,)\n"
     ]
    }
   ],
   "source": [
    "# Create a StandardScaler instances\n",
    "scaler = StandardScaler()\n",
    "\n",
    "# Fit the StandardScaler\n",
    "X_scaler = scaler.fit(X_train)\n",
    "\n",
    "# Scale the data\n",
    "X_train_scaled = X_scaler.transform(X_train)\n",
    "X_test_scaled = X_scaler.transform(X_test)\n",
    "\n",
    "print('Shapes')\n",
    "print(X_train_scaled.shape, X_test_scaled.shape)\n",
    "print(y_train.shape, y_test.shape)"
   ]
  },
  {
   "cell_type": "markdown",
   "metadata": {},
   "source": [
    "## Compile, Train and Evaluate the Model"
   ]
  },
  {
   "cell_type": "code",
   "execution_count": 65,
   "metadata": {
    "ExecuteTime": {
     "end_time": "2024-01-16T22:42:53.219948Z",
     "start_time": "2024-01-16T22:42:53.182542Z"
    }
   },
   "outputs": [
    {
     "name": "stderr",
     "output_type": "stream",
     "text": [
      "WARNING:absl:At this time, the v2.11+ optimizer `tf.keras.optimizers.Adam` runs slowly on M1/M2 Macs, please use the legacy Keras optimizer instead, located at `tf.keras.optimizers.legacy.Adam`.\n",
      "WARNING:absl:`lr` is deprecated in Keras optimizer, please use `learning_rate` or use the legacy optimizer, e.g.,tf.keras.optimizers.legacy.Adam.\n"
     ]
    },
    {
     "name": "stdout",
     "output_type": "stream",
     "text": [
      "Model: \"sequential\"\n",
      "_________________________________________________________________\n",
      " Layer (type)                Output Shape              Param #   \n",
      "=================================================================\n",
      " dense (Dense)               (None, 12)                528       \n",
      "                                                                 \n",
      " dropout (Dropout)           (None, 12)                0         \n",
      "                                                                 \n",
      " dense_1 (Dense)             (None, 8)                 104       \n",
      "                                                                 \n",
      " dropout_1 (Dropout)         (None, 8)                 0         \n",
      "                                                                 \n",
      " dense_2 (Dense)             (None, 1)                 9         \n",
      "                                                                 \n",
      "=================================================================\n",
      "Total params: 641 (2.50 KB)\n",
      "Trainable params: 641 (2.50 KB)\n",
      "Non-trainable params: 0 (0.00 Byte)\n",
      "_________________________________________________________________\n"
     ]
    }
   ],
   "source": [
    "# Define the model - deep neural net, i.e., the number of input features and hidden nodes for each layer.\n",
    "# Model 1 diverged, probably best to reduce model complexity to 8 and 4\n",
    "layer_1 = 12\n",
    "layer_2 = 8\n",
    "\n",
    "\n",
    "def build_nn_optimized():\n",
    "    optimizer = tf.keras.optimizers.Adam(lr=0.001)\n",
    "    \n",
    "    tf.keras.backend.clear_session()\n",
    "    nn_base = tf.keras.models.Sequential()\n",
    "    nn_base.add(tf.keras.layers.InputLayer(input_shape=X_train_scaled.shape[1],))\n",
    "# First hidden layer\n",
    "    nn_base.add(tf.keras.layers.Dense(layer_1, activation='relu'))\n",
    "    nn_base.add(tf.keras.layers.Dropout(0.4))\n",
    "# Second hidden layer\n",
    "    nn_base.add(tf.keras.layers.Dense(layer_2, activation='relu'))\n",
    "    nn_base.add(tf.keras.layers.Dropout(0.4))\n",
    "# Third  hidden layer\n",
    "#     nn_base.add(tf.keras.layers.Dense(layer_3, activation='relu'))\n",
    "#     nn_base.add(tf.keras.layers.Dropout(0.5))\n",
    "# Output layer\n",
    "    nn_base.add(tf.keras.layers.Dense(1, activation='sigmoid'))\n",
    "    nn_base.compile(optimizer=optimizer, metrics=['accuracy'], loss='binary_crossentropy')\n",
    "    return nn_base\n",
    "\n",
    "# Check the structure of the model\n",
    "nn = build_nn_optimized()\n",
    "nn.summary()"
   ]
  },
  {
   "cell_type": "code",
   "execution_count": 66,
   "metadata": {
    "ExecuteTime": {
     "end_time": "2024-01-16T22:42:53.811759Z",
     "start_time": "2024-01-16T22:42:53.805237Z"
    }
   },
   "outputs": [],
   "source": [
    "# Compile the model\n",
    "# Check above"
   ]
  },
  {
   "cell_type": "code",
   "execution_count": 67,
   "metadata": {
    "ExecuteTime": {
     "end_time": "2024-01-16T22:42:54.634566Z",
     "start_time": "2024-01-16T22:42:54.628846Z"
    }
   },
   "outputs": [],
   "source": [
    "# Train the model\n",
    "import matplotlib.pyplot as plt\n",
    "\n",
    "es = tf.keras.callbacks.EarlyStopping(monitor='val_loss', mode='min', restore_best_weights=True, patience=25)\n",
    "\n",
    "def train_nn_model(nn, X, y, Xt, yt):\n",
    "    history = nn.fit(X, y, epochs=250, verbose=1, validation_data=(Xt, yt), callbacks=[es], batch_size=64)\n",
    "    return history\n",
    "\n",
    "\n",
    "def plot_accuracy_loss(history):\n",
    "    fig, ax = plt.subplots(1, 2, figsize=(16,8))\n",
    "    fig.suptitle(f\"FNN with {layer_1} & {layer_2} Neurons with 40% Dropout\")\n",
    "    ax[1].plot(history.history['accuracy'], label='accuracy')\n",
    "    ax[1].plot(history.history['val_accuracy'], label='val_accuracy')\n",
    "    ax[1].set_title('Accuracy Metrics')\n",
    "    ax[1].set_ylabel('Accuracy %')\n",
    "    ax[1].set_xlabel('epoch')\n",
    "    ax[1].legend(loc='best')\n",
    "    ax[0].plot(history.history['loss'], label='loss')\n",
    "    ax[0].plot(history.history['val_loss'], label='val_loss')\n",
    "    ax[0].set_title('Loss Metrics')\n",
    "    ax[0].set_ylabel('Loss %')\n",
    "    ax[0].set_xlabel('epoch')\n",
    "    ax[0].legend(loc='best')\n",
    "    return fig"
   ]
  },
  {
   "cell_type": "code",
   "execution_count": 68,
   "outputs": [
    {
     "name": "stdout",
     "output_type": "stream",
     "text": [
      "Epoch 1/250\n",
      "429/429 [==============================] - 1s 799us/step - loss: 0.6905 - accuracy: 0.5614 - val_loss: 0.6389 - val_accuracy: 0.6904\n",
      "Epoch 2/250\n",
      "429/429 [==============================] - 0s 552us/step - loss: 0.6497 - accuracy: 0.6185 - val_loss: 0.6116 - val_accuracy: 0.7106\n",
      "Epoch 3/250\n",
      "429/429 [==============================] - 0s 551us/step - loss: 0.6287 - accuracy: 0.6604 - val_loss: 0.5905 - val_accuracy: 0.7183\n",
      "Epoch 4/250\n",
      "429/429 [==============================] - 0s 537us/step - loss: 0.6102 - accuracy: 0.6855 - val_loss: 0.5791 - val_accuracy: 0.7231\n",
      "Epoch 5/250\n",
      "429/429 [==============================] - 0s 552us/step - loss: 0.6047 - accuracy: 0.6955 - val_loss: 0.5772 - val_accuracy: 0.7230\n",
      "Epoch 6/250\n",
      "429/429 [==============================] - 0s 542us/step - loss: 0.6021 - accuracy: 0.6978 - val_loss: 0.5754 - val_accuracy: 0.7246\n",
      "Epoch 7/250\n",
      "429/429 [==============================] - 0s 556us/step - loss: 0.5968 - accuracy: 0.7005 - val_loss: 0.5717 - val_accuracy: 0.7255\n",
      "Epoch 8/250\n",
      "429/429 [==============================] - 0s 547us/step - loss: 0.5976 - accuracy: 0.7023 - val_loss: 0.5719 - val_accuracy: 0.7256\n",
      "Epoch 9/250\n",
      "429/429 [==============================] - 0s 568us/step - loss: 0.5905 - accuracy: 0.7053 - val_loss: 0.5678 - val_accuracy: 0.7237\n",
      "Epoch 10/250\n",
      "429/429 [==============================] - 0s 546us/step - loss: 0.5890 - accuracy: 0.7065 - val_loss: 0.5691 - val_accuracy: 0.7253\n",
      "Epoch 11/250\n",
      "429/429 [==============================] - 0s 558us/step - loss: 0.5888 - accuracy: 0.7070 - val_loss: 0.5674 - val_accuracy: 0.7246\n",
      "Epoch 12/250\n",
      "429/429 [==============================] - 0s 547us/step - loss: 0.5889 - accuracy: 0.7102 - val_loss: 0.5669 - val_accuracy: 0.7260\n",
      "Epoch 13/250\n",
      "429/429 [==============================] - 0s 549us/step - loss: 0.5899 - accuracy: 0.7098 - val_loss: 0.5653 - val_accuracy: 0.7241\n",
      "Epoch 14/250\n",
      "429/429 [==============================] - 0s 535us/step - loss: 0.5885 - accuracy: 0.7118 - val_loss: 0.5683 - val_accuracy: 0.7271\n",
      "Epoch 15/250\n",
      "429/429 [==============================] - 0s 539us/step - loss: 0.5870 - accuracy: 0.7117 - val_loss: 0.5642 - val_accuracy: 0.7252\n",
      "Epoch 16/250\n",
      "429/429 [==============================] - 0s 540us/step - loss: 0.5858 - accuracy: 0.7114 - val_loss: 0.5653 - val_accuracy: 0.7252\n",
      "Epoch 17/250\n",
      "429/429 [==============================] - 0s 536us/step - loss: 0.5850 - accuracy: 0.7129 - val_loss: 0.5662 - val_accuracy: 0.7227\n",
      "Epoch 18/250\n",
      "429/429 [==============================] - 0s 543us/step - loss: 0.5850 - accuracy: 0.7108 - val_loss: 0.5635 - val_accuracy: 0.7243\n",
      "Epoch 19/250\n",
      "429/429 [==============================] - 0s 543us/step - loss: 0.5861 - accuracy: 0.7103 - val_loss: 0.5653 - val_accuracy: 0.7247\n",
      "Epoch 20/250\n",
      "429/429 [==============================] - 0s 541us/step - loss: 0.5857 - accuracy: 0.7132 - val_loss: 0.5662 - val_accuracy: 0.7249\n",
      "Epoch 21/250\n",
      "429/429 [==============================] - 0s 539us/step - loss: 0.5849 - accuracy: 0.7120 - val_loss: 0.5656 - val_accuracy: 0.7243\n",
      "Epoch 22/250\n",
      "429/429 [==============================] - 0s 544us/step - loss: 0.5846 - accuracy: 0.7128 - val_loss: 0.5641 - val_accuracy: 0.7252\n",
      "Epoch 23/250\n",
      "429/429 [==============================] - 0s 537us/step - loss: 0.5826 - accuracy: 0.7138 - val_loss: 0.5643 - val_accuracy: 0.7269\n",
      "Epoch 24/250\n",
      "429/429 [==============================] - 0s 543us/step - loss: 0.5829 - accuracy: 0.7145 - val_loss: 0.5626 - val_accuracy: 0.7255\n",
      "Epoch 25/250\n",
      "429/429 [==============================] - 0s 535us/step - loss: 0.5845 - accuracy: 0.7107 - val_loss: 0.5636 - val_accuracy: 0.7253\n",
      "Epoch 26/250\n",
      "429/429 [==============================] - 0s 542us/step - loss: 0.5820 - accuracy: 0.7126 - val_loss: 0.5642 - val_accuracy: 0.7257\n",
      "Epoch 27/250\n",
      "429/429 [==============================] - 0s 539us/step - loss: 0.5834 - accuracy: 0.7142 - val_loss: 0.5645 - val_accuracy: 0.7237\n",
      "Epoch 28/250\n",
      "429/429 [==============================] - 0s 536us/step - loss: 0.5821 - accuracy: 0.7149 - val_loss: 0.5635 - val_accuracy: 0.7239\n",
      "Epoch 29/250\n",
      "429/429 [==============================] - 0s 537us/step - loss: 0.5847 - accuracy: 0.7138 - val_loss: 0.5647 - val_accuracy: 0.7266\n",
      "Epoch 30/250\n",
      "429/429 [==============================] - 0s 542us/step - loss: 0.5828 - accuracy: 0.7120 - val_loss: 0.5620 - val_accuracy: 0.7253\n",
      "Epoch 31/250\n",
      "429/429 [==============================] - 0s 536us/step - loss: 0.5833 - accuracy: 0.7118 - val_loss: 0.5628 - val_accuracy: 0.7259\n",
      "Epoch 32/250\n",
      "429/429 [==============================] - 0s 537us/step - loss: 0.5829 - accuracy: 0.7137 - val_loss: 0.5646 - val_accuracy: 0.7262\n",
      "Epoch 33/250\n",
      "429/429 [==============================] - 0s 538us/step - loss: 0.5817 - accuracy: 0.7128 - val_loss: 0.5630 - val_accuracy: 0.7256\n",
      "Epoch 34/250\n",
      "429/429 [==============================] - 0s 541us/step - loss: 0.5829 - accuracy: 0.7135 - val_loss: 0.5642 - val_accuracy: 0.7271\n",
      "Epoch 35/250\n",
      "429/429 [==============================] - 0s 542us/step - loss: 0.5835 - accuracy: 0.7133 - val_loss: 0.5628 - val_accuracy: 0.7255\n",
      "Epoch 36/250\n",
      "429/429 [==============================] - 0s 541us/step - loss: 0.5828 - accuracy: 0.7132 - val_loss: 0.5633 - val_accuracy: 0.7257\n",
      "Epoch 37/250\n",
      "429/429 [==============================] - 0s 537us/step - loss: 0.5813 - accuracy: 0.7129 - val_loss: 0.5637 - val_accuracy: 0.7256\n",
      "Epoch 38/250\n",
      "429/429 [==============================] - 0s 537us/step - loss: 0.5795 - accuracy: 0.7146 - val_loss: 0.5652 - val_accuracy: 0.7262\n",
      "Epoch 39/250\n",
      "429/429 [==============================] - 0s 549us/step - loss: 0.5786 - accuracy: 0.7159 - val_loss: 0.5633 - val_accuracy: 0.7240\n",
      "Epoch 40/250\n",
      "429/429 [==============================] - 0s 537us/step - loss: 0.5825 - accuracy: 0.7147 - val_loss: 0.5621 - val_accuracy: 0.7257\n",
      "Epoch 41/250\n",
      "429/429 [==============================] - 0s 537us/step - loss: 0.5815 - accuracy: 0.7136 - val_loss: 0.5615 - val_accuracy: 0.7241\n",
      "Epoch 42/250\n",
      "429/429 [==============================] - 0s 538us/step - loss: 0.5796 - accuracy: 0.7161 - val_loss: 0.5630 - val_accuracy: 0.7244\n",
      "Epoch 43/250\n",
      "429/429 [==============================] - 0s 539us/step - loss: 0.5824 - accuracy: 0.7146 - val_loss: 0.5652 - val_accuracy: 0.7247\n",
      "Epoch 44/250\n",
      "429/429 [==============================] - 0s 538us/step - loss: 0.5799 - accuracy: 0.7138 - val_loss: 0.5644 - val_accuracy: 0.7253\n",
      "Epoch 45/250\n",
      "429/429 [==============================] - 0s 537us/step - loss: 0.5826 - accuracy: 0.7130 - val_loss: 0.5623 - val_accuracy: 0.7243\n",
      "Epoch 46/250\n",
      "429/429 [==============================] - 0s 539us/step - loss: 0.5809 - accuracy: 0.7144 - val_loss: 0.5629 - val_accuracy: 0.7252\n",
      "Epoch 47/250\n",
      "429/429 [==============================] - 0s 529us/step - loss: 0.5813 - accuracy: 0.7118 - val_loss: 0.5629 - val_accuracy: 0.7243\n",
      "Epoch 48/250\n",
      "429/429 [==============================] - 0s 543us/step - loss: 0.5775 - accuracy: 0.7149 - val_loss: 0.5628 - val_accuracy: 0.7252\n",
      "Epoch 49/250\n",
      "429/429 [==============================] - 0s 540us/step - loss: 0.5811 - accuracy: 0.7117 - val_loss: 0.5630 - val_accuracy: 0.7240\n",
      "Epoch 50/250\n",
      "429/429 [==============================] - 0s 540us/step - loss: 0.5805 - accuracy: 0.7141 - val_loss: 0.5620 - val_accuracy: 0.7252\n",
      "Epoch 51/250\n",
      "429/429 [==============================] - 0s 543us/step - loss: 0.5798 - accuracy: 0.7126 - val_loss: 0.5629 - val_accuracy: 0.7228\n",
      "Epoch 52/250\n",
      "429/429 [==============================] - 0s 538us/step - loss: 0.5816 - accuracy: 0.7125 - val_loss: 0.5627 - val_accuracy: 0.7243\n",
      "Epoch 53/250\n",
      "429/429 [==============================] - 0s 541us/step - loss: 0.5801 - accuracy: 0.7136 - val_loss: 0.5621 - val_accuracy: 0.7247\n",
      "Epoch 54/250\n",
      "429/429 [==============================] - 0s 541us/step - loss: 0.5786 - accuracy: 0.7116 - val_loss: 0.5630 - val_accuracy: 0.7259\n",
      "Epoch 55/250\n",
      "429/429 [==============================] - 0s 539us/step - loss: 0.5823 - accuracy: 0.7100 - val_loss: 0.5603 - val_accuracy: 0.7240\n",
      "Epoch 56/250\n",
      "429/429 [==============================] - 0s 538us/step - loss: 0.5803 - accuracy: 0.7130 - val_loss: 0.5628 - val_accuracy: 0.7252\n",
      "Epoch 57/250\n",
      "429/429 [==============================] - 0s 540us/step - loss: 0.5798 - accuracy: 0.7138 - val_loss: 0.5614 - val_accuracy: 0.7255\n",
      "Epoch 58/250\n",
      "429/429 [==============================] - 0s 540us/step - loss: 0.5809 - accuracy: 0.7107 - val_loss: 0.5618 - val_accuracy: 0.7253\n",
      "Epoch 59/250\n",
      "429/429 [==============================] - 0s 539us/step - loss: 0.5802 - accuracy: 0.7114 - val_loss: 0.5626 - val_accuracy: 0.7253\n",
      "Epoch 60/250\n",
      "429/429 [==============================] - 0s 534us/step - loss: 0.5781 - accuracy: 0.7126 - val_loss: 0.5606 - val_accuracy: 0.7252\n",
      "Epoch 61/250\n",
      "429/429 [==============================] - 0s 544us/step - loss: 0.5763 - accuracy: 0.7133 - val_loss: 0.5594 - val_accuracy: 0.7250\n",
      "Epoch 62/250\n",
      "429/429 [==============================] - 0s 533us/step - loss: 0.5810 - accuracy: 0.7142 - val_loss: 0.5597 - val_accuracy: 0.7257\n",
      "Epoch 63/250\n",
      "429/429 [==============================] - 0s 537us/step - loss: 0.5804 - accuracy: 0.7118 - val_loss: 0.5613 - val_accuracy: 0.7263\n",
      "Epoch 64/250\n",
      "429/429 [==============================] - 0s 538us/step - loss: 0.5808 - accuracy: 0.7103 - val_loss: 0.5611 - val_accuracy: 0.7256\n",
      "Epoch 65/250\n",
      "429/429 [==============================] - 0s 540us/step - loss: 0.5788 - accuracy: 0.7135 - val_loss: 0.5607 - val_accuracy: 0.7263\n",
      "Epoch 66/250\n",
      "429/429 [==============================] - 0s 534us/step - loss: 0.5797 - accuracy: 0.7103 - val_loss: 0.5610 - val_accuracy: 0.7250\n",
      "Epoch 67/250\n",
      "429/429 [==============================] - 0s 544us/step - loss: 0.5774 - accuracy: 0.7122 - val_loss: 0.5592 - val_accuracy: 0.7266\n",
      "Epoch 68/250\n",
      "429/429 [==============================] - 0s 545us/step - loss: 0.5822 - accuracy: 0.7116 - val_loss: 0.5598 - val_accuracy: 0.7249\n",
      "Epoch 69/250\n",
      "429/429 [==============================] - 0s 542us/step - loss: 0.5791 - accuracy: 0.7112 - val_loss: 0.5587 - val_accuracy: 0.7257\n",
      "Epoch 70/250\n",
      "429/429 [==============================] - 0s 536us/step - loss: 0.5791 - accuracy: 0.7092 - val_loss: 0.5592 - val_accuracy: 0.7268\n",
      "Epoch 71/250\n",
      "429/429 [==============================] - 0s 545us/step - loss: 0.5800 - accuracy: 0.7128 - val_loss: 0.5587 - val_accuracy: 0.7271\n",
      "Epoch 72/250\n",
      "429/429 [==============================] - 0s 545us/step - loss: 0.5830 - accuracy: 0.7122 - val_loss: 0.5598 - val_accuracy: 0.7247\n",
      "Epoch 73/250\n",
      "429/429 [==============================] - 0s 550us/step - loss: 0.5795 - accuracy: 0.7126 - val_loss: 0.5603 - val_accuracy: 0.7265\n",
      "Epoch 74/250\n",
      "429/429 [==============================] - 0s 536us/step - loss: 0.5785 - accuracy: 0.7124 - val_loss: 0.5620 - val_accuracy: 0.7252\n",
      "Epoch 75/250\n",
      "429/429 [==============================] - 0s 544us/step - loss: 0.5808 - accuracy: 0.7098 - val_loss: 0.5603 - val_accuracy: 0.7228\n",
      "Epoch 76/250\n",
      "429/429 [==============================] - 0s 539us/step - loss: 0.5793 - accuracy: 0.7127 - val_loss: 0.5607 - val_accuracy: 0.7225\n",
      "Epoch 77/250\n",
      "429/429 [==============================] - 0s 544us/step - loss: 0.5791 - accuracy: 0.7137 - val_loss: 0.5597 - val_accuracy: 0.7233\n",
      "Epoch 78/250\n",
      "429/429 [==============================] - 0s 540us/step - loss: 0.5771 - accuracy: 0.7122 - val_loss: 0.5611 - val_accuracy: 0.7246\n",
      "Epoch 79/250\n",
      "429/429 [==============================] - 0s 537us/step - loss: 0.5793 - accuracy: 0.7106 - val_loss: 0.5590 - val_accuracy: 0.7244\n",
      "Epoch 80/250\n",
      "429/429 [==============================] - 0s 543us/step - loss: 0.5787 - accuracy: 0.7099 - val_loss: 0.5611 - val_accuracy: 0.7252\n",
      "Epoch 81/250\n",
      "429/429 [==============================] - 0s 552us/step - loss: 0.5802 - accuracy: 0.7092 - val_loss: 0.5604 - val_accuracy: 0.7250\n",
      "Epoch 82/250\n",
      "429/429 [==============================] - 0s 554us/step - loss: 0.5783 - accuracy: 0.7127 - val_loss: 0.5598 - val_accuracy: 0.7250\n",
      "Epoch 83/250\n",
      "429/429 [==============================] - 0s 549us/step - loss: 0.5782 - accuracy: 0.7139 - val_loss: 0.5597 - val_accuracy: 0.7247\n",
      "Epoch 84/250\n",
      "429/429 [==============================] - 0s 542us/step - loss: 0.5795 - accuracy: 0.7102 - val_loss: 0.5593 - val_accuracy: 0.7247\n",
      "Epoch 85/250\n",
      "429/429 [==============================] - 0s 548us/step - loss: 0.5785 - accuracy: 0.7094 - val_loss: 0.5601 - val_accuracy: 0.7246\n",
      "Epoch 86/250\n",
      "429/429 [==============================] - 0s 550us/step - loss: 0.5808 - accuracy: 0.7102 - val_loss: 0.5615 - val_accuracy: 0.7250\n",
      "Epoch 87/250\n",
      "429/429 [==============================] - 0s 549us/step - loss: 0.5789 - accuracy: 0.7104 - val_loss: 0.5598 - val_accuracy: 0.7246\n",
      "Epoch 88/250\n",
      "429/429 [==============================] - 0s 555us/step - loss: 0.5796 - accuracy: 0.7130 - val_loss: 0.5594 - val_accuracy: 0.7255\n",
      "Epoch 89/250\n",
      "429/429 [==============================] - 0s 548us/step - loss: 0.5789 - accuracy: 0.7096 - val_loss: 0.5588 - val_accuracy: 0.7257\n",
      "Epoch 90/250\n",
      "429/429 [==============================] - 0s 538us/step - loss: 0.5784 - accuracy: 0.7094 - val_loss: 0.5599 - val_accuracy: 0.7249\n",
      "Epoch 91/250\n",
      "429/429 [==============================] - 0s 553us/step - loss: 0.5783 - accuracy: 0.7126 - val_loss: 0.5609 - val_accuracy: 0.7252\n",
      "Epoch 92/250\n",
      "429/429 [==============================] - 0s 555us/step - loss: 0.5781 - accuracy: 0.7094 - val_loss: 0.5594 - val_accuracy: 0.7253\n",
      "Epoch 93/250\n",
      "429/429 [==============================] - 0s 551us/step - loss: 0.5797 - accuracy: 0.7113 - val_loss: 0.5594 - val_accuracy: 0.7269\n",
      "Epoch 94/250\n",
      "429/429 [==============================] - 0s 549us/step - loss: 0.5793 - accuracy: 0.7105 - val_loss: 0.5604 - val_accuracy: 0.7269\n"
     ]
    }
   ],
   "source": [
    "# Training Models\n",
    "train_session_one = train_nn_model(nn, X_train_scaled, y_train, X_test_scaled, y_test)\n"
   ],
   "metadata": {
    "collapsed": false,
    "ExecuteTime": {
     "end_time": "2024-01-16T22:43:17.667246Z",
     "start_time": "2024-01-16T22:42:55.124153Z"
    }
   }
  },
  {
   "cell_type": "code",
   "execution_count": 69,
   "outputs": [
    {
     "data": {
      "text/plain": "<Figure size 1600x800 with 2 Axes>",
      "image/png": "[encoded data removed]"
     },
     "metadata": {},
     "output_type": "display_data"
    }
   ],
   "source": [
    "# Show plot\n",
    "fig = plot_accuracy_loss(train_session_one)"
   ],
   "metadata": {
    "collapsed": false,
    "ExecuteTime": {
     "end_time": "2024-01-16T22:43:17.840459Z",
     "start_time": "2024-01-16T22:43:17.671864Z"
    }
   }
  },
  {
   "cell_type": "code",
   "execution_count": 70,
   "outputs": [],
   "source": [
    "# Save figure\n",
    "fig.savefig(f'Images/model_1_1_metrics/fnn-optimized-{layer_1}do0-{layer_2}do0_b64.png')"
   ],
   "metadata": {
    "collapsed": false,
    "ExecuteTime": {
     "end_time": "2024-01-16T22:43:29.575625Z",
     "start_time": "2024-01-16T22:43:29.497115Z"
    }
   }
  },
  {
   "cell_type": "code",
   "execution_count": 71,
   "metadata": {
    "ExecuteTime": {
     "end_time": "2024-01-16T22:43:31.332346Z",
     "start_time": "2024-01-16T22:43:31.217085Z"
    }
   },
   "outputs": [
    {
     "name": "stdout",
     "output_type": "stream",
     "text": [
      "215/215 - 0s - loss: 0.5587 - accuracy: 0.7257 - 83ms/epoch - 385us/step\n",
      "Loss: 0.5587286353111267, Accuracy: 0.7257476449012756\n"
     ]
    }
   ],
   "source": [
    "# Evaluate the model using the test data\n",
    "model_loss, model_accuracy = nn.evaluate(X_test_scaled,y_test,verbose=2)\n",
    "print(f\"Loss: {model_loss}, Accuracy: {model_accuracy}\")"
   ]
  },
  {
   "cell_type": "code",
   "execution_count": 72,
   "metadata": {
    "ExecuteTime": {
     "end_time": "2024-01-16T22:43:32.105622Z",
     "start_time": "2024-01-16T22:43:32.087379Z"
    }
   },
   "outputs": [],
   "source": [
    "# Export our model to HDF5 file\n",
    "nn_directory = \"Models/AlphabetSoupCharity_m1_optimized.h5\"\n",
    "# Save the model to a HDF5 file\n",
    "nn.save(nn_directory)"
   ]
  },
  {
   "cell_type": "markdown",
   "source": [
    "# Summary\n",
    "\n",
    "Implemented early stop. \n",
    "\n",
    "I added 50% dropout to Dense layers 1 and 2 with 12-8 Hidden layers. Got a really good model where training and validation loss converges\n",
    "\n",
    "In second iteration, I changed the batch size to 64 without changing parameters -- showed more learning\n",
    "\n",
    "\n",
    "\n"
   ],
   "metadata": {
    "collapsed": false
   }
  },
  {
   "cell_type": "code",
   "execution_count": 95,
   "outputs": [],
   "source": [],
   "metadata": {
    "collapsed": false,
    "ExecuteTime": {
     "end_time": "2024-01-12T20:25:10.627237Z",
     "start_time": "2024-01-12T20:25:10.602728Z"
    }
   }
  },
  {
   "cell_type": "code",
   "execution_count": null,
   "outputs": [],
   "source": [],
   "metadata": {
    "collapsed": false
   }
  }
 ],
 "metadata": {
  "kernelspec": {
   "display_name": "Python 3",
   "language": "python",
   "name": "python3"
  },
  "language_info": {
   "codemirror_mode": {
    "name": "ipython",
    "version": 3
   },
   "file_extension": ".py",
   "mimetype": "text/x-python",
   "name": "python",
   "nbconvert_exporter": "python",
   "pygments_lexer": "ipython3",
   "version": "3.-1.-1"
  },
  "vscode": {
   "interpreter": {
    "hash": "31f2aee4e71d21fbe5cf8b01ff0e069b9275f58929596ceb00d14d90e3e16cd6"
   }
  }
 },
 "nbformat": 4,
 "nbformat_minor": 4
}

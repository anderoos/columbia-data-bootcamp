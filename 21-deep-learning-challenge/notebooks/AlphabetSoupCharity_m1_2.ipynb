{
 "cells": [
  {
   "cell_type": "markdown",
   "metadata": {},
   "source": [
    "## Preprocessing"
   ]
  },
  {
   "cell_type": "code",
   "execution_count": 1,
   "outputs": [],
   "source": [
    "import warnings\n",
    "\n",
    "warnings.filterwarnings('ignore')"
   ],
   "metadata": {
    "collapsed": false,
    "ExecuteTime": {
<<<<<<< HEAD
     "end_time": "2024-01-19T02:12:34.515644Z",
     "start_time": "2024-01-19T02:12:34.509902Z"
=======
     "end_time": "2024-01-17T03:16:09.590651Z",
     "start_time": "2024-01-17T03:16:09.586305Z"
>>>>>>> parent of 847f472 (Improved model performance)
    }
   }
  },
  {
   "cell_type": "code",
   "execution_count": 2,
   "metadata": {
    "ExecuteTime": {
<<<<<<< HEAD
     "end_time": "2024-01-19T02:12:39.148241Z",
     "start_time": "2024-01-19T02:12:34.513776Z"
=======
     "end_time": "2024-01-17T03:16:15.130935Z",
     "start_time": "2024-01-17T03:16:09.917997Z"
>>>>>>> parent of 847f472 (Improved model performance)
    }
   },
   "outputs": [],
   "source": [
    "# Import our dependencies\n",
    "from sklearn.model_selection import train_test_split\n",
    "from sklearn.preprocessing import StandardScaler\n",
    "import pandas as pd\n",
    "import numpy as np\n",
    "import tensorflow as tf\n",
    "\n",
    "import matplotlib.pyplot as plt\n",
    "\n",
    "#  Import and read the charity_data.csv.\n",
    "import pandas as pd \n",
    "application_df = pd.read_csv(\"https://static.bc-edx.com/data/dl-1-2/m21/lms/starter/charity_data.csv\")"
   ]
  },
  {
   "cell_type": "code",
   "execution_count": 3,
   "metadata": {
    "ExecuteTime": {
<<<<<<< HEAD
     "end_time": "2024-01-19T02:12:39.165336Z",
     "start_time": "2024-01-19T02:12:39.150522Z"
=======
     "end_time": "2024-01-17T03:16:15.148477Z",
     "start_time": "2024-01-17T03:16:15.131946Z"
>>>>>>> parent of 847f472 (Improved model performance)
    }
   },
   "outputs": [
    {
     "name": "stdout",
     "output_type": "stream",
     "text": [
      "<class 'pandas.core.frame.DataFrame'>\n",
      "RangeIndex: 34299 entries, 0 to 34298\n",
      "Data columns (total 11 columns):\n",
      " #   Column                  Non-Null Count  Dtype \n",
      "---  ------                  --------------  ----- \n",
      " 0   NAME                    34299 non-null  object\n",
      " 1   APPLICATION_TYPE        34299 non-null  object\n",
      " 2   AFFILIATION             34299 non-null  object\n",
      " 3   CLASSIFICATION          34299 non-null  object\n",
      " 4   USE_CASE                34299 non-null  object\n",
      " 5   ORGANIZATION            34299 non-null  object\n",
      " 6   STATUS                  34299 non-null  int64 \n",
      " 7   INCOME_AMT              34299 non-null  object\n",
      " 8   SPECIAL_CONSIDERATIONS  34299 non-null  object\n",
      " 9   ASK_AMT                 34299 non-null  int64 \n",
      " 10  IS_SUCCESSFUL           34299 non-null  int64 \n",
      "dtypes: int64(3), object(8)\n",
      "memory usage: 2.9+ MB\n"
     ]
    }
   ],
   "source": [
    "# Drop the non-beneficial ID columns, 'EIN' and 'NAME'.\n",
    "application_df.drop(['EIN'], axis=1, inplace=True)\n",
    "application_df.info()"
   ]
  },
  {
   "cell_type": "code",
   "execution_count": 4,
   "metadata": {
    "ExecuteTime": {
<<<<<<< HEAD
     "end_time": "2024-01-19T02:12:39.183617Z",
     "start_time": "2024-01-19T02:12:39.163610Z"
=======
     "end_time": "2024-01-17T03:16:15.165348Z",
     "start_time": "2024-01-17T03:16:15.146053Z"
>>>>>>> parent of 847f472 (Improved model performance)
    }
   },
   "outputs": [
    {
     "data": {
      "text/plain": "NAME                      19568\nAPPLICATION_TYPE             17\nAFFILIATION                   6\nCLASSIFICATION               71\nUSE_CASE                      5\nORGANIZATION                  4\nSTATUS                        2\nINCOME_AMT                    9\nSPECIAL_CONSIDERATIONS        2\nASK_AMT                    8747\nIS_SUCCESSFUL                 2\ndtype: int64"
     },
     "execution_count": 4,
     "metadata": {},
     "output_type": "execute_result"
    }
   ],
   "source": [
    "# Determine the number of unique values in each column.\n",
    "application_df.nunique()"
   ]
  },
  {
   "cell_type": "code",
   "execution_count": 5,
   "metadata": {
    "ExecuteTime": {
<<<<<<< HEAD
     "end_time": "2024-01-19T02:12:39.189910Z",
     "start_time": "2024-01-19T02:12:39.182114Z"
=======
     "end_time": "2024-01-17T03:16:15.171941Z",
     "start_time": "2024-01-17T03:16:15.164592Z"
>>>>>>> parent of 847f472 (Improved model performance)
    }
   },
   "outputs": [
    {
     "data": {
      "text/plain": "   APPLICATION_TYPE  count\n0                T3  27037\n1                T4   1542\n2                T6   1216\n3                T5   1173\n4               T19   1065\n5                T8    737\n6                T7    725\n7               T10    528\n8                T9    156\n9               T13     66\n10              T12     27\n11               T2     16\n12              T25      3\n13              T14      3\n14              T29      2\n15              T15      2\n16              T17      1",
      "text/html": "<div>\n<style scoped>\n    .dataframe tbody tr th:only-of-type {\n        vertical-align: middle;\n    }\n\n    .dataframe tbody tr th {\n        vertical-align: top;\n    }\n\n    .dataframe thead th {\n        text-align: right;\n    }\n</style>\n<table border=\"1\" class=\"dataframe\">\n  <thead>\n    <tr style=\"text-align: right;\">\n      <th></th>\n      <th>APPLICATION_TYPE</th>\n      <th>count</th>\n    </tr>\n  </thead>\n  <tbody>\n    <tr>\n      <th>0</th>\n      <td>T3</td>\n      <td>27037</td>\n    </tr>\n    <tr>\n      <th>1</th>\n      <td>T4</td>\n      <td>1542</td>\n    </tr>\n    <tr>\n      <th>2</th>\n      <td>T6</td>\n      <td>1216</td>\n    </tr>\n    <tr>\n      <th>3</th>\n      <td>T5</td>\n      <td>1173</td>\n    </tr>\n    <tr>\n      <th>4</th>\n      <td>T19</td>\n      <td>1065</td>\n    </tr>\n    <tr>\n      <th>5</th>\n      <td>T8</td>\n      <td>737</td>\n    </tr>\n    <tr>\n      <th>6</th>\n      <td>T7</td>\n      <td>725</td>\n    </tr>\n    <tr>\n      <th>7</th>\n      <td>T10</td>\n      <td>528</td>\n    </tr>\n    <tr>\n      <th>8</th>\n      <td>T9</td>\n      <td>156</td>\n    </tr>\n    <tr>\n      <th>9</th>\n      <td>T13</td>\n      <td>66</td>\n    </tr>\n    <tr>\n      <th>10</th>\n      <td>T12</td>\n      <td>27</td>\n    </tr>\n    <tr>\n      <th>11</th>\n      <td>T2</td>\n      <td>16</td>\n    </tr>\n    <tr>\n      <th>12</th>\n      <td>T25</td>\n      <td>3</td>\n    </tr>\n    <tr>\n      <th>13</th>\n      <td>T14</td>\n      <td>3</td>\n    </tr>\n    <tr>\n      <th>14</th>\n      <td>T29</td>\n      <td>2</td>\n    </tr>\n    <tr>\n      <th>15</th>\n      <td>T15</td>\n      <td>2</td>\n    </tr>\n    <tr>\n      <th>16</th>\n      <td>T17</td>\n      <td>1</td>\n    </tr>\n  </tbody>\n</table>\n</div>"
     },
     "execution_count": 5,
     "metadata": {},
     "output_type": "execute_result"
    }
   ],
   "source": [
    "# Look at APPLICATION_TYPE value counts for binning\n",
    "application_type_counts = application_df.APPLICATION_TYPE.value_counts().reset_index()\n",
    "application_type_counts"
   ]
  },
  {
   "cell_type": "code",
   "execution_count": 6,
   "metadata": {
    "ExecuteTime": {
<<<<<<< HEAD
     "end_time": "2024-01-19T02:12:39.200335Z",
     "start_time": "2024-01-19T02:12:39.187192Z"
=======
     "end_time": "2024-01-17T03:16:15.183295Z",
     "start_time": "2024-01-17T03:16:15.177316Z"
>>>>>>> parent of 847f472 (Improved model performance)
    }
   },
   "outputs": [
    {
     "data": {
      "text/plain": "APPLICATION_TYPE\nT3       27037\nT4        1542\nT6        1216\nT5        1173\nT19       1065\nT8         737\nT7         725\nT10        528\nT9         156\nOther      120\nName: count, dtype: int64"
     },
     "execution_count": 6,
     "metadata": {},
     "output_type": "execute_result"
    }
   ],
   "source": [
    "# Choose a cutoff value and create a list of application types to be replaced\n",
    "bin_cutoff = 150\n",
    "cutoff_labels = list(application_type_counts[application_type_counts[\"count\"] < bin_cutoff]['APPLICATION_TYPE'])\n",
    "application_df['APPLICATION_TYPE'] = application_df['APPLICATION_TYPE'].apply(lambda x: 'Other' if x in cutoff_labels else x)\n",
    "\n",
    "# Replace in dataframe\n",
    "# for app in application_types_to_replace:\n",
    "#     application_df['APPLICATION_TYPE'] = application_df['APPLICATION_TYPE'].replace(app,\"Other\")\n",
    "\n",
    "# Check to make sure binning was successful\n",
    "application_df['APPLICATION_TYPE'].value_counts()"
   ]
  },
  {
   "cell_type": "code",
   "execution_count": 7,
   "metadata": {
    "ExecuteTime": {
<<<<<<< HEAD
     "end_time": "2024-01-19T02:12:39.205393Z",
     "start_time": "2024-01-19T02:12:39.200826Z"
=======
     "end_time": "2024-01-17T03:16:15.188985Z",
     "start_time": "2024-01-17T03:16:15.180847Z"
>>>>>>> parent of 847f472 (Improved model performance)
    }
   },
   "outputs": [
    {
     "data": {
      "text/plain": "   CLASSIFICATION  count\n0           C1000  17326\n1           C2000   6074\n2           C1200   4837\n3           C3000   1918\n4           C2100   1883\n..            ...    ...\n66          C4120      1\n67          C8210      1\n68          C2561      1\n69          C4500      1\n70          C2150      1\n\n[71 rows x 2 columns]",
      "text/html": "<div>\n<style scoped>\n    .dataframe tbody tr th:only-of-type {\n        vertical-align: middle;\n    }\n\n    .dataframe tbody tr th {\n        vertical-align: top;\n    }\n\n    .dataframe thead th {\n        text-align: right;\n    }\n</style>\n<table border=\"1\" class=\"dataframe\">\n  <thead>\n    <tr style=\"text-align: right;\">\n      <th></th>\n      <th>CLASSIFICATION</th>\n      <th>count</th>\n    </tr>\n  </thead>\n  <tbody>\n    <tr>\n      <th>0</th>\n      <td>C1000</td>\n      <td>17326</td>\n    </tr>\n    <tr>\n      <th>1</th>\n      <td>C2000</td>\n      <td>6074</td>\n    </tr>\n    <tr>\n      <th>2</th>\n      <td>C1200</td>\n      <td>4837</td>\n    </tr>\n    <tr>\n      <th>3</th>\n      <td>C3000</td>\n      <td>1918</td>\n    </tr>\n    <tr>\n      <th>4</th>\n      <td>C2100</td>\n      <td>1883</td>\n    </tr>\n    <tr>\n      <th>...</th>\n      <td>...</td>\n      <td>...</td>\n    </tr>\n    <tr>\n      <th>66</th>\n      <td>C4120</td>\n      <td>1</td>\n    </tr>\n    <tr>\n      <th>67</th>\n      <td>C8210</td>\n      <td>1</td>\n    </tr>\n    <tr>\n      <th>68</th>\n      <td>C2561</td>\n      <td>1</td>\n    </tr>\n    <tr>\n      <th>69</th>\n      <td>C4500</td>\n      <td>1</td>\n    </tr>\n    <tr>\n      <th>70</th>\n      <td>C2150</td>\n      <td>1</td>\n    </tr>\n  </tbody>\n</table>\n<p>71 rows × 2 columns</p>\n</div>"
     },
     "execution_count": 7,
     "metadata": {},
     "output_type": "execute_result"
    }
   ],
   "source": [
    "# Look at CLASSIFICATION value counts for binning\n",
    "classification_type_counts = application_df['CLASSIFICATION'].value_counts().reset_index()\n",
    "classification_type_counts"
   ]
  },
  {
   "cell_type": "code",
   "execution_count": 8,
   "metadata": {
    "ExecuteTime": {
<<<<<<< HEAD
     "end_time": "2024-01-19T02:12:39.225275Z",
     "start_time": "2024-01-19T02:12:39.205364Z"
=======
     "end_time": "2024-01-17T03:16:15.208312Z",
     "start_time": "2024-01-17T03:16:15.186529Z"
>>>>>>> parent of 847f472 (Improved model performance)
    }
   },
   "outputs": [
    {
     "data": {
      "text/plain": "CLASSIFICATION\nC1000    17326\nC2000     6074\nC1200     4837\nC3000     1918\nC2100     1883\nC7000      777\nC1700      287\nC4000      194\nC5000      116\nC1270      114\nC2700      104\nC2800       95\nC7100       75\nC1300       58\nC1280       50\nC1230       36\nC1400       34\nC7200       32\nC2300       32\nC1240       30\nC8000       20\nC7120       18\nC1500       16\nC1800       15\nC6000       15\nC1250       14\nC8200       11\nC1238       10\nC1278       10\nC1237        9\nC1235        9\nC7210        7\nC4100        6\nC1720        6\nC2400        6\nC1600        5\nC1257        5\nC1260        3\nC2710        3\nC0           3\nC1267        2\nC1256        2\nC1234        2\nC1246        2\nC3200        2\nName: count, dtype: int64"
     },
     "execution_count": 8,
     "metadata": {},
     "output_type": "execute_result"
    }
   ],
   "source": [
    "# You may find it helpful to look at CLASSIFICATION value counts >1\n",
    "threshold = 1\n",
    "cutoff_labels = list(classification_type_counts[classification_type_counts[\"count\"] <= threshold]['CLASSIFICATION'])\n",
    "application_df = application_df[~application_df['CLASSIFICATION'].isin(cutoff_labels)]\n",
    "\n",
    "application_df['CLASSIFICATION'].value_counts()"
   ]
  },
  {
   "cell_type": "code",
   "execution_count": 9,
   "metadata": {
    "ExecuteTime": {
<<<<<<< HEAD
     "end_time": "2024-01-19T02:12:39.329705Z",
     "start_time": "2024-01-19T02:12:39.211999Z"
=======
     "end_time": "2024-01-17T03:16:15.312890Z",
     "start_time": "2024-01-17T03:16:15.195064Z"
>>>>>>> parent of 847f472 (Improved model performance)
    }
   },
   "outputs": [
    {
     "data": {
      "text/plain": "CLASSIFICATION\nC1000    17326\nC2000     6074\nC1200     4837\nOther     2235\nC3000     1918\nC2100     1883\nName: count, dtype: int64"
     },
     "execution_count": 9,
     "metadata": {},
     "output_type": "execute_result"
    }
   ],
   "source": [
    "# Choose a cutoff value and create a list of classifications to be replaced\n",
    "# use the variable name `classifications_to_replace`\n",
    "threshold = 1000\n",
    "classifications_to_replace = list(classification_type_counts[classification_type_counts[\"count\"] <= 1000]['CLASSIFICATION'])\n",
    "\n",
    "# Replace in dataframe\n",
    "for cls in classifications_to_replace:\n",
    "    application_df['CLASSIFICATION'] = application_df['CLASSIFICATION'].replace(cls,\"Other\")\n",
    "    \n",
    "# Check to make sure binning was successful\n",
    "application_df['CLASSIFICATION'].value_counts()"
   ]
  },
  {
   "cell_type": "code",
   "execution_count": 10,
   "outputs": [
    {
     "name": "stdout",
     "output_type": "stream",
     "text": [
      "<class 'pandas.core.frame.DataFrame'>\n",
      "Index: 34273 entries, 0 to 34298\n",
      "Data columns (total 11 columns):\n",
      " #   Column                  Non-Null Count  Dtype \n",
      "---  ------                  --------------  ----- \n",
      " 0   NAME                    34273 non-null  object\n",
      " 1   APPLICATION_TYPE        34273 non-null  object\n",
      " 2   AFFILIATION             34273 non-null  object\n",
      " 3   CLASSIFICATION          34273 non-null  object\n",
      " 4   USE_CASE                34273 non-null  object\n",
      " 5   ORGANIZATION            34273 non-null  object\n",
      " 6   STATUS                  34273 non-null  int64 \n",
      " 7   INCOME_AMT              34273 non-null  object\n",
      " 8   SPECIAL_CONSIDERATIONS  34273 non-null  object\n",
      " 9   ASK_AMT                 34273 non-null  int64 \n",
      " 10  IS_SUCCESSFUL           34273 non-null  int64 \n",
      "dtypes: int64(3), object(8)\n",
      "memory usage: 3.1+ MB\n"
     ]
    }
   ],
   "source": [
    "# Look at feature types\n",
    "application_df.info()"
   ],
   "metadata": {
    "collapsed": false,
    "ExecuteTime": {
<<<<<<< HEAD
     "end_time": "2024-01-19T02:12:39.339418Z",
     "start_time": "2024-01-19T02:12:39.331586Z"
=======
     "end_time": "2024-01-17T03:16:15.323023Z",
     "start_time": "2024-01-17T03:16:15.314761Z"
>>>>>>> parent of 847f472 (Improved model performance)
    }
   }
  },
  {
   "cell_type": "code",
   "execution_count": 11,
   "outputs": [],
   "source": [
    "# Convert categorical data to numeric with `pd.get_dummies`\n",
    "obj_columns = application_df.select_dtypes('object').columns\n",
    "obj_columns = obj_columns.drop('NAME')\n",
    "\n",
    "application_df = pd.get_dummies(application_df, columns=obj_columns)"
   ],
   "metadata": {
    "collapsed": false,
    "ExecuteTime": {
<<<<<<< HEAD
     "end_time": "2024-01-19T02:12:39.365927Z",
     "start_time": "2024-01-19T02:12:39.337188Z"
=======
     "end_time": "2024-01-17T03:16:15.348748Z",
     "start_time": "2024-01-17T03:16:15.321034Z"
>>>>>>> parent of 847f472 (Improved model performance)
    }
   }
  },
  {
   "cell_type": "code",
   "execution_count": 12,
   "outputs": [
    {
     "data": {
      "text/plain": "IS_SUCCESSFUL\n1    0.532285\n0    0.467715\nName: proportion, dtype: float64"
     },
     "execution_count": 12,
     "metadata": {},
     "output_type": "execute_result"
    }
   ],
   "source": [
    "# Check class balance\n",
    "application_df['IS_SUCCESSFUL'].value_counts(normalize=True)"
   ],
   "metadata": {
    "collapsed": false,
    "ExecuteTime": {
<<<<<<< HEAD
     "end_time": "2024-01-19T02:12:39.366165Z",
     "start_time": "2024-01-19T02:12:39.362148Z"
=======
     "end_time": "2024-01-17T03:16:15.348910Z",
     "start_time": "2024-01-17T03:16:15.345988Z"
>>>>>>> parent of 847f472 (Improved model performance)
    }
   }
  },
  {
   "cell_type": "code",
   "execution_count": 13,
   "outputs": [
    {
     "data": {
      "text/plain": "                                                    NAME  STATUS   ASK_AMT  \\\n0                           BLUE KNIGHTS MOTORCYCLE CLUB       1      5000   \n1                 AMERICAN CHESAPEAKE CLUB CHARITABLE TR       1    108590   \n2                     ST CLOUD PROFESSIONAL FIREFIGHTERS       1      5000   \n3                         SOUTHSIDE ATHLETIC ASSOCIATION       1      6692   \n4               GENETIC RESEARCH INSTITUTE OF THE DESERT       1    142590   \n...                                                  ...     ...       ...   \n34294              THE LIONS CLUB OF HONOLULU KAMEHAMEHA       1      5000   \n34295           INTERNATIONAL ASSOCIATION OF LIONS CLUBS       1      5000   \n34296                                PTA HAWAII CONGRESS       1      5000   \n34297  AMERICAN FEDERATION OF GOVERNMENT EMPLOYEES LO...       1      5000   \n34298                           WATERHOUSE CHARITABLE TR       1  36500179   \n\n       IS_SUCCESSFUL  APPLICATION_TYPE_Other  APPLICATION_TYPE_T10  \\\n0                  1                   False                  True   \n1                  1                   False                 False   \n2                  0                   False                 False   \n3                  1                   False                 False   \n4                  1                   False                 False   \n...              ...                     ...                   ...   \n34294              0                   False                 False   \n34295              0                   False                 False   \n34296              0                   False                 False   \n34297              1                   False                 False   \n34298              0                   False                 False   \n\n       APPLICATION_TYPE_T19  APPLICATION_TYPE_T3  APPLICATION_TYPE_T4  \\\n0                     False                False                False   \n1                     False                 True                False   \n2                     False                False                False   \n3                     False                 True                False   \n4                     False                 True                False   \n...                     ...                  ...                  ...   \n34294                 False                False                 True   \n34295                 False                False                 True   \n34296                 False                 True                False   \n34297                 False                False                False   \n34298                 False                 True                False   \n\n       APPLICATION_TYPE_T5  ...  INCOME_AMT_1-9999  INCOME_AMT_10000-24999  \\\n0                    False  ...              False                   False   \n1                    False  ...               True                   False   \n2                     True  ...              False                   False   \n3                    False  ...              False                    True   \n4                    False  ...              False                   False   \n...                    ...  ...                ...                     ...   \n34294                False  ...              False                   False   \n34295                False  ...              False                   False   \n34296                False  ...              False                   False   \n34297                 True  ...              False                   False   \n34298                False  ...              False                   False   \n\n       INCOME_AMT_100000-499999  INCOME_AMT_10M-50M  INCOME_AMT_1M-5M  \\\n0                         False               False             False   \n1                         False               False             False   \n2                         False               False             False   \n3                         False               False             False   \n4                          True               False             False   \n...                         ...                 ...               ...   \n34294                     False               False             False   \n34295                     False               False             False   \n34296                     False               False             False   \n34297                     False               False             False   \n34298                     False               False              True   \n\n       INCOME_AMT_25000-99999  INCOME_AMT_50M+  INCOME_AMT_5M-10M  \\\n0                       False            False              False   \n1                       False            False              False   \n2                       False            False              False   \n3                       False            False              False   \n4                       False            False              False   \n...                       ...              ...                ...   \n34294                   False            False              False   \n34295                   False            False              False   \n34296                   False            False              False   \n34297                   False            False              False   \n34298                   False            False              False   \n\n       SPECIAL_CONSIDERATIONS_N  SPECIAL_CONSIDERATIONS_Y  \n0                          True                     False  \n1                          True                     False  \n2                          True                     False  \n3                          True                     False  \n4                          True                     False  \n...                         ...                       ...  \n34294                      True                     False  \n34295                      True                     False  \n34296                      True                     False  \n34297                      True                     False  \n34298                      True                     False  \n\n[34273 rows x 46 columns]",
      "text/html": "<div>\n<style scoped>\n    .dataframe tbody tr th:only-of-type {\n        vertical-align: middle;\n    }\n\n    .dataframe tbody tr th {\n        vertical-align: top;\n    }\n\n    .dataframe thead th {\n        text-align: right;\n    }\n</style>\n<table border=\"1\" class=\"dataframe\">\n  <thead>\n    <tr style=\"text-align: right;\">\n      <th></th>\n      <th>NAME</th>\n      <th>STATUS</th>\n      <th>ASK_AMT</th>\n      <th>IS_SUCCESSFUL</th>\n      <th>APPLICATION_TYPE_Other</th>\n      <th>APPLICATION_TYPE_T10</th>\n      <th>APPLICATION_TYPE_T19</th>\n      <th>APPLICATION_TYPE_T3</th>\n      <th>APPLICATION_TYPE_T4</th>\n      <th>APPLICATION_TYPE_T5</th>\n      <th>...</th>\n      <th>INCOME_AMT_1-9999</th>\n      <th>INCOME_AMT_10000-24999</th>\n      <th>INCOME_AMT_100000-499999</th>\n      <th>INCOME_AMT_10M-50M</th>\n      <th>INCOME_AMT_1M-5M</th>\n      <th>INCOME_AMT_25000-99999</th>\n      <th>INCOME_AMT_50M+</th>\n      <th>INCOME_AMT_5M-10M</th>\n      <th>SPECIAL_CONSIDERATIONS_N</th>\n      <th>SPECIAL_CONSIDERATIONS_Y</th>\n    </tr>\n  </thead>\n  <tbody>\n    <tr>\n      <th>0</th>\n      <td>BLUE KNIGHTS MOTORCYCLE CLUB</td>\n      <td>1</td>\n      <td>5000</td>\n      <td>1</td>\n      <td>False</td>\n      <td>True</td>\n      <td>False</td>\n      <td>False</td>\n      <td>False</td>\n      <td>False</td>\n      <td>...</td>\n      <td>False</td>\n      <td>False</td>\n      <td>False</td>\n      <td>False</td>\n      <td>False</td>\n      <td>False</td>\n      <td>False</td>\n      <td>False</td>\n      <td>True</td>\n      <td>False</td>\n    </tr>\n    <tr>\n      <th>1</th>\n      <td>AMERICAN CHESAPEAKE CLUB CHARITABLE TR</td>\n      <td>1</td>\n      <td>108590</td>\n      <td>1</td>\n      <td>False</td>\n      <td>False</td>\n      <td>False</td>\n      <td>True</td>\n      <td>False</td>\n      <td>False</td>\n      <td>...</td>\n      <td>True</td>\n      <td>False</td>\n      <td>False</td>\n      <td>False</td>\n      <td>False</td>\n      <td>False</td>\n      <td>False</td>\n      <td>False</td>\n      <td>True</td>\n      <td>False</td>\n    </tr>\n    <tr>\n      <th>2</th>\n      <td>ST CLOUD PROFESSIONAL FIREFIGHTERS</td>\n      <td>1</td>\n      <td>5000</td>\n      <td>0</td>\n      <td>False</td>\n      <td>False</td>\n      <td>False</td>\n      <td>False</td>\n      <td>False</td>\n      <td>True</td>\n      <td>...</td>\n      <td>False</td>\n      <td>False</td>\n      <td>False</td>\n      <td>False</td>\n      <td>False</td>\n      <td>False</td>\n      <td>False</td>\n      <td>False</td>\n      <td>True</td>\n      <td>False</td>\n    </tr>\n    <tr>\n      <th>3</th>\n      <td>SOUTHSIDE ATHLETIC ASSOCIATION</td>\n      <td>1</td>\n      <td>6692</td>\n      <td>1</td>\n      <td>False</td>\n      <td>False</td>\n      <td>False</td>\n      <td>True</td>\n      <td>False</td>\n      <td>False</td>\n      <td>...</td>\n      <td>False</td>\n      <td>True</td>\n      <td>False</td>\n      <td>False</td>\n      <td>False</td>\n      <td>False</td>\n      <td>False</td>\n      <td>False</td>\n      <td>True</td>\n      <td>False</td>\n    </tr>\n    <tr>\n      <th>4</th>\n      <td>GENETIC RESEARCH INSTITUTE OF THE DESERT</td>\n      <td>1</td>\n      <td>142590</td>\n      <td>1</td>\n      <td>False</td>\n      <td>False</td>\n      <td>False</td>\n      <td>True</td>\n      <td>False</td>\n      <td>False</td>\n      <td>...</td>\n      <td>False</td>\n      <td>False</td>\n      <td>True</td>\n      <td>False</td>\n      <td>False</td>\n      <td>False</td>\n      <td>False</td>\n      <td>False</td>\n      <td>True</td>\n      <td>False</td>\n    </tr>\n    <tr>\n      <th>...</th>\n      <td>...</td>\n      <td>...</td>\n      <td>...</td>\n      <td>...</td>\n      <td>...</td>\n      <td>...</td>\n      <td>...</td>\n      <td>...</td>\n      <td>...</td>\n      <td>...</td>\n      <td>...</td>\n      <td>...</td>\n      <td>...</td>\n      <td>...</td>\n      <td>...</td>\n      <td>...</td>\n      <td>...</td>\n      <td>...</td>\n      <td>...</td>\n      <td>...</td>\n      <td>...</td>\n    </tr>\n    <tr>\n      <th>34294</th>\n      <td>THE LIONS CLUB OF HONOLULU KAMEHAMEHA</td>\n      <td>1</td>\n      <td>5000</td>\n      <td>0</td>\n      <td>False</td>\n      <td>False</td>\n      <td>False</td>\n      <td>False</td>\n      <td>True</td>\n      <td>False</td>\n      <td>...</td>\n      <td>False</td>\n      <td>False</td>\n      <td>False</td>\n      <td>False</td>\n      <td>False</td>\n      <td>False</td>\n      <td>False</td>\n      <td>False</td>\n      <td>True</td>\n      <td>False</td>\n    </tr>\n    <tr>\n      <th>34295</th>\n      <td>INTERNATIONAL ASSOCIATION OF LIONS CLUBS</td>\n      <td>1</td>\n      <td>5000</td>\n      <td>0</td>\n      <td>False</td>\n      <td>False</td>\n      <td>False</td>\n      <td>False</td>\n      <td>True</td>\n      <td>False</td>\n      <td>...</td>\n      <td>False</td>\n      <td>False</td>\n      <td>False</td>\n      <td>False</td>\n      <td>False</td>\n      <td>False</td>\n      <td>False</td>\n      <td>False</td>\n      <td>True</td>\n      <td>False</td>\n    </tr>\n    <tr>\n      <th>34296</th>\n      <td>PTA HAWAII CONGRESS</td>\n      <td>1</td>\n      <td>5000</td>\n      <td>0</td>\n      <td>False</td>\n      <td>False</td>\n      <td>False</td>\n      <td>True</td>\n      <td>False</td>\n      <td>False</td>\n      <td>...</td>\n      <td>False</td>\n      <td>False</td>\n      <td>False</td>\n      <td>False</td>\n      <td>False</td>\n      <td>False</td>\n      <td>False</td>\n      <td>False</td>\n      <td>True</td>\n      <td>False</td>\n    </tr>\n    <tr>\n      <th>34297</th>\n      <td>AMERICAN FEDERATION OF GOVERNMENT EMPLOYEES LO...</td>\n      <td>1</td>\n      <td>5000</td>\n      <td>1</td>\n      <td>False</td>\n      <td>False</td>\n      <td>False</td>\n      <td>False</td>\n      <td>False</td>\n      <td>True</td>\n      <td>...</td>\n      <td>False</td>\n      <td>False</td>\n      <td>False</td>\n      <td>False</td>\n      <td>False</td>\n      <td>False</td>\n      <td>False</td>\n      <td>False</td>\n      <td>True</td>\n      <td>False</td>\n    </tr>\n    <tr>\n      <th>34298</th>\n      <td>WATERHOUSE CHARITABLE TR</td>\n      <td>1</td>\n      <td>36500179</td>\n      <td>0</td>\n      <td>False</td>\n      <td>False</td>\n      <td>False</td>\n      <td>True</td>\n      <td>False</td>\n      <td>False</td>\n      <td>...</td>\n      <td>False</td>\n      <td>False</td>\n      <td>False</td>\n      <td>False</td>\n      <td>True</td>\n      <td>False</td>\n      <td>False</td>\n      <td>False</td>\n      <td>True</td>\n      <td>False</td>\n    </tr>\n  </tbody>\n</table>\n<p>34273 rows × 46 columns</p>\n</div>"
     },
     "execution_count": 13,
     "metadata": {},
     "output_type": "execute_result"
    }
   ],
   "source": [
    "application_df"
   ],
   "metadata": {
    "collapsed": false,
    "ExecuteTime": {
<<<<<<< HEAD
     "end_time": "2024-01-19T02:12:39.378458Z",
     "start_time": "2024-01-19T02:12:39.365337Z"
=======
     "end_time": "2024-01-17T03:16:15.362785Z",
     "start_time": "2024-01-17T03:16:15.348524Z"
>>>>>>> parent of 847f472 (Improved model performance)
    }
   }
  },
  {
   "cell_type": "code",
   "execution_count": 14,
   "metadata": {
    "ExecuteTime": {
<<<<<<< HEAD
     "end_time": "2024-01-19T02:12:39.383589Z",
     "start_time": "2024-01-19T02:12:39.377316Z"
=======
     "end_time": "2024-01-17T03:16:15.368117Z",
     "start_time": "2024-01-17T03:16:15.359637Z"
>>>>>>> parent of 847f472 (Improved model performance)
    }
   },
   "outputs": [],
   "source": [
    "# Split our preprocessed data into our features and target arrays\n",
    "labels = application_df['IS_SUCCESSFUL']\n",
    "features = application_df.drop(['IS_SUCCESSFUL'], axis=1)\n",
    "\n",
    "# Split the preprocessed data into a training and testing dataset\n",
    "# I chose test size 10% because there are 34000 entries\n",
    "X_train, X_test, y_train, y_test = train_test_split(features, labels, random_state=0, test_size=0.1)"
   ]
  },
  {
   "cell_type": "code",
   "execution_count": 15,
   "outputs": [],
   "source": [
    "# Convert Name\n",
    "from sklearn.feature_extraction.text import CountVectorizer\n",
    "\n",
    "vectorizer= CountVectorizer()\n",
    "train_vectorized = vectorizer.fit_transform(X_train['NAME']).toarray()\n",
    "\n",
    "test_vectorized = vectorizer.transform(X_test['NAME']).toarray()\n"
   ],
   "metadata": {
    "collapsed": false,
    "ExecuteTime": {
<<<<<<< HEAD
     "end_time": "2024-01-19T02:12:39.655108Z",
     "start_time": "2024-01-19T02:12:39.383826Z"
=======
     "end_time": "2024-01-17T03:16:15.723101Z",
     "start_time": "2024-01-17T03:16:15.423325Z"
>>>>>>> parent of 847f472 (Improved model performance)
    }
   }
  },
  {
   "cell_type": "code",
   "execution_count": 16,
   "outputs": [],
   "source": [
    "# Drop names to re-add later\n",
    "X_train.drop(\"NAME\", inplace=True, axis=1)\n",
    "X_test.drop(\"NAME\", inplace=True, axis=1)"
   ],
   "metadata": {
    "collapsed": false,
    "ExecuteTime": {
<<<<<<< HEAD
     "end_time": "2024-01-19T02:12:39.660531Z",
     "start_time": "2024-01-19T02:12:39.656222Z"
=======
     "end_time": "2024-01-17T03:16:15.862365Z",
     "start_time": "2024-01-17T03:16:15.823649Z"
>>>>>>> parent of 847f472 (Improved model performance)
    }
   }
  },
  {
   "cell_type": "code",
   "execution_count": 17,
   "outputs": [
    {
     "name": "stdout",
     "output_type": "stream",
     "text": [
      "Shapes\n",
      "(30845, 44) (3428, 44)\n",
      "(30845,) (3428,)\n"
     ]
    }
   ],
   "source": [
    "# Create a StandardScaler instances\n",
    "scaler = StandardScaler()\n",
    "\n",
    "# Fit the StandardScaler\n",
    "X_scaler = scaler.fit(X_train)\n",
    "\n",
    "# Scale the data\n",
    "X_train_scaled = X_scaler.transform(X_train)\n",
    "X_test_scaled = X_scaler.transform(X_test)\n",
    "\n",
    "print('Shapes')\n",
    "print(X_train_scaled.shape, X_test_scaled.shape)\n",
    "print(y_train.shape, y_test.shape)"
   ],
   "metadata": {
    "collapsed": false,
    "ExecuteTime": {
<<<<<<< HEAD
     "end_time": "2024-01-19T02:12:39.697119Z",
     "start_time": "2024-01-19T02:12:39.661002Z"
=======
     "end_time": "2024-01-17T03:16:16.458985Z",
     "start_time": "2024-01-17T03:16:16.422608Z"
>>>>>>> parent of 847f472 (Improved model performance)
    }
   }
  },
  {
   "cell_type": "code",
   "execution_count": 18,
   "outputs": [],
   "source": [
    "# Convert train and test sets to int, append vecrotized names\n",
    "X_train_scaled = X_train_scaled.astype('int')\n",
    "X_test_scaled = X_test_scaled.astype('int')\n",
    "\n",
    "X_train_scaled = np.concatenate([X_train_scaled, train_vectorized], axis=1)\n",
    "X_test_scaled = np.concatenate([X_test_scaled, test_vectorized], axis=1)"
   ],
   "metadata": {
    "collapsed": false,
    "ExecuteTime": {
<<<<<<< HEAD
     "end_time": "2024-01-19T02:12:40.502196Z",
     "start_time": "2024-01-19T02:12:39.693996Z"
=======
     "end_time": "2024-01-17T03:16:17.740384Z",
     "start_time": "2024-01-17T03:16:16.941253Z"
>>>>>>> parent of 847f472 (Improved model performance)
    }
   }
  },
  {
   "cell_type": "code",
   "execution_count": 19,
   "outputs": [
    {
     "name": "stdout",
     "output_type": "stream",
     "text": [
      "Shapes\n",
      "(30845, 13557) (3428, 13557)\n",
      "(30845,) (3428,)\n"
     ]
    }
   ],
   "source": [
    "print('Shapes')\n",
    "print(X_train_scaled.shape, X_test_scaled.shape)\n",
    "print(y_train.shape, y_test.shape)"
   ],
   "metadata": {
    "collapsed": false,
    "ExecuteTime": {
<<<<<<< HEAD
     "end_time": "2024-01-19T02:12:40.507596Z",
     "start_time": "2024-01-19T02:12:40.503120Z"
=======
     "end_time": "2024-01-17T03:16:17.745968Z",
     "start_time": "2024-01-17T03:16:17.741747Z"
>>>>>>> parent of 847f472 (Improved model performance)
    }
   }
  },
  {
   "cell_type": "markdown",
   "source": [
    "## Compile, Train and Evaluate the Model"
   ],
   "metadata": {
    "collapsed": false
   }
  },
  {
   "cell_type": "code",
   "execution_count": 20,
   "outputs": [
    {
     "name": "stderr",
     "output_type": "stream",
     "text": [
      "WARNING:absl:At this time, the v2.11+ optimizer `tf.keras.optimizers.Adam` runs slowly on M1/M2 Macs, please use the legacy Keras optimizer instead, located at `tf.keras.optimizers.legacy.Adam`.\n",
      "WARNING:absl:`lr` is deprecated in Keras optimizer, please use `learning_rate` or use the legacy optimizer, e.g.,tf.keras.optimizers.legacy.Adam.\n"
     ]
    },
    {
     "name": "stdout",
     "output_type": "stream",
     "text": [
      "Model: \"sequential\"\n",
      "_________________________________________________________________\n",
      " Layer (type)                Output Shape              Param #   \n",
      "=================================================================\n",
      " dense (Dense)               (None, 32)                433856    \n",
      "                                                                 \n",
      " dropout (Dropout)           (None, 32)                0         \n",
      "                                                                 \n",
      " dense_1 (Dense)             (None, 16)                528       \n",
      "                                                                 \n",
      " dropout_1 (Dropout)         (None, 16)                0         \n",
      "                                                                 \n",
      " dense_2 (Dense)             (None, 8)                 136       \n",
      "                                                                 \n",
      " dropout_2 (Dropout)         (None, 8)                 0         \n",
      "                                                                 \n",
      " dense_3 (Dense)             (None, 1)                 9         \n",
      "                                                                 \n",
      "=================================================================\n",
      "Total params: 434529 (1.66 MB)\n",
      "Trainable params: 434529 (1.66 MB)\n",
      "Non-trainable params: 0 (0.00 Byte)\n",
      "_________________________________________________________________\n"
     ]
    }
   ],
   "source": [
    "# Define the model - deep neural net, i.e., the number of input features and hidden nodes for each layer.\n",
    "# Model 1 diverged, probably best to reduce model complexity to 8 and 4\n",
    "tf.random.set_seed(42)\n",
    "\n",
    "layer_1 = 32\n",
    "layer_2 = 16\n",
    "layer_3 = 8\n",
    "\n",
    "def build_nn_optimized():\n",
    "    optimizer = tf.keras.optimizers.Adam(lr=0.001)\n",
    "    \n",
    "    tf.keras.backend.clear_session()\n",
    "    nn_base = tf.keras.models.Sequential()\n",
    "    nn_base.add(tf.keras.layers.InputLayer(input_shape=X_train_scaled.shape[1],))\n",
    "# First hidden layer\n",
    "    nn_base.add(tf.keras.layers.Dense(layer_1, activation='relu'))\n",
    "    nn_base.add(tf.keras.layers.Dropout(0.9))\n",
    "# Second hidden layer\n",
    "    nn_base.add(tf.keras.layers.Dense(layer_2, activation='relu'))\n",
    "    nn_base.add(tf.keras.layers.Dropout(0.5))\n",
    "# Third  hidden layer\n",
    "    nn_base.add(tf.keras.layers.Dense(layer_3, activation='relu'))\n",
    "    nn_base.add(tf.keras.layers.Dropout(0.5))\n",
    "# Output layer\n",
    "    nn_base.add(tf.keras.layers.Dense(1, activation='sigmoid'))\n",
    "    nn_base.compile(optimizer=optimizer, metrics=['accuracy'], loss='binary_crossentropy')\n",
    "    return nn_base\n",
    "\n",
    "# Check the structure of the model\n",
    "nn = build_nn_optimized()\n",
    "nn.summary()"
   ],
   "metadata": {
    "collapsed": false,
    "ExecuteTime": {
<<<<<<< HEAD
     "end_time": "2024-01-19T02:12:40.600637Z",
     "start_time": "2024-01-19T02:12:40.507682Z"
=======
     "end_time": "2024-01-17T03:16:18.630241Z",
     "start_time": "2024-01-17T03:16:18.554988Z"
>>>>>>> parent of 847f472 (Improved model performance)
    }
   }
  },
  {
   "cell_type": "code",
   "execution_count": 21,
   "outputs": [],
   "source": [
    "# Compile the model\n",
    "# Check above"
   ],
   "metadata": {
    "collapsed": false,
    "ExecuteTime": {
     "end_time": "2024-01-17T03:16:18.974207Z",
     "start_time": "2024-01-17T03:16:18.969291Z"
    }
   }
  },
  {
   "cell_type": "code",
   "execution_count": 22,
   "outputs": [],
   "source": [
    "# Train the model\n",
    "\n",
    "es = tf.keras.callbacks.EarlyStopping(monitor='val_loss', mode='min', restore_best_weights=True, patience=25)\n",
    "\n",
    "def train_nn_model(nn, X, y, Xt, yt):\n",
    "    history = nn.fit(X, y, epochs=50, verbose=1, validation_data=(Xt, yt), callbacks=[es], batch_size=128)\n",
    "    return history\n",
    "\n",
    "\n",
    "def plot_accuracy_loss(history):\n",
    "    fig, ax = plt.subplots(1, 2, figsize=(16,8))\n",
    "    ax[1].plot(history.history['accuracy'], label='accuracy')\n",
    "    ax[1].plot(history.history['val_accuracy'], label='val_accuracy')\n",
    "    ax[1].set_title('Accuracy Metrics')\n",
    "    ax[1].set_ylabel('Accuracy %')\n",
    "    ax[1].set_xlabel('epoch')\n",
    "    ax[1].legend(loc='best')\n",
    "    ax[0].plot(history.history['loss'], label='loss')\n",
    "    ax[0].plot(history.history['val_loss'], label='val_loss')\n",
    "    ax[0].set_title('Loss Metrics')\n",
    "    ax[0].set_ylabel('Loss %')\n",
    "    ax[0].set_xlabel('epoch')\n",
    "    ax[0].legend(loc='best')\n",
    "    return fig"
   ],
   "metadata": {
    "collapsed": false,
    "ExecuteTime": {
     "end_time": "2024-01-17T03:16:19.489637Z",
     "start_time": "2024-01-17T03:16:19.484445Z"
    }
   }
  },
  {
   "cell_type": "code",
   "execution_count": 23,
   "outputs": [
    {
     "name": "stdout",
     "output_type": "stream",
     "text": [
      "Epoch 1/50\n",
      "241/241 [==============================] - 2s 6ms/step - loss: 0.6826 - accuracy: 0.5661 - val_loss: 0.6496 - val_accuracy: 0.7188\n",
      "Epoch 2/50\n",
      "241/241 [==============================] - 1s 4ms/step - loss: 0.6330 - accuracy: 0.6539 - val_loss: 0.5740 - val_accuracy: 0.7850\n",
      "Epoch 3/50\n",
      "241/241 [==============================] - 1s 4ms/step - loss: 0.5999 - accuracy: 0.7004 - val_loss: 0.5275 - val_accuracy: 0.7981\n",
      "Epoch 4/50\n",
      "241/241 [==============================] - 1s 4ms/step - loss: 0.5764 - accuracy: 0.7210 - val_loss: 0.4914 - val_accuracy: 0.8043\n",
      "Epoch 5/50\n",
      "241/241 [==============================] - 1s 4ms/step - loss: 0.5637 - accuracy: 0.7305 - val_loss: 0.4822 - val_accuracy: 0.8095\n",
      "Epoch 6/50\n",
      "241/241 [==============================] - 1s 4ms/step - loss: 0.5531 - accuracy: 0.7416 - val_loss: 0.4760 - val_accuracy: 0.8098\n",
      "Epoch 7/50\n",
      "241/241 [==============================] - 1s 4ms/step - loss: 0.5466 - accuracy: 0.7435 - val_loss: 0.4660 - val_accuracy: 0.8107\n",
      "Epoch 8/50\n",
      "241/241 [==============================] - 1s 4ms/step - loss: 0.5432 - accuracy: 0.7473 - val_loss: 0.4649 - val_accuracy: 0.8142\n",
      "Epoch 9/50\n",
      "241/241 [==============================] - 1s 4ms/step - loss: 0.5433 - accuracy: 0.7511 - val_loss: 0.4600 - val_accuracy: 0.8127\n",
      "Epoch 10/50\n",
      "241/241 [==============================] - 1s 4ms/step - loss: 0.5360 - accuracy: 0.7538 - val_loss: 0.4623 - val_accuracy: 0.8113\n",
      "Epoch 11/50\n",
      "241/241 [==============================] - 1s 4ms/step - loss: 0.5308 - accuracy: 0.7546 - val_loss: 0.4526 - val_accuracy: 0.8151\n",
      "Epoch 12/50\n",
      "241/241 [==============================] - 1s 4ms/step - loss: 0.5293 - accuracy: 0.7576 - val_loss: 0.4515 - val_accuracy: 0.8168\n",
      "Epoch 13/50\n",
      "241/241 [==============================] - 1s 4ms/step - loss: 0.5260 - accuracy: 0.7616 - val_loss: 0.4497 - val_accuracy: 0.8148\n",
      "Epoch 14/50\n",
      "241/241 [==============================] - 1s 4ms/step - loss: 0.5290 - accuracy: 0.7586 - val_loss: 0.4513 - val_accuracy: 0.8162\n",
      "Epoch 15/50\n",
      "241/241 [==============================] - 1s 4ms/step - loss: 0.5225 - accuracy: 0.7607 - val_loss: 0.4477 - val_accuracy: 0.8159\n",
      "Epoch 16/50\n",
      "241/241 [==============================] - 1s 4ms/step - loss: 0.5219 - accuracy: 0.7645 - val_loss: 0.4468 - val_accuracy: 0.8153\n",
      "Epoch 17/50\n",
      "241/241 [==============================] - 1s 4ms/step - loss: 0.5271 - accuracy: 0.7615 - val_loss: 0.4453 - val_accuracy: 0.8191\n",
      "Epoch 18/50\n",
      "241/241 [==============================] - 1s 4ms/step - loss: 0.5167 - accuracy: 0.7700 - val_loss: 0.4397 - val_accuracy: 0.8188\n",
      "Epoch 19/50\n",
      "241/241 [==============================] - 1s 4ms/step - loss: 0.5156 - accuracy: 0.7692 - val_loss: 0.4441 - val_accuracy: 0.8159\n",
      "Epoch 20/50\n",
      "241/241 [==============================] - 1s 4ms/step - loss: 0.5159 - accuracy: 0.7673 - val_loss: 0.4384 - val_accuracy: 0.8162\n",
      "Epoch 21/50\n",
      "241/241 [==============================] - 1s 4ms/step - loss: 0.5084 - accuracy: 0.7739 - val_loss: 0.4394 - val_accuracy: 0.8186\n",
      "Epoch 22/50\n",
      "241/241 [==============================] - 1s 4ms/step - loss: 0.5113 - accuracy: 0.7714 - val_loss: 0.4379 - val_accuracy: 0.8156\n",
      "Epoch 23/50\n",
      "241/241 [==============================] - 1s 4ms/step - loss: 0.5043 - accuracy: 0.7743 - val_loss: 0.4353 - val_accuracy: 0.8159\n",
      "Epoch 24/50\n",
      "241/241 [==============================] - 1s 4ms/step - loss: 0.5072 - accuracy: 0.7737 - val_loss: 0.4311 - val_accuracy: 0.8191\n",
      "Epoch 25/50\n",
      "241/241 [==============================] - 1s 4ms/step - loss: 0.5027 - accuracy: 0.7765 - val_loss: 0.4354 - val_accuracy: 0.8153\n",
      "Epoch 26/50\n",
      "241/241 [==============================] - 1s 4ms/step - loss: 0.5015 - accuracy: 0.7757 - val_loss: 0.4341 - val_accuracy: 0.8165\n",
      "Epoch 27/50\n",
      "241/241 [==============================] - 1s 4ms/step - loss: 0.4999 - accuracy: 0.7774 - val_loss: 0.4328 - val_accuracy: 0.8177\n",
      "Epoch 28/50\n",
      "241/241 [==============================] - 1s 4ms/step - loss: 0.4998 - accuracy: 0.7775 - val_loss: 0.4308 - val_accuracy: 0.8188\n",
      "Epoch 29/50\n",
      "241/241 [==============================] - 1s 4ms/step - loss: 0.4963 - accuracy: 0.7802 - val_loss: 0.4296 - val_accuracy: 0.8156\n",
      "Epoch 30/50\n",
      "241/241 [==============================] - 1s 4ms/step - loss: 0.4996 - accuracy: 0.7790 - val_loss: 0.4378 - val_accuracy: 0.8136\n",
      "Epoch 31/50\n",
      "241/241 [==============================] - 1s 4ms/step - loss: 0.4985 - accuracy: 0.7789 - val_loss: 0.4359 - val_accuracy: 0.8177\n",
      "Epoch 32/50\n",
      "241/241 [==============================] - 1s 4ms/step - loss: 0.4986 - accuracy: 0.7821 - val_loss: 0.4383 - val_accuracy: 0.8139\n",
      "Epoch 33/50\n",
      "241/241 [==============================] - 1s 4ms/step - loss: 0.4976 - accuracy: 0.7794 - val_loss: 0.4328 - val_accuracy: 0.8180\n",
      "Epoch 34/50\n",
      "241/241 [==============================] - 1s 4ms/step - loss: 0.4930 - accuracy: 0.7840 - val_loss: 0.4296 - val_accuracy: 0.8194\n",
      "Epoch 35/50\n",
      "241/241 [==============================] - 1s 4ms/step - loss: 0.4930 - accuracy: 0.7853 - val_loss: 0.4327 - val_accuracy: 0.8191\n",
      "Epoch 36/50\n",
      "241/241 [==============================] - 1s 4ms/step - loss: 0.4920 - accuracy: 0.7825 - val_loss: 0.4283 - val_accuracy: 0.8159\n",
      "Epoch 37/50\n",
      "241/241 [==============================] - 1s 4ms/step - loss: 0.4900 - accuracy: 0.7833 - val_loss: 0.4275 - val_accuracy: 0.8200\n",
      "Epoch 38/50\n",
      "241/241 [==============================] - 1s 4ms/step - loss: 0.4925 - accuracy: 0.7825 - val_loss: 0.4257 - val_accuracy: 0.8188\n",
      "Epoch 39/50\n",
      "241/241 [==============================] - 1s 4ms/step - loss: 0.4902 - accuracy: 0.7866 - val_loss: 0.4300 - val_accuracy: 0.8197\n",
      "Epoch 40/50\n",
      "241/241 [==============================] - 1s 4ms/step - loss: 0.4894 - accuracy: 0.7851 - val_loss: 0.4294 - val_accuracy: 0.8194\n",
      "Epoch 41/50\n",
      "241/241 [==============================] - 1s 4ms/step - loss: 0.4858 - accuracy: 0.7856 - val_loss: 0.4284 - val_accuracy: 0.8177\n",
      "Epoch 42/50\n",
      "241/241 [==============================] - 1s 4ms/step - loss: 0.4900 - accuracy: 0.7846 - val_loss: 0.4304 - val_accuracy: 0.8191\n",
      "Epoch 43/50\n",
      "241/241 [==============================] - 1s 4ms/step - loss: 0.4882 - accuracy: 0.7891 - val_loss: 0.4261 - val_accuracy: 0.8229\n",
      "Epoch 44/50\n",
      "241/241 [==============================] - 1s 4ms/step - loss: 0.4891 - accuracy: 0.7856 - val_loss: 0.4319 - val_accuracy: 0.8194\n",
      "Epoch 45/50\n",
      "241/241 [==============================] - 1s 4ms/step - loss: 0.4886 - accuracy: 0.7867 - val_loss: 0.4294 - val_accuracy: 0.8165\n",
      "Epoch 46/50\n",
      "241/241 [==============================] - 1s 4ms/step - loss: 0.4852 - accuracy: 0.7868 - val_loss: 0.4272 - val_accuracy: 0.8218\n",
      "Epoch 47/50\n",
      "241/241 [==============================] - 1s 4ms/step - loss: 0.4818 - accuracy: 0.7899 - val_loss: 0.4275 - val_accuracy: 0.8223\n",
      "Epoch 48/50\n",
      "241/241 [==============================] - 1s 4ms/step - loss: 0.4791 - accuracy: 0.7923 - val_loss: 0.4267 - val_accuracy: 0.8186\n",
      "Epoch 49/50\n",
      "241/241 [==============================] - 1s 4ms/step - loss: 0.4811 - accuracy: 0.7925 - val_loss: 0.4253 - val_accuracy: 0.8200\n",
      "Epoch 50/50\n",
      "241/241 [==============================] - 1s 4ms/step - loss: 0.4816 - accuracy: 0.7899 - val_loss: 0.4249 - val_accuracy: 0.8215\n"
     ]
    }
   ],
   "source": [
    "# Training Models\n",
    "train_session_one = train_nn_model(nn, X_train_scaled, y_train, X_test_scaled, y_test)\n"
   ],
   "metadata": {
    "collapsed": false,
    "ExecuteTime": {
     "end_time": "2024-01-17T03:17:06.944823Z",
     "start_time": "2024-01-17T03:16:19.996623Z"
    }
   }
  },
  {
   "cell_type": "code",
   "execution_count": 24,
   "outputs": [
    {
     "data": {
      "text/plain": "<Figure size 1600x800 with 2 Axes>",
      "image/png": "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"
     },
     "metadata": {},
     "output_type": "display_data"
    }
   ],
   "source": [
    "# Show plot\n",
    "fig = plot_accuracy_loss(train_session_one)"
   ],
   "metadata": {
    "collapsed": false,
    "ExecuteTime": {
     "end_time": "2024-01-17T03:17:07.123307Z",
     "start_time": "2024-01-17T03:17:06.942862Z"
    }
   }
  },
  {
   "cell_type": "code",
   "execution_count": 26,
   "outputs": [],
   "source": [
    "# Save figure\n",
    "fig.savefig(f'../Images/model_1_2_nlp_metrics/fnn-optimized-{layer_1}do90-{layer_2}do50{layer_3}do50_b64.png')"
   ],
   "metadata": {
    "collapsed": false,
    "ExecuteTime": {
     "end_time": "2024-01-17T03:17:24.232040Z",
     "start_time": "2024-01-17T03:17:24.156731Z"
    }
   }
  },
  {
   "cell_type": "code",
   "execution_count": 25,
   "outputs": [
    {
     "name": "stdout",
     "output_type": "stream",
     "text": [
      "108/108 - 0s - loss: 0.4249 - accuracy: 0.8215 - 87ms/epoch - 801us/step\n",
      "Loss: 0.42488887906074524, Accuracy: 0.8214702606201172\n"
     ]
    }
   ],
   "source": [
    "# Evaluate the model using the test data\n",
    "model_loss, model_accuracy = nn.evaluate(X_test_scaled,y_test,verbose=2)\n",
    "print(f\"Loss: {model_loss}, Accuracy: {model_accuracy}\")"
   ],
   "metadata": {
    "collapsed": false,
    "ExecuteTime": {
     "end_time": "2024-01-17T03:17:11.936534Z",
     "start_time": "2024-01-17T03:17:11.770651Z"
    }
   }
  },
  {
   "cell_type": "code",
   "execution_count": 27,
   "outputs": [],
   "source": [
    "# Export our model to HDF5 file\n",
    "nn_directory = \"Models/AlphabetSoupCharity_m1_optimized_v2.h5\"\n",
    "# Save the model to a HDF5 file\n",
    "nn.save(nn_directory)"
   ],
   "metadata": {
    "collapsed": false,
    "ExecuteTime": {
     "end_time": "2024-01-17T03:17:27.388058Z",
     "start_time": "2024-01-17T03:17:27.368582Z"
    }
   }
  },
  {
   "cell_type": "markdown",
   "source": [
    "# Summary\n",
    "\n",
    "* Vectorized `NAME` to see if branding plays a role in the company's success, this added 13513 features to the data.\n",
    "* Implemented EarlyStopping to minimize validation loss.\n",
    "* Should probably implement Checkpoint callback to stop at about epoch 37.\n",
    "* This architecture was prone to over fitting (32-16-8) so aggressive dropout layers of 90-50-50 was added to the hidden layers, yielded a total of 434529 params\n",
    "\n",
    "\n"
   ],
   "metadata": {
    "collapsed": false
   }
  },
  {
   "cell_type": "code",
   "execution_count": null,
   "outputs": [],
   "source": [],
   "metadata": {
    "collapsed": false
   }
  }
 ],
 "metadata": {
  "kernelspec": {
   "display_name": "Python 3",
   "language": "python",
   "name": "python3"
  },
  "language_info": {
   "codemirror_mode": {
    "name": "ipython",
    "version": 3
   },
   "file_extension": ".py",
   "mimetype": "text/x-python",
   "name": "python",
   "nbconvert_exporter": "python",
   "pygments_lexer": "ipython3",
   "version": "3.-1.-1"
  },
  "vscode": {
   "interpreter": {
    "hash": "31f2aee4e71d21fbe5cf8b01ff0e069b9275f58929596ceb00d14d90e3e16cd6"
   }
  }
 },
 "nbformat": 4,
 "nbformat_minor": 4
}

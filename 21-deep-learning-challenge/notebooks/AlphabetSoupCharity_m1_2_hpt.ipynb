{
 "cells": [
  {
   "cell_type": "markdown",
   "metadata": {},
   "source": [
    "## Preprocessing"
   ]
  },
  {
   "cell_type": "code",
   "execution_count": 1,
   "outputs": [],
   "source": [
    "import warnings\n",
    "\n",
    "warnings.filterwarnings('ignore')"
   ],
   "metadata": {
    "collapsed": false,
    "ExecuteTime": {
     "end_time": "2024-01-19T17:15:20.542674Z",
     "start_time": "2024-01-19T17:15:20.536895Z"
    }
   }
  },
  {
   "cell_type": "code",
   "execution_count": 2,
   "metadata": {
    "ExecuteTime": {
     "end_time": "2024-01-19T17:15:26.600750Z",
     "start_time": "2024-01-19T17:15:21.208695Z"
    }
   },
   "outputs": [],
   "source": [
    "# Import our dependencies\n",
    "from sklearn.model_selection import train_test_split\n",
    "from sklearn.preprocessing import StandardScaler\n",
    "import pandas as pd\n",
    "import numpy as np\n",
    "import tensorflow as tf\n",
    "\n",
    "import matplotlib.pyplot as plt\n",
    "\n",
    "#  Import and read the charity_data.csv.\n",
    "import pandas as pd \n",
    "application_df = pd.read_csv(\"https://static.bc-edx.com/data/dl-1-2/m21/lms/starter/charity_data.csv\")"
   ]
  },
  {
   "cell_type": "code",
   "execution_count": 3,
   "metadata": {
    "ExecuteTime": {
     "end_time": "2024-01-19T17:15:26.617214Z",
     "start_time": "2024-01-19T17:15:26.600839Z"
    }
   },
   "outputs": [
    {
     "name": "stdout",
     "output_type": "stream",
     "text": [
      "<class 'pandas.core.frame.DataFrame'>\n",
      "RangeIndex: 34299 entries, 0 to 34298\n",
      "Data columns (total 11 columns):\n",
      " #   Column                  Non-Null Count  Dtype \n",
      "---  ------                  --------------  ----- \n",
      " 0   NAME                    34299 non-null  object\n",
      " 1   APPLICATION_TYPE        34299 non-null  object\n",
      " 2   AFFILIATION             34299 non-null  object\n",
      " 3   CLASSIFICATION          34299 non-null  object\n",
      " 4   USE_CASE                34299 non-null  object\n",
      " 5   ORGANIZATION            34299 non-null  object\n",
      " 6   STATUS                  34299 non-null  int64 \n",
      " 7   INCOME_AMT              34299 non-null  object\n",
      " 8   SPECIAL_CONSIDERATIONS  34299 non-null  object\n",
      " 9   ASK_AMT                 34299 non-null  int64 \n",
      " 10  IS_SUCCESSFUL           34299 non-null  int64 \n",
      "dtypes: int64(3), object(8)\n",
      "memory usage: 2.9+ MB\n"
     ]
    }
   ],
   "source": [
    "# Drop the non-beneficial ID columns, 'EIN' and 'NAME'.\n",
    "application_df.drop(['EIN'], axis=1, inplace=True)\n",
    "application_df.info()"
   ]
  },
  {
   "cell_type": "code",
   "execution_count": 4,
   "metadata": {
    "ExecuteTime": {
     "end_time": "2024-01-19T17:15:26.656Z",
     "start_time": "2024-01-19T17:15:26.613573Z"
    }
   },
   "outputs": [
    {
     "data": {
      "text/plain": "NAME                      19568\nAPPLICATION_TYPE             17\nAFFILIATION                   6\nCLASSIFICATION               71\nUSE_CASE                      5\nORGANIZATION                  4\nSTATUS                        2\nINCOME_AMT                    9\nSPECIAL_CONSIDERATIONS        2\nASK_AMT                    8747\nIS_SUCCESSFUL                 2\ndtype: int64"
     },
     "execution_count": 4,
     "metadata": {},
     "output_type": "execute_result"
    }
   ],
   "source": [
    "# Determine the number of unique values in each column.\n",
    "application_df.nunique()"
   ]
  },
  {
   "cell_type": "code",
   "execution_count": 5,
   "metadata": {
    "ExecuteTime": {
     "end_time": "2024-01-19T17:15:26.656367Z",
     "start_time": "2024-01-19T17:15:26.631854Z"
    }
   },
   "outputs": [
    {
     "data": {
      "text/plain": "   APPLICATION_TYPE  count\n0                T3  27037\n1                T4   1542\n2                T6   1216\n3                T5   1173\n4               T19   1065\n5                T8    737\n6                T7    725\n7               T10    528\n8                T9    156\n9               T13     66\n10              T12     27\n11               T2     16\n12              T25      3\n13              T14      3\n14              T29      2\n15              T15      2\n16              T17      1",
      "text/html": "<div>\n<style scoped>\n    .dataframe tbody tr th:only-of-type {\n        vertical-align: middle;\n    }\n\n    .dataframe tbody tr th {\n        vertical-align: top;\n    }\n\n    .dataframe thead th {\n        text-align: right;\n    }\n</style>\n<table border=\"1\" class=\"dataframe\">\n  <thead>\n    <tr style=\"text-align: right;\">\n      <th></th>\n      <th>APPLICATION_TYPE</th>\n      <th>count</th>\n    </tr>\n  </thead>\n  <tbody>\n    <tr>\n      <th>0</th>\n      <td>T3</td>\n      <td>27037</td>\n    </tr>\n    <tr>\n      <th>1</th>\n      <td>T4</td>\n      <td>1542</td>\n    </tr>\n    <tr>\n      <th>2</th>\n      <td>T6</td>\n      <td>1216</td>\n    </tr>\n    <tr>\n      <th>3</th>\n      <td>T5</td>\n      <td>1173</td>\n    </tr>\n    <tr>\n      <th>4</th>\n      <td>T19</td>\n      <td>1065</td>\n    </tr>\n    <tr>\n      <th>5</th>\n      <td>T8</td>\n      <td>737</td>\n    </tr>\n    <tr>\n      <th>6</th>\n      <td>T7</td>\n      <td>725</td>\n    </tr>\n    <tr>\n      <th>7</th>\n      <td>T10</td>\n      <td>528</td>\n    </tr>\n    <tr>\n      <th>8</th>\n      <td>T9</td>\n      <td>156</td>\n    </tr>\n    <tr>\n      <th>9</th>\n      <td>T13</td>\n      <td>66</td>\n    </tr>\n    <tr>\n      <th>10</th>\n      <td>T12</td>\n      <td>27</td>\n    </tr>\n    <tr>\n      <th>11</th>\n      <td>T2</td>\n      <td>16</td>\n    </tr>\n    <tr>\n      <th>12</th>\n      <td>T25</td>\n      <td>3</td>\n    </tr>\n    <tr>\n      <th>13</th>\n      <td>T14</td>\n      <td>3</td>\n    </tr>\n    <tr>\n      <th>14</th>\n      <td>T29</td>\n      <td>2</td>\n    </tr>\n    <tr>\n      <th>15</th>\n      <td>T15</td>\n      <td>2</td>\n    </tr>\n    <tr>\n      <th>16</th>\n      <td>T17</td>\n      <td>1</td>\n    </tr>\n  </tbody>\n</table>\n</div>"
     },
     "execution_count": 5,
     "metadata": {},
     "output_type": "execute_result"
    }
   ],
   "source": [
    "# Look at APPLICATION_TYPE value counts for binning\n",
    "application_type_counts = application_df.APPLICATION_TYPE.value_counts().reset_index()\n",
    "application_type_counts"
   ]
  },
  {
   "cell_type": "code",
   "execution_count": 6,
   "metadata": {
    "ExecuteTime": {
     "end_time": "2024-01-19T17:15:26.656473Z",
     "start_time": "2024-01-19T17:15:26.637863Z"
    }
   },
   "outputs": [
    {
     "data": {
      "text/plain": "APPLICATION_TYPE\nT3       27037\nT4        1542\nT6        1216\nT5        1173\nT19       1065\nT8         737\nT7         725\nT10        528\nT9         156\nOther      120\nName: count, dtype: int64"
     },
     "execution_count": 6,
     "metadata": {},
     "output_type": "execute_result"
    }
   ],
   "source": [
    "# Choose a cutoff value and create a list of application types to be replaced\n",
    "bin_cutoff = 150\n",
    "cutoff_labels = list(application_type_counts[application_type_counts[\"count\"] < bin_cutoff]['APPLICATION_TYPE'])\n",
    "application_df['APPLICATION_TYPE'] = application_df['APPLICATION_TYPE'].apply(lambda x: 'Other' if x in cutoff_labels else x)\n",
    "\n",
    "# Replace in dataframe\n",
    "# for app in application_types_to_replace:\n",
    "#     application_df['APPLICATION_TYPE'] = application_df['APPLICATION_TYPE'].replace(app,\"Other\")\n",
    "\n",
    "# Check to make sure binning was successful\n",
    "application_df['APPLICATION_TYPE'].value_counts()"
   ]
  },
  {
   "cell_type": "code",
   "execution_count": 7,
   "metadata": {
    "ExecuteTime": {
     "end_time": "2024-01-19T17:15:26.657198Z",
     "start_time": "2024-01-19T17:15:26.650420Z"
    }
   },
   "outputs": [
    {
     "data": {
      "text/plain": "   CLASSIFICATION  count\n0           C1000  17326\n1           C2000   6074\n2           C1200   4837\n3           C3000   1918\n4           C2100   1883\n..            ...    ...\n66          C4120      1\n67          C8210      1\n68          C2561      1\n69          C4500      1\n70          C2150      1\n\n[71 rows x 2 columns]",
      "text/html": "<div>\n<style scoped>\n    .dataframe tbody tr th:only-of-type {\n        vertical-align: middle;\n    }\n\n    .dataframe tbody tr th {\n        vertical-align: top;\n    }\n\n    .dataframe thead th {\n        text-align: right;\n    }\n</style>\n<table border=\"1\" class=\"dataframe\">\n  <thead>\n    <tr style=\"text-align: right;\">\n      <th></th>\n      <th>CLASSIFICATION</th>\n      <th>count</th>\n    </tr>\n  </thead>\n  <tbody>\n    <tr>\n      <th>0</th>\n      <td>C1000</td>\n      <td>17326</td>\n    </tr>\n    <tr>\n      <th>1</th>\n      <td>C2000</td>\n      <td>6074</td>\n    </tr>\n    <tr>\n      <th>2</th>\n      <td>C1200</td>\n      <td>4837</td>\n    </tr>\n    <tr>\n      <th>3</th>\n      <td>C3000</td>\n      <td>1918</td>\n    </tr>\n    <tr>\n      <th>4</th>\n      <td>C2100</td>\n      <td>1883</td>\n    </tr>\n    <tr>\n      <th>...</th>\n      <td>...</td>\n      <td>...</td>\n    </tr>\n    <tr>\n      <th>66</th>\n      <td>C4120</td>\n      <td>1</td>\n    </tr>\n    <tr>\n      <th>67</th>\n      <td>C8210</td>\n      <td>1</td>\n    </tr>\n    <tr>\n      <th>68</th>\n      <td>C2561</td>\n      <td>1</td>\n    </tr>\n    <tr>\n      <th>69</th>\n      <td>C4500</td>\n      <td>1</td>\n    </tr>\n    <tr>\n      <th>70</th>\n      <td>C2150</td>\n      <td>1</td>\n    </tr>\n  </tbody>\n</table>\n<p>71 rows × 2 columns</p>\n</div>"
     },
     "execution_count": 7,
     "metadata": {},
     "output_type": "execute_result"
    }
   ],
   "source": [
    "# Look at CLASSIFICATION value counts for binning\n",
    "classification_type_counts = application_df['CLASSIFICATION'].value_counts().reset_index()\n",
    "classification_type_counts"
   ]
  },
  {
   "cell_type": "code",
   "execution_count": 8,
   "metadata": {
    "ExecuteTime": {
     "end_time": "2024-01-19T17:15:26.667580Z",
     "start_time": "2024-01-19T17:15:26.654338Z"
    }
   },
   "outputs": [
    {
     "data": {
      "text/plain": "CLASSIFICATION\nC1000    17326\nC2000     6074\nC1200     4837\nC3000     1918\nC2100     1883\nC7000      777\nC1700      287\nC4000      194\nC5000      116\nC1270      114\nC2700      104\nC2800       95\nC7100       75\nC1300       58\nC1280       50\nC1230       36\nC1400       34\nC7200       32\nC2300       32\nC1240       30\nC8000       20\nC7120       18\nC1500       16\nC1800       15\nC6000       15\nC1250       14\nC8200       11\nC1238       10\nC1278       10\nC1237        9\nC1235        9\nC7210        7\nC4100        6\nC1720        6\nC2400        6\nC1600        5\nC1257        5\nC1260        3\nC2710        3\nC0           3\nC1267        2\nC1256        2\nC1234        2\nC1246        2\nC3200        2\nName: count, dtype: int64"
     },
     "execution_count": 8,
     "metadata": {},
     "output_type": "execute_result"
    }
   ],
   "source": [
    "# You may find it helpful to look at CLASSIFICATION value counts >1\n",
    "threshold = 1\n",
    "cutoff_labels = list(classification_type_counts[classification_type_counts[\"count\"] <= threshold]['CLASSIFICATION'])\n",
    "application_df = application_df[~application_df['CLASSIFICATION'].isin(cutoff_labels)]\n",
    "\n",
    "application_df['CLASSIFICATION'].value_counts()"
   ]
  },
  {
   "cell_type": "code",
   "execution_count": 9,
   "metadata": {
    "ExecuteTime": {
     "end_time": "2024-01-19T17:15:26.782601Z",
     "start_time": "2024-01-19T17:15:26.661319Z"
    }
   },
   "outputs": [
    {
     "data": {
      "text/plain": "CLASSIFICATION\nC1000    17326\nC2000     6074\nC1200     4837\nOther     2235\nC3000     1918\nC2100     1883\nName: count, dtype: int64"
     },
     "execution_count": 9,
     "metadata": {},
     "output_type": "execute_result"
    }
   ],
   "source": [
    "# Choose a cutoff value and create a list of classifications to be replaced\n",
    "# use the variable name `classifications_to_replace`\n",
    "threshold = 1000\n",
    "classifications_to_replace = list(classification_type_counts[classification_type_counts[\"count\"] <= 1000]['CLASSIFICATION'])\n",
    "\n",
    "# Replace in dataframe\n",
    "for cls in classifications_to_replace:\n",
    "    application_df['CLASSIFICATION'] = application_df['CLASSIFICATION'].replace(cls,\"Other\")\n",
    "    \n",
    "# Check to make sure binning was successful\n",
    "application_df['CLASSIFICATION'].value_counts()"
   ]
  },
  {
   "cell_type": "code",
   "execution_count": 10,
   "outputs": [
    {
     "name": "stdout",
     "output_type": "stream",
     "text": [
      "<class 'pandas.core.frame.DataFrame'>\n",
      "Index: 34273 entries, 0 to 34298\n",
      "Data columns (total 11 columns):\n",
      " #   Column                  Non-Null Count  Dtype \n",
      "---  ------                  --------------  ----- \n",
      " 0   NAME                    34273 non-null  object\n",
      " 1   APPLICATION_TYPE        34273 non-null  object\n",
      " 2   AFFILIATION             34273 non-null  object\n",
      " 3   CLASSIFICATION          34273 non-null  object\n",
      " 4   USE_CASE                34273 non-null  object\n",
      " 5   ORGANIZATION            34273 non-null  object\n",
      " 6   STATUS                  34273 non-null  int64 \n",
      " 7   INCOME_AMT              34273 non-null  object\n",
      " 8   SPECIAL_CONSIDERATIONS  34273 non-null  object\n",
      " 9   ASK_AMT                 34273 non-null  int64 \n",
      " 10  IS_SUCCESSFUL           34273 non-null  int64 \n",
      "dtypes: int64(3), object(8)\n",
      "memory usage: 3.1+ MB\n"
     ]
    }
   ],
   "source": [
    "# Look at feature types\n",
    "application_df.info()"
   ],
   "metadata": {
    "collapsed": false,
    "ExecuteTime": {
     "end_time": "2024-01-19T17:15:26.788937Z",
     "start_time": "2024-01-19T17:15:26.783679Z"
    }
   }
  },
  {
   "cell_type": "code",
   "execution_count": 11,
   "outputs": [],
   "source": [
    "# Convert categorical data to numeric with `pd.get_dummies`\n",
    "obj_columns = application_df.select_dtypes('object').columns\n",
    "obj_columns = obj_columns.drop('NAME')\n",
    "\n",
    "application_df = pd.get_dummies(application_df, columns=obj_columns)"
   ],
   "metadata": {
    "collapsed": false,
    "ExecuteTime": {
     "end_time": "2024-01-19T17:15:26.824738Z",
     "start_time": "2024-01-19T17:15:26.789741Z"
    }
   }
  },
  {
   "cell_type": "code",
   "execution_count": 12,
   "outputs": [
    {
     "data": {
      "text/plain": "IS_SUCCESSFUL\n1    0.532285\n0    0.467715\nName: proportion, dtype: float64"
     },
     "execution_count": 12,
     "metadata": {},
     "output_type": "execute_result"
    }
   ],
   "source": [
    "# Check class balance\n",
    "application_df['IS_SUCCESSFUL'].value_counts(normalize=True)"
   ],
   "metadata": {
    "collapsed": false,
    "ExecuteTime": {
     "end_time": "2024-01-19T17:15:26.832117Z",
     "start_time": "2024-01-19T17:15:26.814320Z"
    }
   }
  },
  {
   "cell_type": "code",
   "execution_count": 13,
   "outputs": [
    {
     "data": {
      "text/plain": "                                                    NAME  STATUS   ASK_AMT  \\\n0                           BLUE KNIGHTS MOTORCYCLE CLUB       1      5000   \n1                 AMERICAN CHESAPEAKE CLUB CHARITABLE TR       1    108590   \n2                     ST CLOUD PROFESSIONAL FIREFIGHTERS       1      5000   \n3                         SOUTHSIDE ATHLETIC ASSOCIATION       1      6692   \n4               GENETIC RESEARCH INSTITUTE OF THE DESERT       1    142590   \n...                                                  ...     ...       ...   \n34294              THE LIONS CLUB OF HONOLULU KAMEHAMEHA       1      5000   \n34295           INTERNATIONAL ASSOCIATION OF LIONS CLUBS       1      5000   \n34296                                PTA HAWAII CONGRESS       1      5000   \n34297  AMERICAN FEDERATION OF GOVERNMENT EMPLOYEES LO...       1      5000   \n34298                           WATERHOUSE CHARITABLE TR       1  36500179   \n\n       IS_SUCCESSFUL  APPLICATION_TYPE_Other  APPLICATION_TYPE_T10  \\\n0                  1                   False                  True   \n1                  1                   False                 False   \n2                  0                   False                 False   \n3                  1                   False                 False   \n4                  1                   False                 False   \n...              ...                     ...                   ...   \n34294              0                   False                 False   \n34295              0                   False                 False   \n34296              0                   False                 False   \n34297              1                   False                 False   \n34298              0                   False                 False   \n\n       APPLICATION_TYPE_T19  APPLICATION_TYPE_T3  APPLICATION_TYPE_T4  \\\n0                     False                False                False   \n1                     False                 True                False   \n2                     False                False                False   \n3                     False                 True                False   \n4                     False                 True                False   \n...                     ...                  ...                  ...   \n34294                 False                False                 True   \n34295                 False                False                 True   \n34296                 False                 True                False   \n34297                 False                False                False   \n34298                 False                 True                False   \n\n       APPLICATION_TYPE_T5  ...  INCOME_AMT_1-9999  INCOME_AMT_10000-24999  \\\n0                    False  ...              False                   False   \n1                    False  ...               True                   False   \n2                     True  ...              False                   False   \n3                    False  ...              False                    True   \n4                    False  ...              False                   False   \n...                    ...  ...                ...                     ...   \n34294                False  ...              False                   False   \n34295                False  ...              False                   False   \n34296                False  ...              False                   False   \n34297                 True  ...              False                   False   \n34298                False  ...              False                   False   \n\n       INCOME_AMT_100000-499999  INCOME_AMT_10M-50M  INCOME_AMT_1M-5M  \\\n0                         False               False             False   \n1                         False               False             False   \n2                         False               False             False   \n3                         False               False             False   \n4                          True               False             False   \n...                         ...                 ...               ...   \n34294                     False               False             False   \n34295                     False               False             False   \n34296                     False               False             False   \n34297                     False               False             False   \n34298                     False               False              True   \n\n       INCOME_AMT_25000-99999  INCOME_AMT_50M+  INCOME_AMT_5M-10M  \\\n0                       False            False              False   \n1                       False            False              False   \n2                       False            False              False   \n3                       False            False              False   \n4                       False            False              False   \n...                       ...              ...                ...   \n34294                   False            False              False   \n34295                   False            False              False   \n34296                   False            False              False   \n34297                   False            False              False   \n34298                   False            False              False   \n\n       SPECIAL_CONSIDERATIONS_N  SPECIAL_CONSIDERATIONS_Y  \n0                          True                     False  \n1                          True                     False  \n2                          True                     False  \n3                          True                     False  \n4                          True                     False  \n...                         ...                       ...  \n34294                      True                     False  \n34295                      True                     False  \n34296                      True                     False  \n34297                      True                     False  \n34298                      True                     False  \n\n[34273 rows x 46 columns]",
      "text/html": "<div>\n<style scoped>\n    .dataframe tbody tr th:only-of-type {\n        vertical-align: middle;\n    }\n\n    .dataframe tbody tr th {\n        vertical-align: top;\n    }\n\n    .dataframe thead th {\n        text-align: right;\n    }\n</style>\n<table border=\"1\" class=\"dataframe\">\n  <thead>\n    <tr style=\"text-align: right;\">\n      <th></th>\n      <th>NAME</th>\n      <th>STATUS</th>\n      <th>ASK_AMT</th>\n      <th>IS_SUCCESSFUL</th>\n      <th>APPLICATION_TYPE_Other</th>\n      <th>APPLICATION_TYPE_T10</th>\n      <th>APPLICATION_TYPE_T19</th>\n      <th>APPLICATION_TYPE_T3</th>\n      <th>APPLICATION_TYPE_T4</th>\n      <th>APPLICATION_TYPE_T5</th>\n      <th>...</th>\n      <th>INCOME_AMT_1-9999</th>\n      <th>INCOME_AMT_10000-24999</th>\n      <th>INCOME_AMT_100000-499999</th>\n      <th>INCOME_AMT_10M-50M</th>\n      <th>INCOME_AMT_1M-5M</th>\n      <th>INCOME_AMT_25000-99999</th>\n      <th>INCOME_AMT_50M+</th>\n      <th>INCOME_AMT_5M-10M</th>\n      <th>SPECIAL_CONSIDERATIONS_N</th>\n      <th>SPECIAL_CONSIDERATIONS_Y</th>\n    </tr>\n  </thead>\n  <tbody>\n    <tr>\n      <th>0</th>\n      <td>BLUE KNIGHTS MOTORCYCLE CLUB</td>\n      <td>1</td>\n      <td>5000</td>\n      <td>1</td>\n      <td>False</td>\n      <td>True</td>\n      <td>False</td>\n      <td>False</td>\n      <td>False</td>\n      <td>False</td>\n      <td>...</td>\n      <td>False</td>\n      <td>False</td>\n      <td>False</td>\n      <td>False</td>\n      <td>False</td>\n      <td>False</td>\n      <td>False</td>\n      <td>False</td>\n      <td>True</td>\n      <td>False</td>\n    </tr>\n    <tr>\n      <th>1</th>\n      <td>AMERICAN CHESAPEAKE CLUB CHARITABLE TR</td>\n      <td>1</td>\n      <td>108590</td>\n      <td>1</td>\n      <td>False</td>\n      <td>False</td>\n      <td>False</td>\n      <td>True</td>\n      <td>False</td>\n      <td>False</td>\n      <td>...</td>\n      <td>True</td>\n      <td>False</td>\n      <td>False</td>\n      <td>False</td>\n      <td>False</td>\n      <td>False</td>\n      <td>False</td>\n      <td>False</td>\n      <td>True</td>\n      <td>False</td>\n    </tr>\n    <tr>\n      <th>2</th>\n      <td>ST CLOUD PROFESSIONAL FIREFIGHTERS</td>\n      <td>1</td>\n      <td>5000</td>\n      <td>0</td>\n      <td>False</td>\n      <td>False</td>\n      <td>False</td>\n      <td>False</td>\n      <td>False</td>\n      <td>True</td>\n      <td>...</td>\n      <td>False</td>\n      <td>False</td>\n      <td>False</td>\n      <td>False</td>\n      <td>False</td>\n      <td>False</td>\n      <td>False</td>\n      <td>False</td>\n      <td>True</td>\n      <td>False</td>\n    </tr>\n    <tr>\n      <th>3</th>\n      <td>SOUTHSIDE ATHLETIC ASSOCIATION</td>\n      <td>1</td>\n      <td>6692</td>\n      <td>1</td>\n      <td>False</td>\n      <td>False</td>\n      <td>False</td>\n      <td>True</td>\n      <td>False</td>\n      <td>False</td>\n      <td>...</td>\n      <td>False</td>\n      <td>True</td>\n      <td>False</td>\n      <td>False</td>\n      <td>False</td>\n      <td>False</td>\n      <td>False</td>\n      <td>False</td>\n      <td>True</td>\n      <td>False</td>\n    </tr>\n    <tr>\n      <th>4</th>\n      <td>GENETIC RESEARCH INSTITUTE OF THE DESERT</td>\n      <td>1</td>\n      <td>142590</td>\n      <td>1</td>\n      <td>False</td>\n      <td>False</td>\n      <td>False</td>\n      <td>True</td>\n      <td>False</td>\n      <td>False</td>\n      <td>...</td>\n      <td>False</td>\n      <td>False</td>\n      <td>True</td>\n      <td>False</td>\n      <td>False</td>\n      <td>False</td>\n      <td>False</td>\n      <td>False</td>\n      <td>True</td>\n      <td>False</td>\n    </tr>\n    <tr>\n      <th>...</th>\n      <td>...</td>\n      <td>...</td>\n      <td>...</td>\n      <td>...</td>\n      <td>...</td>\n      <td>...</td>\n      <td>...</td>\n      <td>...</td>\n      <td>...</td>\n      <td>...</td>\n      <td>...</td>\n      <td>...</td>\n      <td>...</td>\n      <td>...</td>\n      <td>...</td>\n      <td>...</td>\n      <td>...</td>\n      <td>...</td>\n      <td>...</td>\n      <td>...</td>\n      <td>...</td>\n    </tr>\n    <tr>\n      <th>34294</th>\n      <td>THE LIONS CLUB OF HONOLULU KAMEHAMEHA</td>\n      <td>1</td>\n      <td>5000</td>\n      <td>0</td>\n      <td>False</td>\n      <td>False</td>\n      <td>False</td>\n      <td>False</td>\n      <td>True</td>\n      <td>False</td>\n      <td>...</td>\n      <td>False</td>\n      <td>False</td>\n      <td>False</td>\n      <td>False</td>\n      <td>False</td>\n      <td>False</td>\n      <td>False</td>\n      <td>False</td>\n      <td>True</td>\n      <td>False</td>\n    </tr>\n    <tr>\n      <th>34295</th>\n      <td>INTERNATIONAL ASSOCIATION OF LIONS CLUBS</td>\n      <td>1</td>\n      <td>5000</td>\n      <td>0</td>\n      <td>False</td>\n      <td>False</td>\n      <td>False</td>\n      <td>False</td>\n      <td>True</td>\n      <td>False</td>\n      <td>...</td>\n      <td>False</td>\n      <td>False</td>\n      <td>False</td>\n      <td>False</td>\n      <td>False</td>\n      <td>False</td>\n      <td>False</td>\n      <td>False</td>\n      <td>True</td>\n      <td>False</td>\n    </tr>\n    <tr>\n      <th>34296</th>\n      <td>PTA HAWAII CONGRESS</td>\n      <td>1</td>\n      <td>5000</td>\n      <td>0</td>\n      <td>False</td>\n      <td>False</td>\n      <td>False</td>\n      <td>True</td>\n      <td>False</td>\n      <td>False</td>\n      <td>...</td>\n      <td>False</td>\n      <td>False</td>\n      <td>False</td>\n      <td>False</td>\n      <td>False</td>\n      <td>False</td>\n      <td>False</td>\n      <td>False</td>\n      <td>True</td>\n      <td>False</td>\n    </tr>\n    <tr>\n      <th>34297</th>\n      <td>AMERICAN FEDERATION OF GOVERNMENT EMPLOYEES LO...</td>\n      <td>1</td>\n      <td>5000</td>\n      <td>1</td>\n      <td>False</td>\n      <td>False</td>\n      <td>False</td>\n      <td>False</td>\n      <td>False</td>\n      <td>True</td>\n      <td>...</td>\n      <td>False</td>\n      <td>False</td>\n      <td>False</td>\n      <td>False</td>\n      <td>False</td>\n      <td>False</td>\n      <td>False</td>\n      <td>False</td>\n      <td>True</td>\n      <td>False</td>\n    </tr>\n    <tr>\n      <th>34298</th>\n      <td>WATERHOUSE CHARITABLE TR</td>\n      <td>1</td>\n      <td>36500179</td>\n      <td>0</td>\n      <td>False</td>\n      <td>False</td>\n      <td>False</td>\n      <td>True</td>\n      <td>False</td>\n      <td>False</td>\n      <td>...</td>\n      <td>False</td>\n      <td>False</td>\n      <td>False</td>\n      <td>False</td>\n      <td>True</td>\n      <td>False</td>\n      <td>False</td>\n      <td>False</td>\n      <td>True</td>\n      <td>False</td>\n    </tr>\n  </tbody>\n</table>\n<p>34273 rows × 46 columns</p>\n</div>"
     },
     "execution_count": 13,
     "metadata": {},
     "output_type": "execute_result"
    }
   ],
   "source": [
    "application_df"
   ],
   "metadata": {
    "collapsed": false,
    "ExecuteTime": {
     "end_time": "2024-01-19T17:15:26.833178Z",
     "start_time": "2024-01-19T17:15:26.817465Z"
    }
   }
  },
  {
   "cell_type": "code",
   "execution_count": 14,
   "metadata": {
    "ExecuteTime": {
     "end_time": "2024-01-19T17:15:26.835351Z",
     "start_time": "2024-01-19T17:15:26.827879Z"
    }
   },
   "outputs": [],
   "source": [
    "# Split our preprocessed data into our features and target arrays\n",
    "labels = application_df['IS_SUCCESSFUL']\n",
    "features = application_df.drop(['IS_SUCCESSFUL'], axis=1)\n",
    "\n",
    "# Split the preprocessed data into a training and testing dataset\n",
    "# I chose test size 10% because there are 34000 entries\n",
    "X_train, X_test, y_train, y_test = train_test_split(features, labels, random_state=0, test_size=0.1)"
   ]
  },
  {
   "cell_type": "code",
   "execution_count": 15,
   "outputs": [],
   "source": [
    "# Convert Name\n",
    "from sklearn.feature_extraction.text import CountVectorizer\n",
    "\n",
    "vectorizer= CountVectorizer()\n",
    "train_vectorized = vectorizer.fit_transform(X_train['NAME']).toarray()\n",
    "\n",
    "test_vectorized = vectorizer.transform(X_test['NAME']).toarray()\n"
   ],
   "metadata": {
    "collapsed": false,
    "ExecuteTime": {
     "end_time": "2024-01-19T17:15:27.131985Z",
     "start_time": "2024-01-19T17:15:26.834424Z"
    }
   }
  },
  {
   "cell_type": "code",
   "execution_count": 16,
   "outputs": [],
   "source": [
    "# Drop names to re-add later\n",
    "X_train.drop(\"NAME\", inplace=True, axis=1)\n",
    "X_test.drop(\"NAME\", inplace=True, axis=1)"
   ],
   "metadata": {
    "collapsed": false,
    "ExecuteTime": {
     "end_time": "2024-01-19T17:15:27.139080Z",
     "start_time": "2024-01-19T17:15:27.133317Z"
    }
   }
  },
  {
   "cell_type": "code",
   "execution_count": 17,
   "outputs": [
    {
     "name": "stdout",
     "output_type": "stream",
     "text": [
      "Shapes\n",
      "(30845, 44) (3428, 44)\n",
      "(30845,) (3428,)\n"
     ]
    }
   ],
   "source": [
    "# Create a StandardScaler instances\n",
    "scaler = StandardScaler()\n",
    "\n",
    "# Fit the StandardScaler\n",
    "X_scaler = scaler.fit(X_train)\n",
    "\n",
    "# Scale the data\n",
    "X_train_scaled = X_scaler.transform(X_train)\n",
    "X_test_scaled = X_scaler.transform(X_test)\n",
    "\n",
    "print('Shapes')\n",
    "print(X_train_scaled.shape, X_test_scaled.shape)\n",
    "print(y_train.shape, y_test.shape)"
   ],
   "metadata": {
    "collapsed": false,
    "ExecuteTime": {
     "end_time": "2024-01-19T17:15:27.177778Z",
     "start_time": "2024-01-19T17:15:27.139162Z"
    }
   }
  },
  {
   "cell_type": "code",
   "execution_count": 18,
   "outputs": [],
   "source": [
    "# Convert train and test sets to int, append vecrotized names\n",
    "X_train_scaled = X_train_scaled.astype('int')\n",
    "X_test_scaled = X_test_scaled.astype('int')\n",
    "\n",
    "X_train_scaled = np.concatenate([X_train_scaled, train_vectorized], axis=1)\n",
    "X_test_scaled = np.concatenate([X_test_scaled, test_vectorized], axis=1)"
   ],
   "metadata": {
    "collapsed": false,
    "ExecuteTime": {
     "end_time": "2024-01-19T17:15:28.281441Z",
     "start_time": "2024-01-19T17:15:27.507083Z"
    }
   }
  },
  {
   "cell_type": "code",
   "execution_count": 19,
   "outputs": [
    {
     "name": "stdout",
     "output_type": "stream",
     "text": [
      "Shapes\n",
      "(30845, 13557) (3428, 13557)\n",
      "(30845,) (3428,)\n"
     ]
    }
   ],
   "source": [
    "print('Shapes')\n",
    "print(X_train_scaled.shape, X_test_scaled.shape)\n",
    "print(y_train.shape, y_test.shape)"
   ],
   "metadata": {
    "collapsed": false,
    "ExecuteTime": {
     "end_time": "2024-01-19T17:15:28.288104Z",
     "start_time": "2024-01-19T17:15:28.282660Z"
    }
   }
  },
  {
   "cell_type": "markdown",
   "source": [
    "## Compile, Train and Evaluate the Model"
   ],
   "metadata": {
    "collapsed": false
   }
  },
  {
   "cell_type": "code",
   "execution_count": 20,
   "outputs": [],
   "source": [
    "# Define the model - deep neural net, i.e., the number of input features and hidden nodes for each layer.\n",
    "# Model 1 diverged, probably best to reduce model complexity to 8 and 4\n",
    "tf.random.set_seed(42)\n",
    "\n",
    "def build_nn_optimized(hp):\n",
    "    optimizer = tf.keras.optimizers.legacy.Adam(learning_rate=0.001)\n",
    "    tf.keras.backend.clear_session()\n",
    "    nn_base = tf.keras.models.Sequential()\n",
    "    nn_base.add(tf.keras.layers.InputLayer(input_shape=X_train_scaled.shape[1],))\n",
    "    for i in range(hp.Int('num_layers', 1, 3)):\n",
    "        nn_base.add(tf.keras.layers.Dense(units=hp.Int(f'units_{i}',\n",
    "                                                       min_value=4,\n",
    "                                                       max_value=128,\n",
    "                                                       step=2),\n",
    "                                                       activation='relu'))\n",
    "        # Implementation of dropout layers\n",
    "        nn_base.add(tf.keras.layers.Dropout(hp.Float(f'dropout_{i}',\n",
    "                                                     min_value=0.5,\n",
    "                                                     max_value=0.9,\n",
    "                                                     step=0.05)))\n",
    "\n",
    "# Output layer\n",
    "    nn_base.add(tf.keras.layers.Dense(1, activation='sigmoid'))\n",
    "    nn_base.compile(optimizer=optimizer, metrics=['accuracy'], loss='binary_crossentropy')\n",
    "    return nn_base"
   ],
   "metadata": {
    "collapsed": false,
    "ExecuteTime": {
     "end_time": "2024-01-19T17:15:28.541382Z",
     "start_time": "2024-01-19T17:15:28.535281Z"
    }
   }
  },
  {
   "cell_type": "code",
   "execution_count": 21,
   "outputs": [
    {
     "name": "stdout",
     "output_type": "stream",
     "text": [
      "Reloading Tuner from ./untitled_project/tuner0.json\n"
     ]
    }
   ],
   "source": [
    "import keras_tuner as kt\n",
    "\n",
    "tuner = kt.Hyperband(\n",
    "    build_nn_optimized,\n",
    "    objective=\"val_accuracy\",\n",
    "    max_epochs=30,\n",
    "    hyperband_iterations=5)\n",
    "\n",
    "# Run the kerastuner search for best hyperparameters\n",
    "tuner.search(X_train_scaled,y_train,epochs=20,validation_data=(X_test_scaled,y_test))"
   ],
   "metadata": {
    "collapsed": false,
    "ExecuteTime": {
     "end_time": "2024-01-19T17:15:29.350062Z",
     "start_time": "2024-01-19T17:15:29.121781Z"
    }
   }
  },
  {
   "cell_type": "code",
   "execution_count": 22,
   "outputs": [
    {
     "data": {
      "text/plain": "{'num_layers': 3,\n 'units_0': 82,\n 'dropout_0': 0.6,\n 'units_1': 24,\n 'dropout_1': 0.55,\n 'units_2': 128,\n 'dropout_2': 0.55,\n 'tuner/epochs': 4,\n 'tuner/initial_epoch': 2,\n 'tuner/bracket': 3,\n 'tuner/round': 1,\n 'tuner/trial_id': '0188'}"
     },
     "execution_count": 22,
     "metadata": {},
     "output_type": "execute_result"
    }
   ],
   "source": [
    "best_hyper = tuner.get_best_hyperparameters(1)[0]\n",
    "best_hyper.values"
   ],
   "metadata": {
    "collapsed": false,
    "ExecuteTime": {
     "end_time": "2024-01-19T17:15:35.302807Z",
     "start_time": "2024-01-19T17:15:35.299872Z"
    }
   }
  },
  {
   "cell_type": "code",
   "execution_count": 49,
   "outputs": [
    {
     "name": "stdout",
     "output_type": "stream",
     "text": [
      "Model: \"sequential\"\n",
      "_________________________________________________________________\n",
      " Layer (type)                Output Shape              Param #   \n",
      "=================================================================\n",
      " dense (Dense)               (None, 82)                1111756   \n",
      "                                                                 \n",
      " dropout (Dropout)           (None, 82)                0         \n",
      "                                                                 \n",
      " dense_1 (Dense)             (None, 24)                1992      \n",
      "                                                                 \n",
      " dropout_1 (Dropout)         (None, 24)                0         \n",
      "                                                                 \n",
      " dense_2 (Dense)             (None, 128)               3200      \n",
      "                                                                 \n",
      " dropout_2 (Dropout)         (None, 128)               0         \n",
      "                                                                 \n",
      " dense_3 (Dense)             (None, 1)                 129       \n",
      "                                                                 \n",
      "=================================================================\n",
      "Total params: 1117077 (4.26 MB)\n",
      "Trainable params: 1117077 (4.26 MB)\n",
      "Non-trainable params: 0 (0.00 Byte)\n",
      "_________________________________________________________________\n"
     ]
    }
   ],
   "source": [
    "# Build model\n",
    "model = build_nn_optimized(best_hyper)\n",
    "model.summary()"
   ],
   "metadata": {
    "collapsed": false,
    "ExecuteTime": {
     "end_time": "2024-01-19T17:19:42.999182Z",
     "start_time": "2024-01-19T17:19:42.932657Z"
    }
   }
  },
  {
   "cell_type": "code",
   "execution_count": 50,
   "outputs": [],
   "source": [
    "# Train the model\n",
    "es = tf.keras.callbacks.EarlyStopping(monitor='val_loss', mode='min', restore_best_weights=True, patience=2)\n",
    "\n",
    "def train_nn_model(nn, X, y, Xt, yt):\n",
    "    history = nn.fit(X, y, epochs=3, verbose=1, validation_data=(Xt, yt), callbacks=[es], batch_size=256)\n",
    "    return history\n",
    "\n",
    "\n",
    "def plot_accuracy_loss(history):\n",
    "    fig, ax = plt.subplots(1, 2, figsize=(16,8))\n",
    "    ax[1].plot(history.history['accuracy'], label='accuracy')\n",
    "    ax[1].plot(history.history['val_accuracy'], label='val_accuracy')\n",
    "    ax[1].set_title('Accuracy Metrics')\n",
    "    ax[1].set_ylabel('Accuracy %')\n",
    "    ax[1].set_xlabel('epoch')\n",
    "    ax[1].legend(loc='best')\n",
    "    ax[0].plot(history.history['loss'], label='loss')\n",
    "    ax[0].plot(history.history['val_loss'], label='val_loss')\n",
    "    ax[0].set_title('Loss Metrics')\n",
    "    ax[0].set_ylabel('Loss %')\n",
    "    ax[0].set_xlabel('epoch')\n",
    "    ax[0].legend(loc='best')\n",
    "    return fig"
   ],
   "metadata": {
    "collapsed": false,
    "ExecuteTime": {
     "end_time": "2024-01-19T17:19:43.235988Z",
     "start_time": "2024-01-19T17:19:43.231039Z"
    }
   }
  },
  {
   "cell_type": "code",
   "execution_count": 51,
   "outputs": [
    {
     "name": "stdout",
     "output_type": "stream",
     "text": [
      "Epoch 1/3\n",
      "121/121 [==============================] - 2s 10ms/step - loss: 0.6078 - accuracy: 0.6802 - val_loss: 0.4627 - val_accuracy: 0.8069\n",
      "Epoch 2/3\n",
      "121/121 [==============================] - 1s 9ms/step - loss: 0.4679 - accuracy: 0.8036 - val_loss: 0.4170 - val_accuracy: 0.8209\n",
      "Epoch 3/3\n",
      "121/121 [==============================] - 1s 9ms/step - loss: 0.4222 - accuracy: 0.8256 - val_loss: 0.4040 - val_accuracy: 0.8296\n"
     ]
    }
   ],
   "source": [
    "# Train model\n",
    "history = train_nn_model(model, X_train_scaled, y_train, X_test_scaled, y_test)"
   ],
   "metadata": {
    "collapsed": false,
    "ExecuteTime": {
     "end_time": "2024-01-19T17:19:49.665026Z",
     "start_time": "2024-01-19T17:19:43.619118Z"
    }
   }
  },
  {
   "cell_type": "code",
   "execution_count": 52,
   "outputs": [
    {
     "data": {
      "text/plain": "<Figure size 1600x800 with 2 Axes>",
      "image/png": "[encoded data removed]"
     },
     "metadata": {},
     "output_type": "display_data"
    }
   ],
   "source": [
    "# Show plot\n",
    "fig = plot_accuracy_loss(history)"
   ],
   "metadata": {
    "collapsed": false,
    "ExecuteTime": {
     "end_time": "2024-01-19T17:19:49.843065Z",
     "start_time": "2024-01-19T17:19:49.656595Z"
    }
   }
  },
  {
   "cell_type": "code",
   "execution_count": 54,
   "outputs": [],
   "source": [
    "# Save figure\n",
    "fig.savefig(f'../Images/model_1_2_nlp_metrics/fnn-optimized-hpt.png')"
   ],
   "metadata": {
    "collapsed": false,
    "ExecuteTime": {
     "end_time": "2024-01-19T17:19:55.446596Z",
     "start_time": "2024-01-19T17:19:55.364208Z"
    }
   }
  },
  {
   "cell_type": "code",
   "execution_count": 53,
   "outputs": [
    {
     "name": "stdout",
     "output_type": "stream",
     "text": [
      "108/108 - 0s - loss: 0.4040 - accuracy: 0.8296 - 106ms/epoch - 984us/step\n",
      "Loss: 0.4039914906024933, Accuracy: 0.8296383023262024\n"
     ]
    }
   ],
   "source": [
    "# Evaluate the model using the test data\n",
    "model_loss, model_accuracy = model.evaluate(X_test_scaled,y_test,verbose=2)\n",
    "print(f\"Loss: {model_loss}, Accuracy: {model_accuracy}\")"
   ],
   "metadata": {
    "collapsed": false,
    "ExecuteTime": {
     "end_time": "2024-01-19T17:19:53.376619Z",
     "start_time": "2024-01-19T17:19:53.210803Z"
    }
   }
  },
  {
   "cell_type": "code",
   "execution_count": 55,
   "outputs": [],
   "source": [
    "# Export our model to HDF5 file\n",
    "nn_directory = \"Models/AlphabetSoupCharity_m1_optimized_hpt.h5\"\n",
    "# Save the model to a HDF5 file\n",
    "model.save(nn_directory)"
   ],
   "metadata": {
    "collapsed": false,
    "ExecuteTime": {
     "end_time": "2024-01-19T17:20:08.948660Z",
     "start_time": "2024-01-19T17:20:08.918309Z"
    }
   }
  },
  {
   "cell_type": "markdown",
   "source": [
    "# Summary\n",
    "\n",
    "* Vectorized `NAME` to see if branding plays a role in the company's success, this added 13513 features to the data.\n",
    "* Implemented EarlyStopping to minimize validation loss.\n",
    "* Used keras-tuner library to hyperparameter tune parameters. This improved model has 0.04% improved accuracy and has substantially increased performance. Validation data's loss and accuracy demonstrates that this model is good at generalizing data while minimizing error. This model reaches optimal performance after 2 epochs, instead of 37 in the un-tuned model.\n",
    "\n",
    "\n"
   ],
   "metadata": {
    "collapsed": false
   }
  },
  {
   "cell_type": "code",
   "execution_count": 60,
   "outputs": [
    {
     "name": "stdout",
     "output_type": "stream",
     "text": [
      "108/108 [==============================] - 0s 872us/step\n"
     ]
    }
   ],
   "source": [
    "from sklearn.metrics import confusion_matrix\n",
    "\n",
    "y_test_probability = model.predict(X_test_scaled)\n",
    "y_test_predictions = (y_test_probability > 0.5).astype(int)\n",
    "asc_m3_matrix = confusion_matrix(y_test, y_test_predictions)\n",
    "\n",
    "# Convert to dataframe\n",
    "asc_m3_matrix_df = pd.DataFrame(asc_m3_matrix, index=['Actual No', 'Actual Yes'], columns=['Predicted No', 'Predicted Yes'])\n"
   ],
   "metadata": {
    "collapsed": false,
    "ExecuteTime": {
     "end_time": "2024-01-19T17:31:14.858320Z",
     "start_time": "2024-01-19T17:31:14.688720Z"
    }
   }
  },
  {
   "cell_type": "code",
   "execution_count": 81,
   "outputs": [
    {
     "data": {
      "text/plain": "Text(0.5, 1.0, 'Confusion Matrix')"
     },
     "execution_count": 81,
     "metadata": {},
     "output_type": "execute_result"
    },
    {
     "data": {
      "text/plain": "<Figure size 640x480 with 1 Axes>",
      "image/png": "[encoded data removed]"
     },
     "metadata": {},
     "output_type": "display_data"
    }
   ],
   "source": [
    "import seaborn as sns\n",
    "\n",
    "heatmap = sns.heatmap(asc_m3_matrix_df, fmt='g', annot=True, cmap='Blues', cbar=False)\n",
    "heatmap.set_title('Confusion Matrix')"
   ],
   "metadata": {
    "collapsed": false,
    "ExecuteTime": {
     "end_time": "2024-01-19T17:35:15.512899Z",
     "start_time": "2024-01-19T17:35:15.456434Z"
    }
   }
  },
  {
   "cell_type": "code",
   "execution_count": null,
   "outputs": [],
   "source": [],
   "metadata": {
    "collapsed": false
   }
  }
 ],
 "metadata": {
  "kernelspec": {
   "name": "pythondata",
   "language": "python",
   "display_name": "PythonData"
  },
  "language_info": {
   "codemirror_mode": {
    "name": "ipython",
    "version": 3
   },
   "file_extension": ".py",
   "mimetype": "text/x-python",
   "name": "python",
   "nbconvert_exporter": "python",
   "pygments_lexer": "ipython3",
   "version": "3.-1.-1"
  },
  "vscode": {
   "interpreter": {
    "hash": "31f2aee4e71d21fbe5cf8b01ff0e069b9275f58929596ceb00d14d90e3e16cd6"
   }
  }
 },
 "nbformat": 4,
 "nbformat_minor": 4
}
